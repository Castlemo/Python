{
 "cells": [
  {
   "cell_type": "markdown",
   "id": "bf61b719",
   "metadata": {},
   "source": [
    "# 5장 자료구조"
   ]
  },
  {
   "cell_type": "markdown",
   "id": "5f095c95",
   "metadata": {},
   "source": [
    "## 5.1 리스트\n",
    "### 5.1.1 리스트 생성하기\n",
    "- 리스트명 = [값1, 값2, ...]\n",
    "- 빈 리스트 생성 > list = [ ]"
   ]
  },
  {
   "cell_type": "code",
   "execution_count": 157,
   "id": "b298beae",
   "metadata": {},
   "outputs": [],
   "source": [
    "# 지하철 칸 별로 10명, 20명, 30명 승차\n",
    "subway1 = 10\n",
    "subway2 = 20\n",
    "subway3 = 30"
   ]
  },
  {
   "cell_type": "code",
   "execution_count": 158,
   "id": "b41f5848",
   "metadata": {},
   "outputs": [
    {
     "name": "stdout",
     "output_type": "stream",
     "text": [
      "[10, 20, 30]\n"
     ]
    }
   ],
   "source": [
    "subway = [10, 20, 30]\n",
    "\n",
    "print(subway)"
   ]
  },
  {
   "cell_type": "markdown",
   "id": "64bcdc98",
   "metadata": {},
   "source": [
    "### 5.1.2 값 추가/삽입/삭제하기\n",
    "- 추가 append(추가할 값)\n",
    "- 원하는 위치에 삽입 insert(인덱스, 삽입할 값)"
   ]
  },
  {
   "cell_type": "code",
   "execution_count": 159,
   "id": "996ad61c",
   "metadata": {},
   "outputs": [
    {
     "name": "stdout",
     "output_type": "stream",
     "text": [
      "['푸', '피글렛', '티거']\n",
      "피글렛은 1번째 칸에 타고 있습니다.\n"
     ]
    }
   ],
   "source": [
    "subway = [\"푸\", \"피글렛\", \"티거\"]\n",
    "\n",
    "print(subway)\n",
    "\n",
    "# 피글렛이 몇 번째 칸에 탔는가?\n",
    "print(\"피글렛은 \" + str(subway.index(\"피글렛\")) + \"번째 칸에 타고 있습니다.\")"
   ]
  },
  {
   "cell_type": "code",
   "execution_count": 160,
   "id": "d619fd5b",
   "metadata": {},
   "outputs": [
    {
     "name": "stdout",
     "output_type": "stream",
     "text": [
      "['푸', '피글렛', '티거', '이요르']\n"
     ]
    }
   ],
   "source": [
    "# 이요르 탑승\n",
    "subway.append(\"이요르\")\n",
    "\n",
    "print(subway)"
   ]
  },
  {
   "cell_type": "code",
   "execution_count": 161,
   "id": "c246a0cb",
   "metadata": {},
   "outputs": [
    {
     "name": "stdout",
     "output_type": "stream",
     "text": [
      "['푸', '루', '피글렛', '티거', '이요르']\n"
     ]
    }
   ],
   "source": [
    "# 루를 푸와 피글렛 사이(인덱스 1 위치)에 삽입\n",
    "subway.insert(1, \"루\")\n",
    "\n",
    "print(subway)"
   ]
  },
  {
   "cell_type": "code",
   "execution_count": 162,
   "id": "6a462ae8",
   "metadata": {},
   "outputs": [
    {
     "name": "stdout",
     "output_type": "stream",
     "text": [
      "이요르\n",
      "['푸', '루', '피글렛', '티거']\n",
      "티거\n",
      "['푸', '루', '피글렛']\n",
      "피글렛\n",
      "['푸', '루']\n"
     ]
    }
   ],
   "source": [
    "print(subway.pop()) # 이요르 내림\n",
    "print(subway)\n",
    "\n",
    "print(subway.pop()) # 티거 내림\n",
    "print(subway)\n",
    "\n",
    "print(subway.pop()) # 피글렛 내림\n",
    "print(subway)"
   ]
  },
  {
   "cell_type": "code",
   "execution_count": 163,
   "id": "3dac7e98",
   "metadata": {},
   "outputs": [
    {
     "name": "stdout",
     "output_type": "stream",
     "text": [
      "[]\n"
     ]
    }
   ],
   "source": [
    "# 지하철에서 모두 내림\n",
    "subway.clear()\n",
    "print(subway)"
   ]
  },
  {
   "cell_type": "markdown",
   "id": "22725303",
   "metadata": {},
   "source": [
    "### 5.1.3 중복 값 확인하기"
   ]
  },
  {
   "cell_type": "code",
   "execution_count": 164,
   "id": "e461c643",
   "metadata": {},
   "outputs": [
    {
     "name": "stdout",
     "output_type": "stream",
     "text": [
      "['푸', '피글렛', '티거', '푸']\n",
      "2\n"
     ]
    }
   ],
   "source": [
    "# 같은 이름이 몇 명 있는지 확인\n",
    "subway = [\"푸\", \"피글렛\", \"티거\"]\n",
    "subway.append(\"푸\")\n",
    "\n",
    "print(subway)\n",
    "print(subway.count(\"푸\"))"
   ]
  },
  {
   "cell_type": "markdown",
   "id": "2ea0f457",
   "metadata": {},
   "source": [
    "### 5.1.4 리스트 정렬하기"
   ]
  },
  {
   "cell_type": "code",
   "execution_count": 165,
   "id": "379e357b",
   "metadata": {},
   "outputs": [
    {
     "name": "stdout",
     "output_type": "stream",
     "text": [
      "[1, 2, 3, 4, 5]\n",
      "[5, 4, 3, 2, 1]\n",
      "[1, 2, 3, 4, 5]\n"
     ]
    }
   ],
   "source": [
    "num_list = [5, 2, 4, 3, 1]\n",
    "\n",
    "num_list.sort() # 오름차순 정렬\n",
    "print(num_list)\n",
    "\n",
    "num_list.sort(reverse=True) # 내림차순 정렬\n",
    "print(num_list)\n",
    "\n",
    "num_list.reverse() # 순서 뒤집기\n",
    "print(num_list)"
   ]
  },
  {
   "cell_type": "code",
   "execution_count": 166,
   "id": "0749d0cd",
   "metadata": {},
   "outputs": [
    {
     "name": "stdout",
     "output_type": "stream",
     "text": [
      "[1, 2, 3]\n",
      "[1, 3, 2]\n",
      "[1, 2, 3]\n"
     ]
    }
   ],
   "source": [
    "# sorted() 리스트 정렬하기\n",
    "# sort() 함수는 정렬하면서 리스트 자체 값 저장\n",
    "# sorted()함수는 원본 리스트 변경 없이 정렬된 리스트 새로 생성\n",
    "\n",
    "my_list = [1,3,2]\n",
    "my_list.sort() # 리스트 정렬\n",
    "print(my_list) # my_list 리스트 데이터 정렬\n",
    "\n",
    "your_list = [1, 3, 2]\n",
    "new_list = sorted(your_list) # 정렬할 리스트를 소괄호에 넣음\n",
    "print(your_list) # your_list 리스트 데이터는 변경되지 않음\n",
    "print(new_list) # 정렬된 새로운 리스트"
   ]
  },
  {
   "cell_type": "markdown",
   "id": "bac26dfc",
   "metadata": {},
   "source": [
    "### 5.1.5 리스트 확장하기\n",
    "- 리스트1.extend(리스트2)"
   ]
  },
  {
   "cell_type": "code",
   "execution_count": 167,
   "id": "305cec04",
   "metadata": {},
   "outputs": [
    {
     "name": "stdout",
     "output_type": "stream",
     "text": [
      "['푸', 20, True, [5, 2, 4, 3, 1]]\n"
     ]
    }
   ],
   "source": [
    "# 같은 자료형일 필요 X\n",
    "mix_list = [\"푸\", 20, True, [5,2,4,3,1]]\n",
    "\n",
    "print(mix_list)"
   ]
  },
  {
   "cell_type": "code",
   "execution_count": 168,
   "id": "f4927258",
   "metadata": {},
   "outputs": [
    {
     "name": "stdout",
     "output_type": "stream",
     "text": [
      "['푸', 20, True]\n",
      "[5, 2, 4, 3, 1, '푸', 20, True]\n"
     ]
    }
   ],
   "source": [
    "mix_list = [\"푸\", 20, True]\n",
    "num_list = [5,2,4,3,1]\n",
    "num_list.extend(mix_list) # 리스트 합치기\n",
    "\n",
    "print(mix_list)\n",
    "print(num_list)"
   ]
  },
  {
   "cell_type": "markdown",
   "id": "58aff1e0",
   "metadata": {},
   "source": [
    "## 5.2 딕셔너리\n",
    "### 5.2.1 딕셔너리 생성하기\n",
    "- 딕셔너리명 = {key1: value1, key2: value2, ...}\n",
    "- 빈 딕셔너리 dict = { }"
   ]
  },
  {
   "cell_type": "code",
   "execution_count": 169,
   "id": "35fde296",
   "metadata": {},
   "outputs": [
    {
     "name": "stdout",
     "output_type": "stream",
     "text": [
      "푸\n",
      "피글렛\n"
     ]
    }
   ],
   "source": [
    "cabinet = {3: \"푸\", 100: \"피글렛\"}\n",
    "\n",
    "print(cabinet[3]) # key 3에 해당하는 value\n",
    "print(cabinet[100]) # key 100에 해당하는 value"
   ]
  },
  {
   "cell_type": "code",
   "execution_count": 170,
   "id": "dfff4f1b",
   "metadata": {},
   "outputs": [
    {
     "name": "stdout",
     "output_type": "stream",
     "text": [
      "푸\n"
     ]
    }
   ],
   "source": [
    "print(cabinet.get(3)) # key 3에 해당하는 value"
   ]
  },
  {
   "cell_type": "code",
   "execution_count": 171,
   "id": "07167b57",
   "metadata": {},
   "outputs": [
    {
     "name": "stdout",
     "output_type": "stream",
     "text": [
      "None\n",
      "Hi\n"
     ]
    }
   ],
   "source": [
    "# get 함수를 사용하면 정의되지 않은 값이어도 오류 발생하지 않고 none 값 출력\n",
    "print(cabinet.get(5))\n",
    "print(\"Hi\")\n",
    "\n",
    "# 대괄호를 사용할 때, 정의되지 않은 값을 전달하면 오류 발생\n",
    "# print(cabinet[5])\n",
    "# print(\"Hi\")\n"
   ]
  },
  {
   "cell_type": "code",
   "execution_count": 172,
   "id": "2e7b4f8c",
   "metadata": {},
   "outputs": [
    {
     "name": "stdout",
     "output_type": "stream",
     "text": [
      "사용 가능\n"
     ]
    }
   ],
   "source": [
    "print(cabinet.get(5, \"사용 가능\")) # key에 해당하는 값이 없을 때, \"사용 가능\" 이라는 기본값 정의"
   ]
  },
  {
   "cell_type": "code",
   "execution_count": 173,
   "id": "a6a21faf",
   "metadata": {},
   "outputs": [
    {
     "name": "stdout",
     "output_type": "stream",
     "text": [
      "True\n",
      "False\n",
      "True\n",
      "False\n"
     ]
    }
   ],
   "source": [
    "# in 연산자를 사용하면 해당 key가 딕셔너리에 있는지 확인할 수 있음.\n",
    "\n",
    "print(3 in cabinet)\n",
    "print(5 in cabinet)\n",
    "\n",
    "# in 연산자는 문자열에 해당 글자가 포함되는지 확인할 수도 있음/\n",
    "\n",
    "print(\"곰\" in \"곰돌이\")\n",
    "print(\"푸\" in \"곰돌이\")"
   ]
  },
  {
   "cell_type": "code",
   "execution_count": 174,
   "id": "90d3bcef",
   "metadata": {},
   "outputs": [
    {
     "name": "stdout",
     "output_type": "stream",
     "text": [
      "푸\n",
      "피글렛\n"
     ]
    }
   ],
   "source": [
    "# key 에는 정수형 뿐 아니라 문자열도 넣을 수 있음.\n",
    "\n",
    "cabinet = {\"A-3\": \"푸\", \"B-100\": \"피글렛\"}\n",
    "print(cabinet[\"A-3\"])\n",
    "print(cabinet[\"B-100\"])"
   ]
  },
  {
   "cell_type": "markdown",
   "id": "a3e77aaf",
   "metadata": {},
   "source": [
    "### 5.2.2 값 변경/추가/삭제하기"
   ]
  },
  {
   "cell_type": "code",
   "execution_count": 175,
   "id": "fb16e228",
   "metadata": {},
   "outputs": [
    {
     "name": "stdout",
     "output_type": "stream",
     "text": [
      "{'A-3': '푸', 'B-100': '피글렛'}\n",
      "{'A-3': '티거', 'B-100': '피글렛', 'C-20': '이요르'}\n"
     ]
    }
   ],
   "source": [
    "cabinet = {\"A-3\": \"푸\", \"B-100\": \"피글렛\"}\n",
    "print(cabinet)\n",
    "\n",
    "cabinet[\"A-3\"] = \"티거\" # key에 해당하는 값이 있을 때 -> 값 변경\n",
    "cabinet[\"C-20\"] = \"이요르\" # key에 해당하는 값이 없을 떄 -> 값 추가\n",
    "\n",
    "print(cabinet)"
   ]
  },
  {
   "cell_type": "code",
   "execution_count": 176,
   "id": "3a12e066",
   "metadata": {},
   "outputs": [
    {
     "name": "stdout",
     "output_type": "stream",
     "text": [
      "{'B-100': '피글렛', 'C-20': '이요르'}\n"
     ]
    }
   ],
   "source": [
    "del cabinet[\"A-3\"] # A-3에 해당하는 값 삭제\n",
    "print(cabinet)"
   ]
  },
  {
   "cell_type": "markdown",
   "id": "14dd3ba2",
   "metadata": {},
   "source": [
    "### 5.2.3 값 확인하기"
   ]
  },
  {
   "cell_type": "code",
   "execution_count": 177,
   "id": "d3747190",
   "metadata": {},
   "outputs": [
    {
     "name": "stdout",
     "output_type": "stream",
     "text": [
      "dict_keys(['B-100', 'C-20'])\n"
     ]
    }
   ],
   "source": [
    "print(cabinet.keys()) # key만 출력"
   ]
  },
  {
   "cell_type": "code",
   "execution_count": 178,
   "id": "0817f30f",
   "metadata": {},
   "outputs": [
    {
     "name": "stdout",
     "output_type": "stream",
     "text": [
      "dict_values(['피글렛', '이요르'])\n"
     ]
    }
   ],
   "source": [
    "print(cabinet.values()) # value만 출력"
   ]
  },
  {
   "cell_type": "code",
   "execution_count": 179,
   "id": "b02172ba",
   "metadata": {},
   "outputs": [
    {
     "name": "stdout",
     "output_type": "stream",
     "text": [
      "dict_items([('B-100', '피글렛'), ('C-20', '이요르')])\n"
     ]
    }
   ],
   "source": [
    "print(cabinet.items()) # key, value 한 쌍으로 출력"
   ]
  },
  {
   "cell_type": "code",
   "execution_count": 180,
   "id": "8820a687",
   "metadata": {},
   "outputs": [
    {
     "name": "stdout",
     "output_type": "stream",
     "text": [
      "{}\n"
     ]
    }
   ],
   "source": [
    "cabinet.clear() # 값 전체 삭제\n",
    "\n",
    "print(cabinet)"
   ]
  },
  {
   "cell_type": "markdown",
   "id": "512bf810",
   "metadata": {},
   "source": [
    "## 5.3 튜플\n",
    "- 튜플명 = (값1, 값2, ...)"
   ]
  },
  {
   "cell_type": "code",
   "execution_count": 181,
   "id": "9709b2df",
   "metadata": {},
   "outputs": [
    {
     "name": "stdout",
     "output_type": "stream",
     "text": [
      "돈가스\n",
      "치즈돈가스\n"
     ]
    }
   ],
   "source": [
    "menu = (\"돈가스\", \"치즈돈가스\")\n",
    "print(menu[0])\n",
    "print(menu[1])"
   ]
  },
  {
   "cell_type": "code",
   "execution_count": 182,
   "id": "e69b2441",
   "metadata": {},
   "outputs": [
    {
     "name": "stdout",
     "output_type": "stream",
     "text": [
      "피글렛 20 코딩\n"
     ]
    }
   ],
   "source": [
    "name = \"피글렛\"\n",
    "age = 20\n",
    "hobby = \"코딩\"\n",
    "print(name, age, hobby)"
   ]
  },
  {
   "cell_type": "code",
   "execution_count": 183,
   "id": "cfe58ed2",
   "metadata": {},
   "outputs": [
    {
     "name": "stdout",
     "output_type": "stream",
     "text": [
      "피글렛 20 코딩\n"
     ]
    }
   ],
   "source": [
    "(name, age, hobby) = (\"피글렛\", 20, \"코딩\")\n",
    "print(name, age, hobby)"
   ]
  },
  {
   "cell_type": "code",
   "execution_count": 184,
   "id": "fde1cac8",
   "metadata": {},
   "outputs": [
    {
     "name": "stdout",
     "output_type": "stream",
     "text": [
      "김포 > 제주\n",
      "제주 > 김포\n"
     ]
    }
   ],
   "source": [
    "(departure, arrival) = (\"김포\", \"제주\")\n",
    "print(departure, \">\", arrival) # 김포 > 제주\n",
    "(departure, arrival) = (arrival, departure)\n",
    "print(departure, \">\", arrival) # 제주 > 김포"
   ]
  },
  {
   "cell_type": "markdown",
   "id": "8a657bfb",
   "metadata": {},
   "source": [
    "## 5.4 세트\n",
    "- 세트명 = {값1, 값2, ...}\n",
    "- 세트명 = set([값1, 값2, ...])\n",
    "- 빈 세트 생성  set = set( )"
   ]
  },
  {
   "cell_type": "code",
   "execution_count": 185,
   "id": "1c096ab7",
   "metadata": {},
   "outputs": [
    {
     "name": "stdout",
     "output_type": "stream",
     "text": [
      "{1, 2, 3}\n"
     ]
    }
   ],
   "source": [
    "my_set = {1, 2, 3, 3, 3}\n",
    "print(my_set)"
   ]
  },
  {
   "cell_type": "code",
   "execution_count": 186,
   "id": "85f19887",
   "metadata": {},
   "outputs": [],
   "source": [
    "java = {\"푸\", \"피글렛\", \"티거\"}\n",
    "python = set([\"푸\", \"이요르\"])"
   ]
  },
  {
   "cell_type": "code",
   "execution_count": 187,
   "id": "68a02b7c",
   "metadata": {},
   "outputs": [
    {
     "name": "stdout",
     "output_type": "stream",
     "text": [
      "{'푸'}\n",
      "{'푸'}\n"
     ]
    }
   ],
   "source": [
    "print(java & python)\n",
    "print(java.intersection(python))"
   ]
  },
  {
   "cell_type": "code",
   "execution_count": 188,
   "id": "299f538e",
   "metadata": {},
   "outputs": [
    {
     "name": "stdout",
     "output_type": "stream",
     "text": [
      "{'푸', '피글렛', '이요르', '티거'}\n",
      "{'푸', '피글렛', '이요르', '티거'}\n"
     ]
    }
   ],
   "source": [
    "print(java | python)\n",
    "print(java.union(python))"
   ]
  },
  {
   "cell_type": "code",
   "execution_count": 189,
   "id": "9a15d726",
   "metadata": {},
   "outputs": [
    {
     "name": "stdout",
     "output_type": "stream",
     "text": [
      "{'피글렛', '티거'}\n",
      "{'피글렛', '티거'}\n"
     ]
    }
   ],
   "source": [
    "print(java - python)\n",
    "print(java.difference(python))"
   ]
  },
  {
   "cell_type": "code",
   "execution_count": 190,
   "id": "e5e3c21f",
   "metadata": {},
   "outputs": [
    {
     "name": "stdout",
     "output_type": "stream",
     "text": [
      "{'이요르', '푸', '피글렛'}\n"
     ]
    }
   ],
   "source": [
    "# 파이썬 개발자 추가(기존 개발자: 푸, 이요르)\n",
    "python.add(\"피글렛\")\n",
    "print(python)"
   ]
  },
  {
   "cell_type": "code",
   "execution_count": 191,
   "id": "ceba153b",
   "metadata": {},
   "outputs": [
    {
     "name": "stdout",
     "output_type": "stream",
     "text": [
      "{'푸', '티거'}\n"
     ]
    }
   ],
   "source": [
    "# 자바 개발자 삭제(기존 개발자: 푸, 피글렛, 티거)\n",
    "java.remove(\"피글렛\")\n",
    "print(java)"
   ]
  },
  {
   "cell_type": "markdown",
   "id": "fd7f654a",
   "metadata": {},
   "source": [
    "## 5.5 자료구조 변환하기"
   ]
  },
  {
   "cell_type": "code",
   "execution_count": 192,
   "id": "5808f3f7",
   "metadata": {},
   "outputs": [
    {
     "name": "stdout",
     "output_type": "stream",
     "text": [
      "{'커피', '주스', '우유'}\n",
      "<class 'set'>\n"
     ]
    }
   ],
   "source": [
    "menu = {\"커피\", \"우유\", \"주스\"}\n",
    "print(menu)\n",
    "print(type(menu))"
   ]
  },
  {
   "cell_type": "code",
   "execution_count": 193,
   "id": "4fce854b",
   "metadata": {},
   "outputs": [
    {
     "name": "stdout",
     "output_type": "stream",
     "text": [
      "['커피', '주스', '우유'] <class 'list'>\n"
     ]
    }
   ],
   "source": [
    "menu = list(menu) # 리스트로 변환\n",
    "print(menu, type(menu))"
   ]
  },
  {
   "cell_type": "code",
   "execution_count": 194,
   "id": "bfce81a1",
   "metadata": {},
   "outputs": [
    {
     "name": "stdout",
     "output_type": "stream",
     "text": [
      "('커피', '주스', '우유') <class 'tuple'>\n"
     ]
    }
   ],
   "source": [
    "menu = tuple(menu) # 튜플로 변환\n",
    "print(menu, type(menu))"
   ]
  },
  {
   "cell_type": "code",
   "execution_count": 195,
   "id": "8cbc7db8",
   "metadata": {},
   "outputs": [
    {
     "name": "stdout",
     "output_type": "stream",
     "text": [
      "{'커피', '주스', '우유'} <class 'set'>\n"
     ]
    }
   ],
   "source": [
    "menu = set(menu) # 세트로 변환\n",
    "print(menu, type(menu))"
   ]
  },
  {
   "cell_type": "markdown",
   "id": "55c882fe",
   "metadata": {},
   "source": [
    "## 5.6 실습문제: 당첨자 뽑기"
   ]
  },
  {
   "cell_type": "code",
   "execution_count": 196,
   "id": "4f26d75b",
   "metadata": {},
   "outputs": [
    {
     "name": "stdout",
     "output_type": "stream",
     "text": [
      "-- 당첨자 발표 --\n",
      "치킨 당첨자 : [19]\n",
      "커피 당첨자 : [6, 15, 14]\n",
      "-- 축하합니다! --\n"
     ]
    }
   ],
   "source": [
    "from random import *\n",
    "\n",
    "users = [1,2,3,4,5,6,7,8,9,10,11,12,13,14,15,16,17,18,19,20]\n",
    "shuffle(users)\n",
    "\n",
    "chicken = sample(users, 1)\n",
    "remain_users = set(users) - set(chicken)\n",
    "coffee = sample(list(remain_users), 3)\n",
    "\n",
    "print(\"-- 당첨자 발표 --\")\n",
    "print(f\"치킨 당첨자 : {chicken}\")\n",
    "print(f\"커피 당첨자 : {coffee}\")\n",
    "print(\"-- 축하합니다! --\")"
   ]
  },
  {
   "cell_type": "code",
   "execution_count": 197,
   "id": "45395721",
   "metadata": {},
   "outputs": [
    {
     "name": "stdout",
     "output_type": "stream",
     "text": [
      "신청한 과목은 다음과 같습니다.\n",
      "['C', 'Python', 'Java']\n"
     ]
    }
   ],
   "source": [
    "# 셀프체크\n",
    "\n",
    "'''\n",
    "문제: 수강신청 기간에 시스템 오류로 일부 과목이 중복 신청되는 문제 발생함. 중복 과목을 없애는 프로그램 작성\n",
    "# 조건\n",
    "1. 신청 과목은 리스트로 관리된다.\n",
    "2. 리스트에 같은 과목이 2번 이상 포함된 경우 1개만 남기고 나머지는 삭제\n",
    "3. 출력 시 신청 과목의 순서는 변경해도 된다.\n",
    "'''\n",
    "\n",
    "신청과목 = [\"Python\", \"Java\", \"C\", \"C\", \"Python\"]\n",
    "신청과목 = set(신청과목) # 리스트를 세트로 변환해 중복 제거, 조건 3으로 인해 순서 변경되어도 Ok\n",
    "\n",
    "print(\"신청한 과목은 다음과 같습니다.\")\n",
    "print(list(신청과목)) # 세트를 리스트로 다시 변환 (정렬되어 set 보다 가독성이 좋기 때문)"
   ]
  }
 ],
 "metadata": {
  "kernelspec": {
   "display_name": "Python 3",
   "language": "python",
   "name": "python3"
  },
  "language_info": {
   "codemirror_mode": {
    "name": "ipython",
    "version": 3
   },
   "file_extension": ".py",
   "mimetype": "text/x-python",
   "name": "python",
   "nbconvert_exporter": "python",
   "pygments_lexer": "ipython3",
   "version": "3.10.13"
  }
 },
 "nbformat": 4,
 "nbformat_minor": 5
}
