{
 "cells": [
  {
   "cell_type": "markdown",
   "id": "975ccd51",
   "metadata": {},
   "source": [
    "# **6장 제어문**"
   ]
  },
  {
   "cell_type": "markdown",
   "id": "b8fbd65a",
   "metadata": {},
   "source": [
    "## **6.1 조건에 따라 분기하기: 조건문**"
   ]
  },
  {
   "cell_type": "markdown",
   "id": "f856efe9",
   "metadata": {},
   "source": [
    "### **6.1.1 조건이 하나일 때: if 문**"
   ]
  },
  {
   "cell_type": "markdown",
   "id": "322a51da",
   "metadata": {},
   "source": [
    "```python\n",
    "if 조건: \n",
    "    실행할 명령"
   ]
  },
  {
   "cell_type": "code",
   "execution_count": 64,
   "id": "a60aba3f",
   "metadata": {},
   "outputs": [
    {
     "name": "stdout",
     "output_type": "stream",
     "text": [
      "우산을 챙기세요.\n"
     ]
    }
   ],
   "source": [
    "weather = \"비\"\n",
    "\n",
    "if weather == \"비\":\n",
    "    print(\"우산을 챙기세요.\")"
   ]
  },
  {
   "cell_type": "markdown",
   "id": "bcaf727b",
   "metadata": {},
   "source": [
    "### **6.1.2 조건이 여러 개일 때: elif 문**\n",
    "\n",
    "```python\n",
    "if 조건1:\n",
    "    실행할 명령1\n",
    "elif 조건2:\n",
    "    실행할 명령2\n",
    "elif 조건3:\n",
    "    실행할 명령3\n",
    "..."
   ]
  },
  {
   "cell_type": "code",
   "execution_count": 65,
   "id": "666cc2aa",
   "metadata": {},
   "outputs": [],
   "source": [
    "weather = \"맑음\"\n",
    "\n",
    "if weather == \"비\":\n",
    "    print(\"우산을 챙기세요.\")\n",
    "\n",
    "# 조건에 맞지 않아 아무것도 출력이 되지 않음."
   ]
  },
  {
   "cell_type": "code",
   "execution_count": 66,
   "id": "9e7f342c",
   "metadata": {},
   "outputs": [
    {
     "name": "stdout",
     "output_type": "stream",
     "text": [
      "마스크를 챙기세요.\n"
     ]
    }
   ],
   "source": [
    "weather = \"미세먼지\"\n",
    "\n",
    "if weather == \"비\":\n",
    "    print(\"우산을 챙기세요.\") # 1번\n",
    "\n",
    "elif weather == \"미세먼지\":\n",
    "    print(\"마스크를 챙기세요.\") # 2번"
   ]
  },
  {
   "cell_type": "markdown",
   "id": "61bf0406",
   "metadata": {},
   "source": [
    "### **6.1.3 모든 조건에 맞지 않을 때: else 문**\n",
    "\n",
    "```python\n",
    "if 조건1:\n",
    "    실행할 명령1\n",
    "elif 조건2:\n",
    "    실행할 명령2\n",
    "elif 조건3:\n",
    "    실행할 명령3\n",
    "...\n",
    "\n",
    "else:\n",
    "    실행할 명령 # 앞의 조건에 모두 해당하지 않을 때 실행"
   ]
  },
  {
   "cell_type": "code",
   "execution_count": 67,
   "id": "40d46f81",
   "metadata": {},
   "outputs": [
    {
     "name": "stdout",
     "output_type": "stream",
     "text": [
      "준비물이 필요 없습니다.\n"
     ]
    }
   ],
   "source": [
    "weather = \"맑음\"\n",
    "\n",
    "if weather == \"비\":\n",
    "    print(\"우산을 챙기세요.\") # 1번\n",
    "\n",
    "elif weather == \"미세먼지\":\n",
    "    print(\"마스크를 챙기세요.\") # 2번\n",
    "else:\n",
    "    print(\"준비물이 필요 없습니다.\")"
   ]
  },
  {
   "cell_type": "markdown",
   "id": "5a2d0eaf",
   "metadata": {},
   "source": [
    "### **6.1.4 input()으로 값 입력받아 비교하기**"
   ]
  },
  {
   "cell_type": "code",
   "execution_count": 68,
   "id": "d87c9894",
   "metadata": {},
   "outputs": [
    {
     "name": "stdout",
     "output_type": "stream",
     "text": [
      "맑음\n"
     ]
    }
   ],
   "source": [
    "weather = input(\"오늘 날씨는 어떄요?\")\n",
    "print(weather)"
   ]
  },
  {
   "cell_type": "code",
   "execution_count": null,
   "id": "9e9fba5f",
   "metadata": {},
   "outputs": [
    {
     "name": "stdout",
     "output_type": "stream",
     "text": [
      "현재 날씨: 맑음\n",
      "준비물이 필요 없습니다.\n"
     ]
    }
   ],
   "source": [
    "weather = input(\"오늘 날씨는 어때요?\")\n",
    "print((f\"현재 날씨: {weather}\"))\n",
    "\n",
    "if weather == \"비\":\n",
    "    print(\"우산을 챙기세요.\") \n",
    "\n",
    "elif weather == \"미세먼지\":\n",
    "    print(\"마스크를 챙기세요.\")\n",
    "else:\n",
    "    print(\"준비물이 필요 없습니다.\")\n",
    "\n"
   ]
  },
  {
   "cell_type": "code",
   "execution_count": 70,
   "id": "3b358a37",
   "metadata": {},
   "outputs": [
    {
     "name": "stdout",
     "output_type": "stream",
     "text": [
      "현재 날씨: 미세먼지\n",
      "마스크를 챙기세요.\n"
     ]
    }
   ],
   "source": [
    "weather = input(\"오늘 날씨는 어때요?\")\n",
    "print((f\"현재 날씨: {weather}\"))\n",
    "\n",
    "if weather == \"비\" or weather == \"눈\": # 조건 변경\n",
    "    print(\"우산을 챙기세요.\") \n",
    "\n",
    "elif weather == \"미세먼지\":\n",
    "    print(\"마스크를 챙기세요.\")\n",
    "else:\n",
    "    print(\"준비물이 필요 없습니다.\")"
   ]
  },
  {
   "cell_type": "code",
   "execution_count": 71,
   "id": "f80c3b09",
   "metadata": {},
   "outputs": [
    {
     "name": "stdout",
     "output_type": "stream",
     "text": [
      "현재 기온: 33도\n",
      "너무 더워요. 외출을 자제하세요\n"
     ]
    }
   ],
   "source": [
    "temp = int(input(\"오늘 기온은 어떤가요?\")) # 입력값을 정수형으로 형변환\n",
    "print((f\"현재 기온: {temp}도\"))\n",
    "\n",
    "if 30 <= temp:                        # 30도 이상\n",
    "    print(\"너무 더워요. 외출을 자제하세요\")\n",
    "elif 10 <= temp and temp < 30:        # 10도 이상 30도 미만\n",
    "    print(\"활동하기 좋을 날씨에요.\")\n",
    "elif 0 <= temp and temp < 10:        # 0도 이상 10도 미만\n",
    "    print(\"외투를 챙기세요.\")\n",
    "else:                                 # 그 외의 모든 경우\n",
    "    print(\"너무 추워요. 나가지 마세요.\")"
   ]
  },
  {
   "cell_type": "code",
   "execution_count": 72,
   "id": "85f45291",
   "metadata": {},
   "outputs": [
    {
     "name": "stdout",
     "output_type": "stream",
     "text": [
      "현재 기온: 20도\n",
      "활동하기 좋을 날씨에요.\n"
     ]
    }
   ],
   "source": [
    "temp = int(input(\"오늘 기온은 어떤가요?\")) \n",
    "print((f\"현재 기온: {temp}도\"))\n",
    "\n",
    "if 30 <= temp:                      \n",
    "    print(\"너무 더워요. 외출을 자제하세요\")\n",
    "elif 10 <= temp < 30:        # 간소화\n",
    "    print(\"활동하기 좋을 날씨에요.\")\n",
    "elif 0 <= temp < 10:        # 간소화 \n",
    "    print(\"외투를 챙기세요.\")\n",
    "else:                                \n",
    "    print(\"너무 추워요. 나가지 마세요.\")"
   ]
  },
  {
   "cell_type": "code",
   "execution_count": 73,
   "id": "622ee1c5",
   "metadata": {},
   "outputs": [
    {
     "name": "stdout",
     "output_type": "stream",
     "text": [
      "현재 기온: 1도\n",
      "외투를 챙기세요.\n"
     ]
    }
   ],
   "source": [
    "temp = int(input(\"오늘 기온은 어떤가요?\")) \n",
    "print((f\"현재 기온: {temp}도\"))\n",
    "\n",
    "if temp >= 30:                      \n",
    "    print(\"너무 더워요. 외출을 자제하세요\")\n",
    "elif temp >= 10:        # 간소화\n",
    "    print(\"활동하기 좋을 날씨에요.\")\n",
    "elif temp >= 0:        # 간소화 \n",
    "    print(\"외투를 챙기세요.\")\n",
    "else:                                \n",
    "    print(\"너무 추워요. 나가지 마세요.\")"
   ]
  },
  {
   "cell_type": "markdown",
   "id": "419aaf2a",
   "metadata": {},
   "source": [
    "## **6.2 같은 일 반복하기: 반복문**"
   ]
  },
  {
   "cell_type": "markdown",
   "id": "23ac1305",
   "metadata": {},
   "source": [
    "### **6.2.1 범위 안에서 반복하기: for 문**\n",
    "```python\n",
    "for 변수 in 반복 대상:\n",
    "    실행할 명령1\n",
    "    실행할 명령2\n",
    "    ..."
   ]
  },
  {
   "cell_type": "code",
   "execution_count": 74,
   "id": "d6f8504b",
   "metadata": {},
   "outputs": [
    {
     "name": "stdout",
     "output_type": "stream",
     "text": [
      "대기번호 : 1\n",
      "대기번호 : 2\n",
      "대기번호 : 3\n",
      "대기번호 : 4\n",
      "대기번호 : 5\n"
     ]
    }
   ],
   "source": [
    "for waiting_no in [1,2,3,4,5]:\n",
    "    print(f\"대기번호 : {waiting_no}\")"
   ]
  },
  {
   "cell_type": "code",
   "execution_count": 75,
   "id": "9f885997",
   "metadata": {},
   "outputs": [
    {
     "name": "stdout",
     "output_type": "stream",
     "text": [
      "대기번호 : 0\n",
      "대기번호 : 1\n",
      "대기번호 : 2\n",
      "대기번호 : 3\n",
      "대기번호 : 4\n"
     ]
    }
   ],
   "source": [
    "for waiting_no in range(5): # 0부터 5 직전까지\n",
    "    print(f\"대기번호 : {waiting_no}\")"
   ]
  },
  {
   "cell_type": "markdown",
   "id": "ff40975a",
   "metadata": {},
   "source": [
    "### ***참고** range() 함수\n",
    "```python\n",
    "range(숫자) # 0부터 숫자 직전 (숫자-1)\n",
    "range(시작 숫자, 끝 숫자) # 시작 숫자부터 끝 숫자 직전(끝 숫자-1)\n",
    "range(시작 숫자, 끝 숫자, 간격) # 시작 숫자부터 끝 숫자 직전까지 간격 주기로"
   ]
  },
  {
   "cell_type": "code",
   "execution_count": 76,
   "id": "2f2bdb89",
   "metadata": {},
   "outputs": [
    {
     "name": "stdout",
     "output_type": "stream",
     "text": [
      "대기번호 : 1\n",
      "대기번호 : 2\n",
      "대기번호 : 3\n",
      "대기번호 : 4\n",
      "대기번호 : 5\n"
     ]
    }
   ],
   "source": [
    "for waiting_no in range(1, 6): # 1부터 6 직전까지\n",
    "    print(f\"대기번호 : {waiting_no}\")"
   ]
  },
  {
   "cell_type": "code",
   "execution_count": 77,
   "id": "7a865e0b",
   "metadata": {},
   "outputs": [
    {
     "name": "stdout",
     "output_type": "stream",
     "text": [
      "대기번호 : 1\n",
      "대기번호 : 3\n",
      "대기번호 : 5\n"
     ]
    }
   ],
   "source": [
    "for waiting_no in range(1, 6, 2): # 0부터 5 직전까지\n",
    "    print(f\"대기번호 : {waiting_no}\")"
   ]
  },
  {
   "cell_type": "code",
   "execution_count": 78,
   "id": "8d6ac085",
   "metadata": {},
   "outputs": [
    {
     "name": "stdout",
     "output_type": "stream",
     "text": [
      "아이언맨님, 커피가 준비되어 있습니다. 픽업대로 와주세요\n",
      "토르님, 커피가 준비되어 있습니다. 픽업대로 와주세요\n",
      "스파이더맨님, 커피가 준비되어 있습니다. 픽업대로 와주세요\n"
     ]
    }
   ],
   "source": [
    "orders = [\"아이언맨\",\"토르\", \"스파이더맨\"]\n",
    "for customer in orders:\n",
    "    print(f\"{customer}님, 커피가 준비되어 있습니다. 픽업대로 와주세요\")"
   ]
  },
  {
   "cell_type": "markdown",
   "id": "f0b631b4",
   "metadata": {},
   "source": [
    "### **6.2.2 조건을 만족할 동안 반복하기: while 문**\n",
    "```python\n",
    "while 조건:\n",
    "    실행할 명령1\n",
    "    실행할 명령2\n",
    "    ..."
   ]
  },
  {
   "cell_type": "code",
   "execution_count": 79,
   "id": "e322a0cf",
   "metadata": {},
   "outputs": [
    {
     "name": "stdout",
     "output_type": "stream",
     "text": [
      "토르님, 커피가 준비되었습니다.\n",
      "4번 남았어요.\n",
      "토르님, 커피가 준비되었습니다.\n",
      "3번 남았어요.\n",
      "토르님, 커피가 준비되었습니다.\n",
      "2번 남았어요.\n",
      "토르님, 커피가 준비되었습니다.\n",
      "1번 남았어요.\n",
      "토르님, 커피가 준비되었습니다.\n",
      "0번 남았어요.\n",
      "커피를 폐기처분 합니다.\n"
     ]
    }
   ],
   "source": [
    "customer = \"토르\"\n",
    "index = 5 # 초기값\n",
    "\n",
    "while index >= 1: # 부르는 횟수가 1 이상일 때만 실행\n",
    "    print(\"{}님, 커피가 준비되었습니다.\".format(customer))\n",
    "    index -= 1 # 횟수 1회 차감\n",
    "    print(\"{}번 남았어요.\".format(index))\n",
    "    \n",
    "    if index == 0: # 5번 모두 불렀다면\n",
    "        print(\"커피를 폐기처분 합니다.\")"
   ]
  },
  {
   "cell_type": "code",
   "execution_count": 80,
   "id": "e13a4ed8",
   "metadata": {},
   "outputs": [
    {
     "name": "stdout",
     "output_type": "stream",
     "text": [
      "Thor님, 커피가 준비되었습니다.\n",
      "확인되었습니다. 감사합니다.\n"
     ]
    }
   ],
   "source": [
    "customer = \"Thor\"\n",
    "person = None\n",
    "while person != customer:\n",
    "    print(\"{}님, 커피가 준비되었습니다.\". format(customer))\n",
    "    person = input(\"이름이 어떻게 되세요?\")\n",
    "\n",
    "if person == customer:\n",
    "    print(\"확인되었습니다. 감사합니다.\")"
   ]
  },
  {
   "cell_type": "markdown",
   "id": "017e2dbf",
   "metadata": {},
   "source": [
    "### **6.2.3 흐름 제어하기: continue와 break**"
   ]
  },
  {
   "cell_type": "code",
   "execution_count": 81,
   "id": "ef9089a1",
   "metadata": {},
   "outputs": [
    {
     "name": "stdout",
     "output_type": "stream",
     "text": [
      "1번 학생, 책을 읽어보세요.\n",
      "3번 학생, 책을 읽어보세요.\n",
      "4번 학생, 책을 읽어보세요.\n",
      "6번 학생, 책을 읽어보세요.\n",
      "7번 학생, 책을 읽어보세요.\n",
      "8번 학생, 책을 읽어보세요.\n",
      "9번 학생, 책을 읽어보세요.\n",
      "10번 학생, 책을 읽어보세요.\n"
     ]
    }
   ],
   "source": [
    "absent = [2,5] # 결석한 학생 번호\n",
    "\n",
    "for student in range(1, 11): # 출석번호 1~10번\n",
    "    if student in absent: # 결석한 학생이면\n",
    "        continue # 다음 학생으로 넘어가기\n",
    "    print(f\"{student}번 학생, 책을 읽어보세요.\")\n"
   ]
  },
  {
   "cell_type": "code",
   "execution_count": 82,
   "id": "53b519d8",
   "metadata": {},
   "outputs": [
    {
     "name": "stdout",
     "output_type": "stream",
     "text": [
      "1번 학생, 책을 읽어보세요.\n",
      "3번 학생, 책을 읽어보세요.\n",
      "4번 학생, 책을 읽어보세요.\n",
      "6번 학생, 책을 읽어보세요.\n",
      "오늘 수업은 여기까지. 7번 학생은 교무실로 따라와요.\n"
     ]
    }
   ],
   "source": [
    "absent = [2,5] # 결석한 학생 번호\n",
    "no_book = [7]\n",
    "\n",
    "for student in range(1, 11): # 출석번호 1~10번\n",
    "    if student in absent: # 결석한 학생이면\n",
    "        continue # 다음 학생으로 넘어가기\n",
    "    elif student in no_book: # 책을 가져오지 않으면 바로 수업 종료\n",
    "        print(f\"오늘 수업은 여기까지. {student}번 학생은 교무실로 따라와요.\")\n",
    "        break # 반복문 탈출\n",
    "\n",
    "    print(f\"{student}번 학생, 책을 읽어보세요.\")\n"
   ]
  },
  {
   "cell_type": "markdown",
   "id": "a2650f4d",
   "metadata": {},
   "source": [
    "### **6.2.4 for 문 한 줄로 작성하기**\n",
    "```python\n",
    "[동작 for 변수 in 반복 대상]"
   ]
  },
  {
   "cell_type": "code",
   "execution_count": 83,
   "id": "b3bee9d8",
   "metadata": {},
   "outputs": [
    {
     "name": "stdout",
     "output_type": "stream",
     "text": [
      "[1, 2, 3, 4, 5]\n",
      "[101, 102, 103, 104, 105]\n"
     ]
    }
   ],
   "source": [
    "students = [1,2,3,4,5]\n",
    "print(students)\n",
    "\n",
    "# 한 줄 for 문으로 각 항목에 100 더하기\n",
    "students = [i + 100 for i in students]\n",
    "print(students)"
   ]
  },
  {
   "cell_type": "code",
   "execution_count": 84,
   "id": "a6d01975",
   "metadata": {},
   "outputs": [
    {
     "name": "stdout",
     "output_type": "stream",
     "text": [
      "['Iron man', 'Thor', 'Spider Man']\n",
      "[8, 4, 10]\n"
     ]
    }
   ],
   "source": [
    "students = [\"Iron man\", \"Thor\", \"Spider Man\"]\n",
    "print(students)\n",
    "\n",
    "# 한 줄 for 문으로 각 이름을 이름의 길이 정보로 변환\n",
    "students = [len(i) for i in students]\n",
    "print(students)"
   ]
  },
  {
   "cell_type": "code",
   "execution_count": 85,
   "id": "32b34c27",
   "metadata": {},
   "outputs": [
    {
     "name": "stdout",
     "output_type": "stream",
     "text": [
      "['Iron man', 'Thor', 'Spider Man']\n",
      "['IRON MAN', 'THOR', 'SPIDER MAN']\n"
     ]
    }
   ],
   "source": [
    "students = [\"Iron man\", \"Thor\", \"Spider Man\"]\n",
    "print(students)\n",
    "\n",
    "# 한 줄 for 문으로 각 이름을 모두 대문자로 변경\n",
    "students = [i.upper() for i in students]\n",
    "print(students)"
   ]
  },
  {
   "cell_type": "markdown",
   "id": "b0f9a7bd",
   "metadata": {},
   "source": [
    "## **6.3 실습문제: 택시 승객 수 구하기**\n",
    "### **문제:** 당신은 Cocoa 서비스를 이용하는 택시기사입니다. 손님은 총 50명일 때, 조건을 만족하는 총 탑승객 수를 구하는 프로그램을 작성.\n",
    "### **조건:**\n",
    "- 손님별 운행 소요시간은 5~50분 난수로 정한다.\n",
    "- 운행 소요시간 5~15분인 손님만 매칭한다.\n",
    "- 실행결과는 다음 형태로 출력하되, 매칭되면 [0], 매칭되지 않으면 [ ]로 표시한다.\n",
    "```python\n",
    "[O] 1번째 손님 (소요시간 : 15분)\n",
    "[ ] 2번째 손님 (소요시간 : 50분)\n",
    "[O] 3번째 손님 (소요시간 : 5분)\n",
    "...\n",
    "[ ] 50번째 손님 (소요시간 : 16분)\n",
    "총 탑승객 : 2명"
   ]
  },
  {
   "cell_type": "code",
   "execution_count": 86,
   "id": "af2b8e94",
   "metadata": {},
   "outputs": [
    {
     "name": "stdout",
     "output_type": "stream",
     "text": [
      "[0] 1번째 손님 (소요시간 : 9)\n",
      "[ ] 2번째 손님 (소요시간 : 37)\n",
      "[ ] 3번째 손님 (소요시간 : 31)\n",
      "[ ] 4번째 손님 (소요시간 : 21)\n",
      "[ ] 5번째 손님 (소요시간 : 20)\n",
      "[ ] 6번째 손님 (소요시간 : 24)\n",
      "[ ] 7번째 손님 (소요시간 : 31)\n",
      "[ ] 8번째 손님 (소요시간 : 28)\n",
      "[ ] 9번째 손님 (소요시간 : 26)\n",
      "[ ] 10번째 손님 (소요시간 : 45)\n",
      "[ ] 11번째 손님 (소요시간 : 28)\n",
      "[0] 12번째 손님 (소요시간 : 14)\n",
      "[0] 13번째 손님 (소요시간 : 5)\n",
      "[ ] 14번째 손님 (소요시간 : 32)\n",
      "[ ] 15번째 손님 (소요시간 : 38)\n",
      "[ ] 16번째 손님 (소요시간 : 41)\n",
      "[0] 17번째 손님 (소요시간 : 14)\n",
      "[ ] 18번째 손님 (소요시간 : 18)\n",
      "[ ] 19번째 손님 (소요시간 : 46)\n",
      "[ ] 20번째 손님 (소요시간 : 23)\n",
      "[ ] 21번째 손님 (소요시간 : 49)\n",
      "[ ] 22번째 손님 (소요시간 : 35)\n",
      "[ ] 23번째 손님 (소요시간 : 27)\n",
      "[ ] 24번째 손님 (소요시간 : 43)\n",
      "[ ] 25번째 손님 (소요시간 : 50)\n",
      "[ ] 26번째 손님 (소요시간 : 47)\n",
      "[ ] 27번째 손님 (소요시간 : 18)\n",
      "[ ] 28번째 손님 (소요시간 : 27)\n",
      "[ ] 29번째 손님 (소요시간 : 33)\n",
      "[ ] 30번째 손님 (소요시간 : 46)\n",
      "[ ] 31번째 손님 (소요시간 : 35)\n",
      "[ ] 32번째 손님 (소요시간 : 21)\n",
      "[ ] 33번째 손님 (소요시간 : 38)\n",
      "[ ] 34번째 손님 (소요시간 : 43)\n",
      "[ ] 35번째 손님 (소요시간 : 30)\n",
      "[ ] 36번째 손님 (소요시간 : 31)\n",
      "[ ] 37번째 손님 (소요시간 : 25)\n",
      "[ ] 38번째 손님 (소요시간 : 30)\n",
      "[ ] 39번째 손님 (소요시간 : 35)\n",
      "[ ] 40번째 손님 (소요시간 : 44)\n",
      "[ ] 41번째 손님 (소요시간 : 20)\n",
      "[0] 42번째 손님 (소요시간 : 10)\n",
      "[ ] 43번째 손님 (소요시간 : 37)\n",
      "[ ] 44번째 손님 (소요시간 : 31)\n",
      "[0] 45번째 손님 (소요시간 : 9)\n",
      "[ ] 46번째 손님 (소요시간 : 26)\n",
      "[ ] 47번째 손님 (소요시간 : 39)\n",
      "[ ] 48번째 손님 (소요시간 : 37)\n",
      "[ ] 49번째 손님 (소요시간 : 37)\n",
      "[ ] 50번째 손님 (소요시간 : 28)\n",
      "총 탑승객: 6명\n"
     ]
    }
   ],
   "source": [
    "from random import randrange\n",
    "\n",
    "customer = range(1, 51)\n",
    "count = 0\n",
    "\n",
    "for i in customer:\n",
    "    time = randrange(5, 51)\n",
    "    if 5 <= time <= 15:\n",
    "        print(f\"[0] {i}번째 손님 (소요시간 : {time})\")\n",
    "        count += 1\n",
    "\n",
    "    else:\n",
    "        print(f\"[ ] {i}번째 손님 (소요시간 : {time})\")\n",
    "\n",
    "print(f\"총 탑승객: {count}명\")\n",
    "\n",
    "\n"
   ]
  },
  {
   "cell_type": "code",
   "execution_count": 87,
   "id": "8e56d71b",
   "metadata": {},
   "outputs": [
    {
     "name": "stdout",
     "output_type": "stream",
     "text": [
      "2+1 상품입니다.\n",
      "2+1 상품입니다.\n",
      "2+1 상품입니다.\n",
      "2+1 상품입니다.\n",
      "2+1 상품입니다.\n",
      "2+1 상품입니다.\n",
      "2+1 상품입니다.\n",
      "2+1 상품입니다.\n",
      "2+1 상품입니다.\n",
      "2+1 상품입니다.\n",
      "2+1 상품입니다.\n",
      "2+1 상품입니다.\n",
      "총 가격은 8000원 입니다.\n"
     ]
    }
   ],
   "source": [
    "# 셀프체크\n",
    "# 문제: 편의점에서 동일한 상품 2개를 구매하면 상품 1개를 무료로 제공하는 2+1 이벤트를 진행하고 있습니다. 구매 상품 수에 따라 가격을 계산하는 프로그램을 작성하세요.\n",
    "# 조건\n",
    "# - 상품 1개의 가격은 1,000원이다.\n",
    "# - 고객은 3, 6, 9 처럼 항상 3의 배수에 해당하는 상품을 구매한다고 가정한다.\n",
    "# - 상품은 각각 스캔하며, 한 상품을 스캔할 때마다 '2+1 상품입니다.'를 출력한다.\n",
    "\n",
    "item_counts = int(input(\"상품 몇개인가요\"))\n",
    "counts = 0\n",
    "\n",
    "if item_counts % 3 == 0:\n",
    "    while item_counts >= 1:\n",
    "        print(\"2+1 상품입니다.\")\n",
    "        item_counts -= 1\n",
    "        counts += 1\n",
    "\n",
    "    total_price = (counts // 3) * 2000  # 정수 나눗셈으로 3개당 2천원\n",
    "    print(f\"총 가격은 {total_price}원 입니다.\")\n",
    "\n",
    "else:\n",
    "    print(\"다시 입력하세요.\")"
   ]
  },
  {
   "cell_type": "code",
   "execution_count": 88,
   "id": "8e328477",
   "metadata": {},
   "outputs": [
    {
     "name": "stdout",
     "output_type": "stream",
     "text": [
      "2+1 상품입니다.\n",
      "2+1 상품입니다.\n",
      "2+1 상품입니다.\n",
      "2+1 상품입니다.\n",
      "2+1 상품입니다.\n",
      "2+1 상품입니다.\n",
      "2+1 상품입니다.\n",
      "2+1 상품입니다.\n",
      "2+1 상품입니다.\n",
      "2+1 상품입니다.\n",
      "2+1 상품입니다.\n",
      "2+1 상품입니다.\n",
      "총 가격은 8000 입니다.\n"
     ]
    }
   ],
   "source": [
    "# 해설\n",
    "\n",
    "price = 1000\n",
    "goods = int(input(\"상품 개수\"))\n",
    "total = 0\n",
    "\n",
    "for i in range(1, goods + 1):\n",
    "    print(\"2+1 상품입니다.\")\n",
    "\n",
    "    if i % 3 == 0:\n",
    "        continue\n",
    "    \n",
    "    total += price\n",
    "\n",
    "print(\"총 가격은 \" + str(total) + \" 입니다.\")"
   ]
  },
  {
   "cell_type": "code",
   "execution_count": 89,
   "id": "a5fb06b6",
   "metadata": {},
   "outputs": [
    {
     "name": "stdout",
     "output_type": "stream",
     "text": [
      "2+1 상품입니다.\n",
      "2+1 상품입니다.\n",
      "2+1 상품입니다.\n",
      "2+1 상품입니다.\n",
      "2+1 상품입니다.\n",
      "2+1 상품입니다.\n",
      "2+1 상품입니다.\n",
      "2+1 상품입니다.\n",
      "2+1 상품입니다.\n",
      "2+1 상품입니다.\n",
      "2+1 상품입니다.\n",
      "2+1 상품입니다.\n",
      "총 가격은 8000원 입니다.\n"
     ]
    }
   ],
   "source": [
    "# GPT 버전\n",
    "\n",
    "item_counts = int(input(\"상품 몇개인가요? \"))\n",
    "\n",
    "if item_counts % 3 == 0:\n",
    "    for i in range(item_counts):\n",
    "        print(\"2+1 상품입니다.\")\n",
    "    print(f\"총 가격은 {(item_counts // 3) * 2000}원 입니다.\")\n",
    "else:\n",
    "    print(\"상품 수는 3의 배수만 입력해주세요.\")"
   ]
  }
 ],
 "metadata": {
  "kernelspec": {
   "display_name": "Python 3",
   "language": "python",
   "name": "python3"
  },
  "language_info": {
   "codemirror_mode": {
    "name": "ipython",
    "version": 3
   },
   "file_extension": ".py",
   "mimetype": "text/x-python",
   "name": "python",
   "nbconvert_exporter": "python",
   "pygments_lexer": "ipython3",
   "version": "3.10.13"
  }
 },
 "nbformat": 4,
 "nbformat_minor": 5
}
