{
 "cells": [
  {
   "cell_type": "markdown",
   "id": "161bbf2d",
   "metadata": {},
   "source": [
    "# **11장 모듈과 패키지**"
   ]
  },
  {
   "cell_type": "markdown",
   "id": "281dd3a1",
   "metadata": {},
   "source": [
    "## **11.1 모듈 다루기**\n",
    "|용어|설명|\n",
    "|--|--|\n",
    "|**모듈 (module)**|서로 관련이 있거나 비슷한 기능을 하는 함수, 클래스 등을 담고 있는 파일|\n",
    "|**모듈화 (modularization)**|개발을 용이하게 하기 위해 프로그램의 기능을 독립적인 작은 단위로 나누는 작업|"
   ]
  },
  {
   "cell_type": "markdown",
   "id": "81e08608",
   "metadata": {},
   "source": [
    "### **11.1.1 모듈 만들기**"
   ]
  },
  {
   "cell_type": "markdown",
   "id": "4a683367",
   "metadata": {},
   "source": [
    "##### **theather__module.py**\n",
    "\n",
    "```python\n",
    "# 일반 가격\n",
    "def price(people):\n",
    "    print(\"{0}명, 영화표 가격은 {1}원 입니다.\".format(people, people * 10000))\n",
    "\n",
    "# 조조 할인 가격\n",
    "def price_morning(people):\n",
    "    print(\"{0}명, 조조 영화표 가격은 {1}원 입니다.\".format(people, people * 6000))\n",
    "\n",
    "# 군인 할인 가격\n",
    "def price_soldier(people):\n",
    "    print(\"{0}명, 군인 영화표 가격은 {1}원 입니다.\".format(people, people * 4000))\n"
   ]
  },
  {
   "cell_type": "markdown",
   "id": "2c422f1f",
   "metadata": {},
   "source": [
    "### **11.1.2 모듈 사용하기**"
   ]
  },
  {
   "cell_type": "code",
   "execution_count": 1,
   "id": "b76b03a2",
   "metadata": {},
   "outputs": [
    {
     "name": "stdout",
     "output_type": "stream",
     "text": [
      "3명, 영화표 가격은 30000원 입니다.\n",
      "4명, 조조 영화표 가격은 24000원 입니다.\n",
      "5명, 군인 영화표 가격은 20000원 입니다.\n"
     ]
    }
   ],
   "source": [
    "import theater_module # 모듈 가져오기\n",
    "\n",
    "theater_module.price(3)\n",
    "theater_module.price_morning(4)\n",
    "theater_module.price_soldier(5)"
   ]
  },
  {
   "cell_type": "code",
   "execution_count": 2,
   "id": "967e6a4f",
   "metadata": {},
   "outputs": [
    {
     "name": "stdout",
     "output_type": "stream",
     "text": [
      "3명, 영화표 가격은 30000원 입니다.\n",
      "4명, 조조 영화표 가격은 24000원 입니다.\n",
      "5명, 군인 영화표 가격은 20000원 입니다.\n"
     ]
    }
   ],
   "source": [
    "import theater_module as mv # theater_modul을 별명인 mv 로 사용하겠다는 의미\n",
    "\n",
    "mv.price(3)\n",
    "mv.price_morning(4)\n",
    "mv.price_soldier(5)"
   ]
  },
  {
   "cell_type": "markdown",
   "id": "5526221e",
   "metadata": {},
   "source": [
    "**형식** : ```from 모듈명 import 기능(또는 함수)```\n",
    "- **from ~ import 문**으로 가져온 모듈은 모듈명과 점 부분을 적지 않고 **모듈의 함수명만** 적으면 된다."
   ]
  },
  {
   "cell_type": "code",
   "execution_count": 3,
   "id": "622edd90",
   "metadata": {},
   "outputs": [
    {
     "name": "stdout",
     "output_type": "stream",
     "text": [
      "3명, 영화표 가격은 30000원 입니다.\n",
      "4명, 조조 영화표 가격은 24000원 입니다.\n",
      "5명, 군인 영화표 가격은 20000원 입니다.\n"
     ]
    }
   ],
   "source": [
    "from theater_module import *\n",
    "\n",
    "price(3)\n",
    "price_morning(4)\n",
    "price_soldier(5)"
   ]
  },
  {
   "cell_type": "code",
   "execution_count": 4,
   "id": "5ef69bdd",
   "metadata": {},
   "outputs": [
    {
     "name": "stdout",
     "output_type": "stream",
     "text": [
      "5명, 영화표 가격은 50000원 입니다.\n",
      "6명, 조조 영화표 가격은 36000원 입니다.\n",
      "7명, 군인 영화표 가격은 28000원 입니다.\n"
     ]
    }
   ],
   "source": [
    "from theater_module import price, price_morning\n",
    "\n",
    "price(5)\n",
    "price_morning(6)\n",
    "price_soldier(7) # import 하지 않아서 사용 불가\n",
    "\n",
    "# ---------------------------------------------------------------------------\n",
    "# NameError                                 Traceback (most recent call last)\n",
    "# Cell In[1], line 5\n",
    "#       3 price(5)\n",
    "#       4 price_morning(6)\n",
    "# ----> 5 price_soldier(7)\n",
    "\n",
    "# NameError: name 'price_soldier' is not defined"
   ]
  },
  {
   "cell_type": "code",
   "execution_count": 5,
   "id": "379914b8",
   "metadata": {},
   "outputs": [
    {
     "name": "stdout",
     "output_type": "stream",
     "text": [
      "5명, 군인 영화표 가격은 20000원 입니다.\n"
     ]
    }
   ],
   "source": [
    "# price_soldier 를 별명인 price로 대체 사용\n",
    "from theater_module import price_soldier as price\n",
    "\n",
    "price(5)"
   ]
  },
  {
   "cell_type": "markdown",
   "id": "a600f44f",
   "metadata": {},
   "source": [
    "## **11.2 패키지 다루기**"
   ]
  },
  {
   "cell_type": "markdown",
   "id": "197dd259",
   "metadata": {},
   "source": [
    "|용어|설명|\n",
    "|--|--|\n",
    "|**패키지 (package)**|여러 모듈을 모아놓은 집합|"
   ]
  },
  {
   "cell_type": "markdown",
   "id": "9e919894",
   "metadata": {},
   "source": [
    "### **11.2.1 패키지 만들기**"
   ]
  },
  {
   "cell_type": "markdown",
   "id": "92f00a29",
   "metadata": {},
   "source": [
    "#### **travel** 폴더 생성"
   ]
  },
  {
   "cell_type": "markdown",
   "id": "7366aa06",
   "metadata": {},
   "source": [
    "**thailand.py**\n",
    "```python\n",
    "class ThailandPackage:\n",
    "    def detail(self):\n",
    "        print(\"[태국 3박 5일 패키지] 방콕, 파타야 여행(야시장 투어) 50만원\")"
   ]
  },
  {
   "cell_type": "markdown",
   "id": "36370dc0",
   "metadata": {},
   "source": [
    "**vietnam.py**\n",
    "```python\n",
    "class VietnamPackage:\n",
    "    def detail(self):\n",
    "        print(\"[베트남 3박 5일 패키지] 다낭 효도 여행 60만원\")"
   ]
  },
  {
   "cell_type": "markdown",
   "id": "07b8ab8b",
   "metadata": {},
   "source": [
    "**\\_\\_init\\_\\_.py**\n",
    "\n",
    "해당 폴더가 패키지라는 것을 명시하기 위해 생성."
   ]
  },
  {
   "cell_type": "markdown",
   "id": "d32d4620",
   "metadata": {},
   "source": [
    "### **11.2.2 패키지 사용하기**"
   ]
  },
  {
   "cell_type": "code",
   "execution_count": 6,
   "id": "e03ba295",
   "metadata": {},
   "outputs": [
    {
     "name": "stdout",
     "output_type": "stream",
     "text": [
      "외부에서 thailand 모듈 호출\n",
      "[태국 3박 5일 패키지] 방콕, 파타야 여행(야시장 투어) 50만원\n"
     ]
    }
   ],
   "source": [
    "import travel.thailand # travel 패키지의 tahiland 모듈 가져오기\n",
    "\n",
    "trip_to = travel.thailand.ThailandPackage() # 객체를 재사용하거나, 가독성, 디버깅, 유지보수를 쉽게 하기 위해 trip_to 객체 생성\n",
    "trip_to.detail()"
   ]
  },
  {
   "cell_type": "markdown",
   "id": "fd0103a1",
   "metadata": {},
   "source": [
    "> **import 문**만 사용할 때는 대상이 **모듈이나 패키지**. 클래스나 함수는 호출 불가"
   ]
  },
  {
   "cell_type": "code",
   "execution_count": 7,
   "id": "888d0826",
   "metadata": {},
   "outputs": [
    {
     "ename": "ModuleNotFoundError",
     "evalue": "No module named 'travel.thailand.ThailandPackage'; 'travel.thailand' is not a package",
     "output_type": "error",
     "traceback": [
      "\u001b[0;31m---------------------------------------------------------------------------\u001b[0m",
      "\u001b[0;31mModuleNotFoundError\u001b[0m                       Traceback (most recent call last)",
      "Cell \u001b[0;32mIn[7], line 1\u001b[0m\n\u001b[0;32m----> 1\u001b[0m \u001b[38;5;28;01mimport\u001b[39;00m\u001b[38;5;250m \u001b[39m\u001b[38;5;21;01mtravel\u001b[39;00m\u001b[38;5;21;01m.\u001b[39;00m\u001b[38;5;21;01mthailand\u001b[39;00m\u001b[38;5;21;01m.\u001b[39;00m\u001b[38;5;21;01mThailandPackage\u001b[39;00m \u001b[38;5;66;03m# 클래스 Import 불가\u001b[39;00m\n\u001b[1;32m      3\u001b[0m trip_to \u001b[38;5;241m=\u001b[39m travel\u001b[38;5;241m.\u001b[39mthailand\u001b[38;5;241m.\u001b[39mThailandPackage()\n\u001b[1;32m      4\u001b[0m trip_to\u001b[38;5;241m.\u001b[39mdetail()\n",
      "\u001b[0;31mModuleNotFoundError\u001b[0m: No module named 'travel.thailand.ThailandPackage'; 'travel.thailand' is not a package"
     ]
    }
   ],
   "source": [
    "import travel.thailand.ThailandPackage # 클래스 Import 불가\n",
    "\n",
    "trip_to = travel.thailand.ThailandPackage()\n",
    "trip_to.detail()\n",
    "\n",
    "# ---------------------------------------------------------------------------\n",
    "# ModuleNotFoundError                       Traceback (most recent call last)\n",
    "# Cell In[10], line 1\n",
    "# ----> 1 import travel.thailand.ThailandPackage # 클래스 Import 불가\n",
    "#       3 trip_to = travel.thailand.ThailandPackage()\n",
    "#       4 trip_to.detail()\n",
    "\n",
    "# ModuleNotFoundError: No module named 'travel.thailand.ThailandPackage'; 'travel.thailand' is not a package"
   ]
  },
  {
   "cell_type": "markdown",
   "id": "bb1c2609",
   "metadata": {},
   "source": [
    "> **from~import 문**을 사용하면 함수부터 클래스, 모듈, 패키지까지 **모두 import 가능**"
   ]
  },
  {
   "cell_type": "code",
   "execution_count": null,
   "id": "21671736",
   "metadata": {},
   "outputs": [
    {
     "name": "stdout",
     "output_type": "stream",
     "text": [
      "[태국 3박 5일 패키지] 방콕, 파타야 여행(야시장 투어) 50만원\n"
     ]
    }
   ],
   "source": [
    "# travel.thailand 모듈에서 ThailandPackage 클래스 가져오기\n",
    "from travel.thailand import ThailandPackage\n",
    "\n",
    "trip_to = ThailandPackage() # from~import 문에서는 travel.thailand. 제외\n",
    "trip_to.detail()"
   ]
  },
  {
   "cell_type": "code",
   "execution_count": null,
   "id": "5780cfb9",
   "metadata": {},
   "outputs": [
    {
     "name": "stdout",
     "output_type": "stream",
     "text": [
      "[베트남 3박 5일 패키지] 다낭 효도 여행 60만원\n"
     ]
    }
   ],
   "source": [
    "from travel import vietnam\n",
    "\n",
    "trip_to = vietnam.VietnamPackage()\n",
    "trip_to.detail()"
   ]
  },
  {
   "cell_type": "markdown",
   "id": "74a6d5a9",
   "metadata": {},
   "source": [
    "## **11.3 모듈 공개 설정하기: \\_\\_all\\_\\_**\n",
    "\n",
    "패키지에 포함된 모듈 중에서 import 되길 원하는 것만 공개하고 나머지는 비공개로 설정할 수 있음. \n",
    "\n",
    "from travel import * 과 같이 *을 이용해 패키지 내 모듈들을 가져다 쓰려고 하는 경우에 import할 대상을 정의하는 역할\n",
    "\n",
    "> **공개설정 방법:** **\\_\\_init\\_\\_.py 파일 ➡️  \\_\\_all\\_\\_ = [\"모듈명\"]**"
   ]
  },
  {
   "cell_type": "code",
   "execution_count": null,
   "id": "059eb850",
   "metadata": {},
   "outputs": [
    {
     "name": "stdout",
     "output_type": "stream",
     "text": [
      "[베트남 3박 5일 패키지] 다낭 효도 여행 60만원\n"
     ]
    }
   ],
   "source": [
    "from travel import *\n",
    "\n",
    "trip_to = vietnam.VietnamPackage()\n",
    "trip_to.detail()\n",
    "\n",
    "# ---------------------------------------------------------------------------\n",
    "# NameError                                 Traceback (most recent call last)\n",
    "# Cell In[1], line 3\n",
    "#       1 from travel import *\n",
    "# ----> 3 trip_to = vietnam.VietnamPackage()\n",
    "#       4 trip_to.detail()\n",
    "\n",
    "# NameError: name 'vietnam' is not defined\n",
    "\n",
    "# vietnam 모듈은 아직 공개처리가 되어있지 않아 와일드카드로 불러온 경우 호출되지 않음.\n"
   ]
  },
  {
   "cell_type": "markdown",
   "id": "9cf408f6",
   "metadata": {},
   "source": [
    "##### **\\_\\_init\\_\\_.py**\n",
    "```python\n",
    "__all__= [\"vietnam\"] # vietnam 모듈 공개"
   ]
  },
  {
   "cell_type": "code",
   "execution_count": null,
   "id": "c53d60e6",
   "metadata": {},
   "outputs": [
    {
     "name": "stdout",
     "output_type": "stream",
     "text": [
      "[베트남 3박 5일 패키지] 다낭 효도 여행 60만원\n"
     ]
    }
   ],
   "source": [
    "from travel import *\n",
    "\n",
    "trip_to = vietnam.VietnamPackage()\n",
    "trip_to.detail()"
   ]
  },
  {
   "cell_type": "markdown",
   "id": "2405c41f",
   "metadata": {},
   "source": [
    "## **11.4 모듈 직접 실행하기**\n",
    "```python\n",
    "if __name__ == \"__main__\": # 직접 실행하는 경우\n",
    "    pass\n",
    "else: # 외부에서 호출해 실행하는 경우\n",
    "    pass"
   ]
  },
  {
   "cell_type": "markdown",
   "id": "7b59a9f5",
   "metadata": {},
   "source": [
    "|용어|설명|\n",
    "|--|--|\n",
    "|**내장 변수**|파이썬에서 어떻게 사용할지 역할이 이미 정의되어 있는 변수|\n",
    "|**\\_\\_name\\_\\_**|현재 모듈(작성한 파이썬 파일)의 이름을 값으로 가지는 내장 변수|\n",
    "|**\\_\\_main\\_\\_**|모듈이 직접 실행되는 경우 \\_\\_name\\_\\_ 값의 기본 설정값|"
   ]
  },
  {
   "cell_type": "markdown",
   "id": "fcb444b6",
   "metadata": {},
   "source": [
    "---\n",
    "##### **thailand.py**\n",
    "\n",
    "```python\n",
    "class ThailandPackage:\n",
    "    def detail(self):\n",
    "        print(\"[태국 3박 5일 패키지] 방콕, 파타야 여행(야시장 투어) 50만원\")\n",
    "\n",
    "if __name__ == \"__main__\":\n",
    "    print(\"thailand 모듈 직접 실행\")\n",
    "    print(\"이 문장은 모듈을 직접 실행할 때만 출력\")\n",
    "    trip_to = ThailandPackage()\n",
    "    trip_to.detail()\n",
    "\n",
    "else:\n",
    "    print(\"외부에서 thailand 모듈 호출\")"
   ]
  },
  {
   "cell_type": "markdown",
   "id": "2e806e0a",
   "metadata": {},
   "source": [
    "---\n",
    "##### **실행 결과(터미널)**\n",
    "```text\n",
    "thailand 모듈 직접 실행\n",
    "\n",
    "이 문장은 모듈을 직접 실행할 때만 출력\n",
    "\n",
    "[태국 3박 5일 패키지] 방콕, 파타야 여행(야시장 투어) 50만원"
   ]
  },
  {
   "cell_type": "code",
   "execution_count": null,
   "id": "41cff3cd",
   "metadata": {},
   "outputs": [
    {
     "name": "stdout",
     "output_type": "stream",
     "text": [
      "외부에서 thailand 모듈 호출\n",
      "[태국 3박 5일 패키지] 방콕, 파타야 여행(야시장 투어) 50만원\n"
     ]
    }
   ],
   "source": [
    "from travel import *\n",
    "\n",
    "trip_to = thailand.ThailandPackage()\n",
    "trip_to.detail()"
   ]
  },
  {
   "cell_type": "markdown",
   "id": "279170d2",
   "metadata": {},
   "source": [
    "## **11.5. 패키지와 모듈 위치 확인하기**\n",
    "\n",
    "**라이브러리**: 특정 기능을 사용하기 위해 개발한 패키지 묶음. 하지만 패키지와 혼용하는 용어여서 크게 구분하지 않아도 괜찮음."
   ]
  },
  {
   "cell_type": "code",
   "execution_count": null,
   "id": "6cd96ede",
   "metadata": {},
   "outputs": [
    {
     "name": "stdout",
     "output_type": "stream",
     "text": [
      "/Users/yeonseongmo/.pyenv/versions/3.10.13/lib/python3.10/random.py\n",
      "/Users/yeonseongmo/Desktop/Python/Ch11_모듈과_패키지/travel/thailand.py\n"
     ]
    }
   ],
   "source": [
    "import inspect # getfile() 함수가 속한 모듈\n",
    "import random\n",
    "from travel import *\n",
    "\n",
    "print(inspect.getfile(random)) # random 모듈 위치 경로\n",
    "\n",
    "print(inspect.getfile(thailand))"
   ]
  },
  {
   "cell_type": "markdown",
   "id": "29127c8b",
   "metadata": {},
   "source": [
    "## **11.6 패키지 설치하기**"
   ]
  },
  {
   "cell_type": "code",
   "execution_count": null,
   "id": "c0005523",
   "metadata": {},
   "outputs": [],
   "source": [
    "# pip install beautifulsoup4"
   ]
  },
  {
   "cell_type": "code",
   "execution_count": null,
   "id": "6a73f795",
   "metadata": {},
   "outputs": [
    {
     "name": "stdout",
     "output_type": "stream",
     "text": [
      "<html>\n",
      " <body>\n",
      "  <p>\n",
      "   Some\n",
      "   <b>\n",
      "    bad\n",
      "    <i>\n",
      "     HTML\n",
      "    </i>\n",
      "   </b>\n",
      "  </p>\n",
      " </body>\n",
      "</html>\n",
      "\n"
     ]
    }
   ],
   "source": [
    "from bs4 import BeautifulSoup\n",
    "\n",
    "soup = BeautifulSoup(\"<p>Some<b>bad<i>HTML\")\n",
    "print(soup.prettify())"
   ]
  },
  {
   "cell_type": "code",
   "execution_count": null,
   "id": "6a20182c",
   "metadata": {},
   "outputs": [
    {
     "name": "stdout",
     "output_type": "stream",
     "text": [
      "Package                      Version\n",
      "---------------------------- --------------\n",
      "absl-py                      2.2.2\n",
      "annotated-types              0.7.0\n",
      "anyascii                     0.3.2\n",
      "anyio                        4.9.0\n",
      "appnope                      0.1.4\n",
      "argon2-cffi                  25.1.0\n",
      "argon2-cffi-bindings         21.2.0\n",
      "arrow                        1.3.0\n",
      "asttokens                    3.0.0\n",
      "astunparse                   1.6.3\n",
      "async-lru                    2.0.5\n",
      "attrs                        25.3.0\n",
      "babel                        2.17.0\n",
      "beautifulsoup4               4.13.3\n",
      "bleach                       6.2.0\n",
      "blinker                      1.9.0\n",
      "blis                         1.3.0\n",
      "branca                       0.8.1\n",
      "cachetools                   5.5.2\n",
      "catalogue                    2.0.10\n",
      "certifi                      2025.1.31\n",
      "cffi                         1.17.1\n",
      "chardet                      3.0.4\n",
      "charset-normalizer           3.4.1\n",
      "click                        8.1.8\n",
      "cloudpathlib                 0.21.0\n",
      "comm                         0.2.2\n",
      "confection                   0.1.5\n",
      "contourpy                    1.3.2\n",
      "contractions                 0.1.73\n",
      "courlan                      1.3.2\n",
      "cssselect                    1.3.0\n",
      "curl_cffi                    0.10.0\n",
      "cycler                       0.12.1\n",
      "cymem                        2.0.11\n",
      "Cython                       3.0.12\n",
      "dateparser                   1.2.1\n",
      "debugpy                      1.8.14\n",
      "decorator                    5.2.1\n",
      "defusedxml                   0.7.1\n",
      "en_core_web_sm               3.8.0\n",
      "entrypoints                  0.4\n",
      "et_xmlfile                   2.0.0\n",
      "exceptiongroup               1.2.2\n",
      "executing                    2.2.0\n",
      "fastjsonschema               2.21.1\n",
      "feedfinder2                  0.0.4\n",
      "feedparser                   6.0.11\n",
      "filelock                     3.18.0\n",
      "finnhub-python               2.4.23\n",
      "Flask                        3.1.0\n",
      "flatbuffers                  25.2.10\n",
      "folium                       0.19.7\n",
      "fonttools                    4.57.0\n",
      "fqdn                         1.5.1\n",
      "frozendict                   2.4.6\n",
      "fsspec                       2025.3.2\n",
      "funcy                        2.0\n",
      "gast                         0.6.0\n",
      "gensim                       4.3.1\n",
      "geopandas                    1.1.0\n",
      "google-ai-generativelanguage 0.6.15\n",
      "google-api-core              2.25.0rc1\n",
      "google-api-python-client     2.169.0\n",
      "google-auth                  2.40.1\n",
      "google-auth-httplib2         0.2.0\n",
      "google-generativeai          0.8.5\n",
      "google-pasta                 0.2.0\n",
      "googleapis-common-protos     1.70.0\n",
      "googletrans                  4.0.0rc1\n",
      "goose3                       3.1.19\n",
      "graphviz                     0.20.3\n",
      "grpcio                       1.71.0\n",
      "grpcio-status                1.71.0\n",
      "h11                          0.16.0\n",
      "h2                           3.2.0\n",
      "h5py                         3.13.0\n",
      "hpack                        3.0.0\n",
      "hstspreload                  2025.1.1\n",
      "htmldate                     1.9.3\n",
      "httpcore                     1.0.9\n",
      "httplib2                     0.22.0\n",
      "httpx                        0.28.1\n",
      "huggingface-hub              0.31.4\n",
      "hyperframe                   5.2.0\n",
      "idna                         2.10\n",
      "ipykernel                    6.29.5\n",
      "ipython                      8.35.0\n",
      "isoduration                  20.11.0\n",
      "itsdangerous                 2.2.0\n",
      "jedi                         0.19.2\n",
      "jieba3k                      0.35.1\n",
      "Jinja2                       3.1.6\n",
      "joblib                       1.4.2\n",
      "jpype1                       1.5.2\n",
      "json5                        0.12.0\n",
      "jsonpointer                  3.0.0\n",
      "jsonschema                   4.24.0\n",
      "jsonschema-specifications    2025.4.1\n",
      "jupyter_client               7.4.9\n",
      "jupyter_core                 5.7.2\n",
      "jupyter-events               0.12.0\n",
      "jupyter-lsp                  2.2.5\n",
      "jupyter_server               2.16.0\n",
      "jupyter_server_terminals     0.5.3\n",
      "jupyterlab                   4.4.3\n",
      "jupyterlab_pygments          0.3.0\n",
      "jupyterlab_server            2.27.3\n",
      "jusText                      3.0.2\n",
      "kagglehub                    0.3.12\n",
      "keras                        3.10.0\n",
      "kiwisolver                   1.4.8\n",
      "konlpy                       0.6.0\n",
      "langcodes                    3.5.0\n",
      "langdetect                   1.0.9\n",
      "language_data                1.3.0\n",
      "libclang                     18.1.1\n",
      "lightgbm                     4.6.0\n",
      "lxml                         5.4.0\n",
      "lxml_html_clean              0.4.2\n",
      "marisa-trie                  1.2.1\n",
      "Markdown                     3.8\n",
      "markdown-it-py               3.0.0\n",
      "MarkupSafe                   3.0.2\n",
      "matplotlib                   3.10.1\n",
      "matplotlib-inline            0.1.7\n",
      "mdurl                        0.1.2\n",
      "mistune                      3.1.3\n",
      "ml_dtypes                    0.5.1\n",
      "mpmath                       1.3.0\n",
      "multitasking                 0.0.11\n",
      "murmurhash                   1.0.12\n",
      "namex                        0.0.9\n",
      "nbclient                     0.10.2\n",
      "nbconvert                    7.16.6\n",
      "nbformat                     5.10.4\n",
      "nest-asyncio                 1.6.0\n",
      "networkx                     3.4.2\n",
      "newspaper3k                  0.2.8\n",
      "nltk                         3.9.1\n",
      "notebook                     7.4.3\n",
      "notebook_shim                0.2.4\n",
      "numexpr                      2.10.2\n",
      "numpy                        1.26.4\n",
      "openpyxl                     3.1.5\n",
      "opt_einsum                   3.4.0\n",
      "optree                       0.15.0\n",
      "overrides                    7.7.0\n",
      "packaging                    24.2\n",
      "pandas                       2.2.3\n",
      "pandocfilters                1.5.1\n",
      "parso                        0.8.4\n",
      "peewee                       3.18.1\n",
      "pexpect                      4.9.0\n",
      "pillow                       11.2.1\n",
      "pip                          25.1.1\n",
      "platformdirs                 4.3.7\n",
      "preshed                      3.0.9\n",
      "prometheus_client            0.22.1\n",
      "prompt_toolkit               3.0.50\n",
      "proto-plus                   1.26.1\n",
      "protobuf                     5.29.4\n",
      "psutil                       7.0.0\n",
      "ptyprocess                   0.7.0\n",
      "pure_eval                    0.2.3\n",
      "pyahocorasick                2.1.0\n",
      "pyasn1                       0.6.1\n",
      "pyasn1_modules               0.4.2\n",
      "pycparser                    2.22\n",
      "pydantic                     2.11.3\n",
      "pydantic_core                2.33.1\n",
      "Pygments                     2.19.1\n",
      "pyLDAvis                     3.4.1\n",
      "pyogrio                      0.11.0\n",
      "pyparsing                    3.2.3\n",
      "pyproj                       3.7.1\n",
      "PySocks                      1.7.1\n",
      "python-dateutil              2.9.0.post0\n",
      "python-dotenv                1.1.0\n",
      "python-json-logger           3.3.0\n",
      "pytz                         2025.2\n",
      "PyYAML                       6.0.2\n",
      "pyzmq                        24.0.1\n",
      "readability-lxml             0.8.4.1\n",
      "referencing                  0.36.2\n",
      "regex                        2024.11.6\n",
      "requests                     2.32.3\n",
      "requests-file                2.1.0\n",
      "rfc3339-validator            0.1.4\n",
      "rfc3986                      1.5.0\n",
      "rfc3986-validator            0.1.1\n",
      "rich                         14.0.0\n",
      "rpds-py                      0.25.1\n",
      "rsa                          4.9.1\n",
      "safetensors                  0.5.3\n",
      "scikit-learn                 1.6.1\n",
      "scipy                        1.11.4\n",
      "seaborn                      0.13.2\n",
      "Send2Trash                   1.8.3\n",
      "sentencepiece                0.2.0\n",
      "setuptools                   78.1.0\n",
      "sgmllib3k                    1.0.0\n",
      "shapely                      2.1.1\n",
      "shellingham                  1.5.4\n",
      "six                          1.17.0\n",
      "smart-open                   7.1.0\n",
      "sniffio                      1.3.1\n",
      "snscrape                     0.7.0.20230622\n",
      "soupsieve                    2.6\n",
      "spacy                        3.8.5\n",
      "spacy-legacy                 3.0.12\n",
      "spacy-loggers                1.0.5\n",
      "srsly                        2.5.1\n",
      "stack-data                   0.6.3\n",
      "sympy                        1.14.0\n",
      "tabulate                     0.9.0\n",
      "tensorboard                  2.19.0\n",
      "tensorboard-data-server      0.7.2\n",
      "tensorflow                   2.19.0\n",
      "tensorflow-io-gcs-filesystem 0.37.1\n",
      "termcolor                    3.1.0\n",
      "terminado                    0.18.1\n",
      "textsearch                   0.0.24\n",
      "tf_keras                     2.19.0\n",
      "thinc                        8.3.6\n",
      "threadpoolctl                3.6.0\n",
      "tinycss2                     1.4.0\n",
      "tinysegmenter                0.3\n",
      "tld                          0.13\n",
      "tldextract                   5.3.0\n",
      "tokenizers                   0.21.1\n",
      "tomli                        2.2.1\n",
      "torch                        2.7.0\n",
      "tornado                      6.4.2\n",
      "tqdm                         4.67.1\n",
      "trafilatura                  2.0.0\n",
      "traitlets                    5.14.3\n",
      "transformers                 4.51.3\n",
      "typer                        0.15.2\n",
      "types-python-dateutil        2.9.0.20250516\n",
      "typing_extensions            4.13.2\n",
      "typing-inspection            0.4.0\n",
      "tzdata                       2025.2\n",
      "tzlocal                      5.3.1\n",
      "uri-template                 1.3.0\n",
      "uritemplate                  4.1.1\n",
      "urllib3                      2.4.0\n",
      "wasabi                       1.1.3\n",
      "wcwidth                      0.2.13\n",
      "weasel                       0.4.1\n",
      "webcolors                    24.11.1\n",
      "webencodings                 0.5.1\n",
      "websocket-client             1.8.0\n",
      "websockets                   15.0.1\n",
      "Werkzeug                     3.1.3\n",
      "wheel                        0.45.1\n",
      "wordcloud                    1.9.4\n",
      "wrapt                        1.17.2\n",
      "xgboost                      3.0.1\n",
      "xyzservices                  2025.4.0\n",
      "yfinance                     0.2.61\n",
      "Note: you may need to restart the kernel to use updated packages.\n"
     ]
    }
   ],
   "source": [
    "pip list"
   ]
  },
  {
   "cell_type": "code",
   "execution_count": null,
   "id": "4e724407",
   "metadata": {},
   "outputs": [
    {
     "name": "stdout",
     "output_type": "stream",
     "text": [
      "Name: beautifulsoup4\n",
      "Version: 4.13.3\n",
      "Summary: Screen-scraping library\n",
      "Home-page: https://www.crummy.com/software/BeautifulSoup/bs4/\n",
      "Author: \n",
      "Author-email: Leonard Richardson <leonardr@segfault.org>\n",
      "License: MIT License\n",
      "Location: /Users/yeonseongmo/.pyenv/versions/3.10.13/lib/python3.10/site-packages\n",
      "Requires: soupsieve, typing-extensions\n",
      "Required-by: feedfinder2, goose3, nbconvert, newspaper3k, snscrape, yfinance\n",
      "Note: you may need to restart the kernel to use updated packages.\n"
     ]
    }
   ],
   "source": [
    "pip show beautifulsoup4"
   ]
  },
  {
   "cell_type": "code",
   "execution_count": null,
   "id": "e9ae61e9",
   "metadata": {},
   "outputs": [
    {
     "name": "stdout",
     "output_type": "stream",
     "text": [
      "Requirement already satisfied: beautifulsoup4 in /Users/yeonseongmo/.pyenv/versions/3.10.13/lib/python3.10/site-packages (4.13.3)\n",
      "Collecting beautifulsoup4\n",
      "  Using cached beautifulsoup4-4.13.4-py3-none-any.whl.metadata (3.8 kB)\n",
      "Requirement already satisfied: soupsieve>1.2 in /Users/yeonseongmo/.pyenv/versions/3.10.13/lib/python3.10/site-packages (from beautifulsoup4) (2.6)\n",
      "Requirement already satisfied: typing-extensions>=4.0.0 in /Users/yeonseongmo/.pyenv/versions/3.10.13/lib/python3.10/site-packages (from beautifulsoup4) (4.13.2)\n",
      "Using cached beautifulsoup4-4.13.4-py3-none-any.whl (187 kB)\n",
      "Installing collected packages: beautifulsoup4\n",
      "  Attempting uninstall: beautifulsoup4\n",
      "    Found existing installation: beautifulsoup4 4.13.3\n",
      "    Uninstalling beautifulsoup4-4.13.3:\n",
      "      Successfully uninstalled beautifulsoup4-4.13.3\n",
      "Successfully installed beautifulsoup4-4.13.4\n",
      "Note: you may need to restart the kernel to use updated packages.\n"
     ]
    }
   ],
   "source": [
    "pip install --upgrade beautifulsoup4"
   ]
  },
  {
   "cell_type": "code",
   "execution_count": null,
   "id": "79c3025f",
   "metadata": {},
   "outputs": [],
   "source": [
    "# pip uninstall beautifulsoup4"
   ]
  },
  {
   "cell_type": "markdown",
   "id": "5adcd8a4",
   "metadata": {},
   "source": [
    "## **11.7 내장 함수 사용하기**\n",
    "**내장함수**: 별도로 import하지 않고 사용할 수 있는 함수"
   ]
  },
  {
   "cell_type": "markdown",
   "id": "19a07ead",
   "metadata": {},
   "source": [
    "> **input() 힘수**"
   ]
  },
  {
   "cell_type": "code",
   "execution_count": null,
   "id": "64ccabab",
   "metadata": {},
   "outputs": [
    {
     "name": "stdout",
     "output_type": "stream",
     "text": [
      "파이썬은 아주 좋은 언어입니다!\n"
     ]
    }
   ],
   "source": [
    "language = input(\"어떤 언어를 좋아하세요? \")\n",
    "print(f\"{language}은 아주 좋은 언어입니다!\")"
   ]
  },
  {
   "cell_type": "markdown",
   "id": "edfb4b12",
   "metadata": {},
   "source": [
    "> **dir() 힘수**는 어떤 객체를 전달값으로 넘기면 이 객체가 어떤 변수와 함수를 가지고 있는지 알려주는 함수."
   ]
  },
  {
   "cell_type": "code",
   "execution_count": null,
   "id": "74015882",
   "metadata": {},
   "outputs": [
    {
     "name": "stdout",
     "output_type": "stream",
     "text": [
      "['In', 'Out', '_', '__', '___', '__builtin__', '__builtins__', '__doc__', '__loader__', '__name__', '__package__', '__spec__', '__vsc_ipynb_file__', '_dh', '_i', '_i1', '_ih', '_ii', '_iii', '_oh', 'exit', 'get_ipython', 'open', 'quit']\n",
      "['In', 'Out', '_', '__', '___', '__builtin__', '__builtins__', '__doc__', '__loader__', '__name__', '__package__', '__spec__', '__vsc_ipynb_file__', '_dh', '_i', '_i1', '_ih', '_ii', '_iii', '_oh', 'exit', 'get_ipython', 'open', 'quit', 'random']\n",
      "['In', 'Out', '_', '__', '___', '__builtin__', '__builtins__', '__doc__', '__loader__', '__name__', '__package__', '__spec__', '__vsc_ipynb_file__', '_dh', '_i', '_i1', '_ih', '_ii', '_iii', '_oh', 'exit', 'get_ipython', 'open', 'pickle', 'quit', 'random']\n"
     ]
    }
   ],
   "source": [
    "print(dir())\n",
    "import random\n",
    "print(dir())\n",
    "import pickle\n",
    "print(dir())"
   ]
  },
  {
   "cell_type": "code",
   "execution_count": null,
   "id": "07c06c77",
   "metadata": {},
   "outputs": [
    {
     "name": "stdout",
     "output_type": "stream",
     "text": [
      "['BPF', 'LOG4', 'NV_MAGICCONST', 'RECIP_BPF', 'Random', 'SG_MAGICCONST', 'SystemRandom', 'TWOPI', '_ONE', '_Sequence', '_Set', '__all__', '__builtins__', '__cached__', '__doc__', '__file__', '__loader__', '__name__', '__package__', '__spec__', '_accumulate', '_acos', '_bisect', '_ceil', '_cos', '_e', '_exp', '_floor', '_index', '_inst', '_isfinite', '_log', '_os', '_pi', '_random', '_repeat', '_sha512', '_sin', '_sqrt', '_test', '_test_generator', '_urandom', '_warn', 'betavariate', 'choice', 'choices', 'expovariate', 'gammavariate', 'gauss', 'getrandbits', 'getstate', 'lognormvariate', 'normalvariate', 'paretovariate', 'randbytes', 'randint', 'random', 'randrange', 'sample', 'seed', 'setstate', 'shuffle', 'triangular', 'uniform', 'vonmisesvariate', 'weibullvariate']\n"
     ]
    }
   ],
   "source": [
    "import random\n",
    "print(dir(random))"
   ]
  },
  {
   "cell_type": "code",
   "execution_count": null,
   "id": "ce6cfbcd",
   "metadata": {},
   "outputs": [
    {
     "name": "stdout",
     "output_type": "stream",
     "text": [
      "['__add__', '__class__', '__class_getitem__', '__contains__', '__delattr__', '__delitem__', '__dir__', '__doc__', '__eq__', '__format__', '__ge__', '__getattribute__', '__getitem__', '__gt__', '__hash__', '__iadd__', '__imul__', '__init__', '__init_subclass__', '__iter__', '__le__', '__len__', '__lt__', '__mul__', '__ne__', '__new__', '__reduce__', '__reduce_ex__', '__repr__', '__reversed__', '__rmul__', '__setattr__', '__setitem__', '__sizeof__', '__str__', '__subclasshook__', 'append', 'clear', 'copy', 'count', 'extend', 'index', 'insert', 'pop', 'remove', 'reverse', 'sort']\n"
     ]
    }
   ],
   "source": [
    "lst = [1,2,3]\n",
    "print(dir(lst))"
   ]
  },
  {
   "cell_type": "code",
   "execution_count": null,
   "id": "a1de1f35",
   "metadata": {},
   "outputs": [
    {
     "name": "stdout",
     "output_type": "stream",
     "text": [
      "['__add__', '__class__', '__contains__', '__delattr__', '__dir__', '__doc__', '__eq__', '__format__', '__ge__', '__getattribute__', '__getitem__', '__getnewargs__', '__gt__', '__hash__', '__init__', '__init_subclass__', '__iter__', '__le__', '__len__', '__lt__', '__mod__', '__mul__', '__ne__', '__new__', '__reduce__', '__reduce_ex__', '__repr__', '__rmod__', '__rmul__', '__setattr__', '__sizeof__', '__str__', '__subclasshook__', 'capitalize', 'casefold', 'center', 'count', 'encode', 'endswith', 'expandtabs', 'find', 'format', 'format_map', 'index', 'isalnum', 'isalpha', 'isascii', 'isdecimal', 'isdigit', 'isidentifier', 'islower', 'isnumeric', 'isprintable', 'isspace', 'istitle', 'isupper', 'join', 'ljust', 'lower', 'lstrip', 'maketrans', 'partition', 'removeprefix', 'removesuffix', 'replace', 'rfind', 'rindex', 'rjust', 'rpartition', 'rsplit', 'rstrip', 'split', 'splitlines', 'startswith', 'strip', 'swapcase', 'title', 'translate', 'upper', 'zfill']\n"
     ]
    }
   ],
   "source": [
    "name = \"Jim\"\n",
    "print(dir(name))"
   ]
  },
  {
   "cell_type": "markdown",
   "id": "360025f3",
   "metadata": {},
   "source": [
    "## **11.8 외장 함수 사용하기**"
   ]
  },
  {
   "cell_type": "markdown",
   "id": "aa507bf1",
   "metadata": {},
   "source": [
    "### **11.8.1 폴더 또는 파일 목록 조회 모듈 ➡️ glob**"
   ]
  },
  {
   "cell_type": "code",
   "execution_count": null,
   "id": "c6ce301f",
   "metadata": {},
   "outputs": [
    {
     "name": "stdout",
     "output_type": "stream",
     "text": [
      "['Ch11_모듈과패키지.ipynb']\n"
     ]
    }
   ],
   "source": [
    "import glob\n",
    "\n",
    "print(glob.glob(\"*.ipynb\"))"
   ]
  },
  {
   "cell_type": "markdown",
   "id": "6923caf2",
   "metadata": {},
   "source": [
    "### **11.8.2 운영체제의 기본 기능 모듈 ➡️ os**"
   ]
  },
  {
   "cell_type": "code",
   "execution_count": null,
   "id": "f28db0bb",
   "metadata": {},
   "outputs": [
    {
     "name": "stdout",
     "output_type": "stream",
     "text": [
      "/Users/yeonseongmo/Desktop/Python/Ch11_모듈과_패키지\n"
     ]
    }
   ],
   "source": [
    "import os\n",
    "\n",
    "print(os.getcwd()) # 현재 작업 폴더 위치(경로) 출력"
   ]
  },
  {
   "cell_type": "code",
   "execution_count": null,
   "id": "4878383e",
   "metadata": {},
   "outputs": [
    {
     "name": "stdout",
     "output_type": "stream",
     "text": [
      "sample_dir 폴더를 생성했습니다.\n"
     ]
    }
   ],
   "source": [
    "folder = \"sample_dir\"\n",
    "\n",
    "if os.path.exists(folder):\n",
    "    print(\"이미 존재하는 폴더입니다. \")\n",
    "\n",
    "else:\n",
    "    os.makedirs(folder) # 폴더 생성\n",
    "    print(folder, \"폴더를 생성했습니다.\")"
   ]
  },
  {
   "cell_type": "code",
   "execution_count": null,
   "id": "171fef2e",
   "metadata": {},
   "outputs": [
    {
     "name": "stdout",
     "output_type": "stream",
     "text": [
      "이미 존재하는 폴더입니다. \n",
      "sample_dir 폴더를 삭제했습니다.\n"
     ]
    }
   ],
   "source": [
    "folder = \"sample_dir\"\n",
    "\n",
    "if os.path.exists(folder):\n",
    "    print(\"이미 존재하는 폴더입니다. \")\n",
    "    \n",
    "    os.rmdir(folder)# 폴더 삭제\n",
    "    print(folder, \"폴더를 삭제했습니다.\")\n",
    "\n",
    "else:\n",
    "    os.makedirs(folder) # 폴더 생성\n",
    "    print(folder, \"폴더를 생성했습니다.\")"
   ]
  },
  {
   "cell_type": "code",
   "execution_count": null,
   "id": "f791eb8d",
   "metadata": {},
   "outputs": [
    {
     "name": "stdout",
     "output_type": "stream",
     "text": [
      "['Ch11_모듈과패키지.ipynb', '__pycache__', 'travel', 'theater_module.py']\n"
     ]
    }
   ],
   "source": [
    "print(os.listdir()) # 현재 작업 폴더 안의 폴더와 파일 목록 출력. glob과 유사함."
   ]
  },
  {
   "cell_type": "markdown",
   "id": "ce5513af",
   "metadata": {},
   "source": [
    "### **11.8.3 시간 관련 모듈 ➡️ time, datetime**"
   ]
  },
  {
   "cell_type": "code",
   "execution_count": null,
   "id": "60442a0b",
   "metadata": {},
   "outputs": [
    {
     "name": "stdout",
     "output_type": "stream",
     "text": [
      "time.struct_time(tm_year=2025, tm_mon=7, tm_mday=15, tm_hour=15, tm_min=44, tm_sec=3, tm_wday=1, tm_yday=196, tm_isdst=0)\n",
      "2025-07-15 15:44:03\n"
     ]
    }
   ],
   "source": [
    "import time\n",
    "\n",
    "print(time.localtime())\n",
    "\n",
    "print(time.strftime(\"%Y-%m-%d %H:%M:%S\")) # 연-월-일 시:분:초"
   ]
  },
  {
   "cell_type": "code",
   "execution_count": null,
   "id": "c464b12f",
   "metadata": {},
   "outputs": [
    {
     "name": "stdout",
     "output_type": "stream",
     "text": [
      "오늘 날짜는 2025-07-15\n"
     ]
    }
   ],
   "source": [
    "import datetime\n",
    "print(\"오늘 날짜는\", datetime.date.today())"
   ]
  },
  {
   "cell_type": "code",
   "execution_count": null,
   "id": "e18118db",
   "metadata": {},
   "outputs": [
    {
     "name": "stdout",
     "output_type": "stream",
     "text": [
      "우리가 만난 지 100일은 2025-10-23\n"
     ]
    }
   ],
   "source": [
    "today = datetime.date.today()\n",
    "td = datetime.timedelta(days = 100)\n",
    "print(\"우리가 만난 지 100일은\", today + td)"
   ]
  },
  {
   "cell_type": "markdown",
   "id": "91d547db",
   "metadata": {},
   "source": [
    "## **11.9 실습 문제: 나만의 모듈 만들기**\n",
    "\n",
    "### **문제:** 프로젝트에 나만의 서명을 남기는 모듈 제작\n",
    "\n",
    "### **조건:**\n",
    "- 모듈 파일명은 byme.py\n",
    "- 예시와 같은 실행결과 출력\n",
    "---\n",
    "```python\n",
    "import byme\n",
    "\n",
    "byme.sign()\n",
    "```\n",
    "---\n",
    "\n",
    "/\n",
    "\n",
    "```text\n",
    "예시 실행결과\n",
    "-------------------------------------------\n",
    "이 프로그램은 나도코딩이 만들었습니다.\n",
    "유튜브 : https://www.youtube.com/@nadocoding\n",
    "이메일 : nadocoding@gmail.com"
   ]
  },
  {
   "cell_type": "code",
   "execution_count": 1,
   "id": "a054f9ca",
   "metadata": {},
   "outputs": [
    {
     "name": "stdout",
     "output_type": "stream",
     "text": [
      "이 프로그램은 [리자몽]이 만들었습니다.\n",
      "이메일 : yeonsm0616@naver.com\n",
      "학교 : 한성대학교 비즈니스 애널리틱스 / 빅데이터 트랙\n"
     ]
    },
    {
     "data": {
      "text/html": [
       "<a href=\"https://pokemondb.net/pokedex/charizard\"><img src=\"https://img.pokemondb.net/sprites/black-white/anim/normal/charizard.gif\" alt=\"Charizard\"></a>"
      ],
      "text/plain": [
       "<IPython.core.display.HTML object>"
      ]
     },
     "metadata": {},
     "output_type": "display_data"
    }
   ],
   "source": [
    "import byme\n",
    "\n",
    "byme.sign()"
   ]
  },
  {
   "cell_type": "code",
   "execution_count": null,
   "id": "9c5fdbbf",
   "metadata": {},
   "outputs": [],
   "source": [
    "# 실습 문제\n",
    "# 문제 상황에 따라 알맞은 인사말을 출력하는 모듈을 작성하세요.\n",
    "\n",
    "# 조건\n",
    "\n",
    "# 1. 모듈 파일명은 greeting.py로 짓는다.\n",
    "\n",
    "# 2. 모듈에는 다음과 같이 2가지 함수를 구현한다.\n",
    "\n",
    "# ① say_hello(to): 만났을 때 하는 인사말을 출력한다.\n",
    "# 예) 전달값이 ‘파이썬’일 때: 안녕, 파이썬?\n",
    "\n",
    "# ② say_goodbye(to): 헤어질 때 하는 인사말을 출력한다.\n",
    "# 예) 전달값이 ‘나도코딩’일 때: 또 만나, 나도코딩!\n",
    "\n",
    "# 3. 모듈을 직접 실행하는 경우에만 함수 2개를 순서대로 호출한다.\n",
    "\n",
    "# 실행결과\n",
    "# # 모듈을 직접 실행 시 출력 결과\n",
    "# # 함수의 전달값으로 각각 파이썬과 나도코딩 전달\n",
    "# 안녕, 파이썬?\n",
    "# 또 만나, 나도코딩!"
   ]
  },
  {
   "cell_type": "code",
   "execution_count": 3,
   "id": "c454bb4f",
   "metadata": {},
   "outputs": [
    {
     "name": "stdout",
     "output_type": "stream",
     "text": [
      "안녕, 파이썬?\n",
      "또 만나, 나도코딩!\n"
     ]
    }
   ],
   "source": [
    "from greeting import *\n",
    "\n",
    "say_hello(\"파이썬\")\n",
    "say_goodbye(\"나도코딩\")"
   ]
  }
 ],
 "metadata": {
  "kernelspec": {
   "display_name": "3.10.13",
   "language": "python",
   "name": "python3"
  },
  "language_info": {
   "codemirror_mode": {
    "name": "ipython",
    "version": 3
   },
   "file_extension": ".py",
   "mimetype": "text/x-python",
   "name": "python",
   "nbconvert_exporter": "python",
   "pygments_lexer": "ipython3",
   "version": "3.10.13"
  }
 },
 "nbformat": 4,
 "nbformat_minor": 5
}
