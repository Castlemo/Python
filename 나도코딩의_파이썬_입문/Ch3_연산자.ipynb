{
 "cells": [
  {
   "cell_type": "markdown",
   "metadata": {},
   "source": [
    "# 3장 연산자\n",
    "## 3.1 연산자의 종류\n",
    "### 3.1.1 산술 연산자"
   ]
  },
  {
   "cell_type": "code",
   "execution_count": 1,
   "metadata": {},
   "outputs": [
    {
     "name": "stdout",
     "output_type": "stream",
     "text": [
      "2\n",
      "1\n",
      "10\n",
      "2.0\n"
     ]
    }
   ],
   "source": [
    "print(1 + 1)\n",
    "\n",
    "print(3 - 2)\n",
    "\n",
    "print(5 * 2)\n",
    "\n",
    "print(6 / 3)"
   ]
  },
  {
   "cell_type": "code",
   "execution_count": 2,
   "metadata": {},
   "outputs": [
    {
     "name": "stdout",
     "output_type": "stream",
     "text": [
      "8\n",
      "1\n",
      "3\n"
     ]
    }
   ],
   "source": [
    "print(2 ** 3) # 거듭제곱\n",
    "\n",
    "print(10 % 3) # 나머지\n",
    "\n",
    "print(10 // 3) # 몫\n",
    "\n",
    "# 결과는 모두 정수"
   ]
  },
  {
   "cell_type": "markdown",
   "metadata": {},
   "source": [
    "### 3.1.2 비교 연산자"
   ]
  },
  {
   "cell_type": "code",
   "execution_count": 3,
   "metadata": {},
   "outputs": [
    {
     "name": "stdout",
     "output_type": "stream",
     "text": [
      "True\n",
      "False\n",
      "False\n",
      "True\n"
     ]
    }
   ],
   "source": [
    "print(10 > 3)\n",
    "\n",
    "print(4 >= 7)\n",
    "\n",
    "print(10 < 3)\n",
    "\n",
    "print(5 <= 5)"
   ]
  },
  {
   "cell_type": "code",
   "execution_count": 4,
   "metadata": {},
   "outputs": [
    {
     "name": "stdout",
     "output_type": "stream",
     "text": [
      "True\n",
      "False\n",
      "True\n",
      "True\n"
     ]
    }
   ],
   "source": [
    "print(3 == 3)\n",
    "\n",
    "print(4 == 2)\n",
    "\n",
    "print(3 + 4 == 7)\n",
    "\n",
    "print(1 != 3)"
   ]
  },
  {
   "cell_type": "markdown",
   "metadata": {},
   "source": [
    "### 3.1.3 논리 연산자"
   ]
  },
  {
   "cell_type": "code",
   "execution_count": 5,
   "metadata": {},
   "outputs": [
    {
     "name": "stdout",
     "output_type": "stream",
     "text": [
      "False\n",
      "True\n",
      "False\n"
     ]
    }
   ],
   "source": [
    "print((3 > 0) and (3 > 5))\n",
    "\n",
    "print((3 > 0) or (3 < 5))\n",
    "\n",
    "print(not (1 != 3))"
   ]
  },
  {
   "cell_type": "markdown",
   "metadata": {},
   "source": [
    "## 3.2 연산자의 우선순위"
   ]
  },
  {
   "cell_type": "code",
   "execution_count": 6,
   "metadata": {},
   "outputs": [
    {
     "name": "stdout",
     "output_type": "stream",
     "text": [
      "14\n",
      "20\n"
     ]
    }
   ],
   "source": [
    "print( 2 + 3 * 4)\n",
    "\n",
    "print((2 + 3) * 4)\n",
    "\n",
    "# 우선순위가 다르기 때문에 결과값이 다르다."
   ]
  },
  {
   "cell_type": "markdown",
   "metadata": {},
   "source": [
    "## 3.3 변수로 연산하기"
   ]
  },
  {
   "cell_type": "code",
   "execution_count": null,
   "metadata": {},
   "outputs": [
    {
     "name": "stdout",
     "output_type": "stream",
     "text": [
      "14\n",
      "16\n"
     ]
    }
   ],
   "source": [
    "number = 2 + 3 * 4\n",
    "print(number)\n",
    "\n",
    "# 2를 더하고자 할 때\n",
    "\n",
    "# number = 2 + 3 * 4 + 2\n",
    "\n",
    "# 이렇게 해도 되지만 ** 변수 ** 를 재사용하면 더 편리하다.\n",
    "\n",
    "# number = number + 2\n",
    "\n",
    "# 여기서 ** 복합대입연산자 ** 를 사용하면 더 편리하다.\n",
    "\n",
    "number += 2 # number = number + 2\n",
    "print(number)\n"
   ]
  },
  {
   "cell_type": "code",
   "execution_count": 8,
   "metadata": {},
   "outputs": [
    {
     "name": "stdout",
     "output_type": "stream",
     "text": [
      "14\n",
      "28\n",
      "14.0\n",
      "196.0\n",
      "98.0\n",
      "0.0\n"
     ]
    }
   ],
   "source": [
    "number -= 2\n",
    "print(number)\n",
    "\n",
    "number *= 2\n",
    "print(number)\n",
    "\n",
    "number /= 2\n",
    "print(number)\n",
    "\n",
    "# 정수로 나누기 연산을 하면 결과는 소수점을 포함한 실수로 나온다.\n",
    "\n",
    "number **= 2\n",
    "print(number)\n",
    "\n",
    "number //= 2\n",
    "print(number)\n",
    "\n",
    "number %= 2\n",
    "print(number)"
   ]
  },
  {
   "cell_type": "markdown",
   "metadata": {},
   "source": [
    "## 3.4 함수로 연산하기"
   ]
  },
  {
   "cell_type": "markdown",
   "metadata": {},
   "source": [
    "### 3.4.1 숫자 처리 함수"
   ]
  },
  {
   "cell_type": "code",
   "execution_count": 9,
   "metadata": {},
   "outputs": [
    {
     "name": "stdout",
     "output_type": "stream",
     "text": [
      "5\n",
      "16\n",
      "12\n",
      "5\n",
      "3\n",
      "4.87\n"
     ]
    }
   ],
   "source": [
    "print(abs(-5)) # -5의 절대값\n",
    "\n",
    "print(pow(4, 2)) # 4를 제곱한 값\n",
    "\n",
    "print(max(5, 12)) # 5와 12 중 큰 값\n",
    "\n",
    "print(min(5, 12)) # 5와 12 중 작은 값\n",
    "\n",
    "print(round(3.14)) # 3.14를 소수점 이하 첫째 자리에서 반올림\n",
    "\n",
    "print(round(4.867, 2)) # 4.678을 소수점 이하 셋째 자리에서 반올림"
   ]
  },
  {
   "cell_type": "markdown",
   "metadata": {},
   "source": [
    "### 3.4.2 math 모듈"
   ]
  },
  {
   "cell_type": "markdown",
   "metadata": {},
   "source": [
    "**모듈(module)** 은 어떤 기능을 하는 코드를 모아 놓은 파이썬 파일\n",
    "\n",
    "**from 모듈명 import 기능** 형태의 구문 추가"
   ]
  },
  {
   "cell_type": "code",
   "execution_count": 10,
   "metadata": {},
   "outputs": [
    {
     "name": "stdout",
     "output_type": "stream",
     "text": [
      "4\n",
      "4\n",
      "4.0\n"
     ]
    }
   ],
   "source": [
    "from math import * # math 모듈의 모든 기능을 사용하겠다는 의미 ( * 표시는 와일드카드 즉 모든이라는 의미)\n",
    "\n",
    "result = floor(4.99) # 내림\n",
    "print(result)\n",
    "\n",
    "result = ceil(3.14) # 올림\n",
    "print(result)\n",
    "\n",
    "result = sqrt(16) # 제곱근\n",
    "print(result)"
   ]
  },
  {
   "cell_type": "markdown",
   "metadata": {},
   "source": [
    "**import 모듈명** 형태의 구문도 가능하지만 기능 앞에 기능이 속한 모듈명을 점(.)으로 연결해서 적어야한다"
   ]
  },
  {
   "cell_type": "code",
   "execution_count": 11,
   "metadata": {},
   "outputs": [
    {
     "name": "stdout",
     "output_type": "stream",
     "text": [
      "4\n",
      "4\n",
      "4.0\n"
     ]
    }
   ],
   "source": [
    "import math\n",
    "\n",
    "# math. 을 함께 작성\n",
    "\n",
    "result = math.floor(4.99)\n",
    "print(result)\n",
    "\n",
    "result = math.ceil(3.14)\n",
    "print(result)\n",
    "\n",
    "result = math.sqrt(16)\n",
    "print(result)"
   ]
  },
  {
   "cell_type": "markdown",
   "metadata": {},
   "source": [
    "### 3.4.3 random 모듈"
   ]
  },
  {
   "cell_type": "code",
   "execution_count": 12,
   "metadata": {},
   "outputs": [
    {
     "name": "stdout",
     "output_type": "stream",
     "text": [
      "0.31710004003138836\n",
      "0.4302420314447192\n",
      "0.0629193024662641\n"
     ]
    }
   ],
   "source": [
    "from random import *\n",
    "\n",
    "print(random()) # 0.0 ~ 1.0 미만의 임의의 값 생성\n",
    "print(random())\n",
    "print(random())"
   ]
  },
  {
   "cell_type": "code",
   "execution_count": 70,
   "metadata": {},
   "outputs": [
    {
     "name": "stdout",
     "output_type": "stream",
     "text": [
      "2.7095482361419543\n",
      "0\n",
      "9\n"
     ]
    }
   ],
   "source": [
    "print(random() * 10) # 0.0 ~ 10.0 미만의 임의의 값 생성\n",
    "print(int(random() * 10)) # 0 ~ 10 미만의 임의의 정수 값 생성\n",
    "print(int(random() * 10) + 1) # 1 ~ 10 이하의 임의의 정수 값 생성"
   ]
  },
  {
   "cell_type": "code",
   "execution_count": 14,
   "metadata": {},
   "outputs": [
    {
     "name": "stdout",
     "output_type": "stream",
     "text": [
      "33\n"
     ]
    }
   ],
   "source": [
    "print(int(random() * 45) + 1) # 1 ~ 45 이하의 임의의 정수 값 생성"
   ]
  },
  {
   "cell_type": "code",
   "execution_count": 15,
   "metadata": {},
   "outputs": [
    {
     "name": "stdout",
     "output_type": "stream",
     "text": [
      "29\n",
      "28\n"
     ]
    }
   ],
   "source": [
    "print(randrange(1, 46)) # 1 ~ 46 미만의 임의의 정수 값 생성\n",
    "\n",
    "print(randint(1, 45)) # 1 ~ 45 이하의 임의의 정수 값 생성"
   ]
  },
  {
   "cell_type": "markdown",
   "metadata": {},
   "source": [
    "## 3.5 실습 문제 : 스터디 날짜 정하기"
   ]
  },
  {
   "cell_type": "code",
   "execution_count": 75,
   "metadata": {},
   "outputs": [
    {
     "name": "stdout",
     "output_type": "stream",
     "text": [
      "오프라인 스터디 모임 날짜는 매월 9일로 선정되었습니다.\n"
     ]
    }
   ],
   "source": [
    "meeting = randint(4, 28)\n",
    "\n",
    "print(\"오프라인 스터디 모임 날짜는 매월 \" + str(meeting) + \"일로 선정되었습니다.\")"
   ]
  },
  {
   "cell_type": "code",
   "execution_count": 79,
   "metadata": {},
   "outputs": [
    {
     "name": "stdout",
     "output_type": "stream",
     "text": [
      "섭씨 온도: 26\n",
      "화씨 온도: 78.8\n"
     ]
    }
   ],
   "source": [
    "# 셀프체크\n",
    "\n",
    "c_temp = randint(-15, 35)\n",
    "f_temp = (c_temp * 9 / 5) +32\n",
    "\n",
    "print(\"섭씨 온도: \" + str(c_temp))\n",
    "print(\"화씨 온도: \" + str(f_temp))"
   ]
  }
 ],
 "metadata": {
  "kernelspec": {
   "display_name": "Python 3",
   "language": "python",
   "name": "python3"
  },
  "language_info": {
   "codemirror_mode": {
    "name": "ipython",
    "version": 3
   },
   "file_extension": ".py",
   "mimetype": "text/x-python",
   "name": "python",
   "nbconvert_exporter": "python",
   "pygments_lexer": "ipython3",
   "version": "3.10.13"
  }
 },
 "nbformat": 4,
 "nbformat_minor": 2
}
