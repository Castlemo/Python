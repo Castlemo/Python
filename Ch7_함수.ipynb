{
 "cells": [
  {
   "cell_type": "markdown",
   "id": "b3b88ce4",
   "metadata": {},
   "source": [
    "# **7. 함수**"
   ]
  },
  {
   "cell_type": "markdown",
   "id": "33f0370f",
   "metadata": {},
   "source": [
    "## **7.1 함수 정의하기**\n",
    "```python\n",
    "def 함수명():\n",
    "    실행할 문장1\n",
    "    실행할 문장2\n",
    "    ..."
   ]
  },
  {
   "cell_type": "markdown",
   "id": "a909a70e",
   "metadata": {},
   "source": [
    "### **7.1.1 실습: 은행 계좌 개설하기**"
   ]
  },
  {
   "cell_type": "code",
   "execution_count": 1,
   "id": "e0fd150b",
   "metadata": {},
   "outputs": [],
   "source": [
    "def open_account():\n",
    "    print(\"새로운 계좌를 개설합니다.\")"
   ]
  },
  {
   "cell_type": "code",
   "execution_count": 1,
   "id": "3dc48c84",
   "metadata": {},
   "outputs": [
    {
     "name": "stdout",
     "output_type": "stream",
     "text": [
      "새로운 계좌를 개설합니다.\n"
     ]
    }
   ],
   "source": [
    "def open_account():\n",
    "    print(\"새로운 계좌를 개설합니다.\")\n",
    "\n",
    "open_account() # 함수 호출"
   ]
  },
  {
   "cell_type": "markdown",
   "id": "f7ba050f",
   "metadata": {},
   "source": [
    "## **7.2 전달값과 반환값**\n",
    "```python\n",
    "def 함수명(전달값1, 전달갑2, ...):\n",
    "    실행할 문장1\n",
    "    실행할 문장2\n",
    "    ...\n",
    "    return 반환값"
   ]
  },
  {
   "cell_type": "markdown",
   "id": "bfa5eeb7",
   "metadata": {},
   "source": [
    "### **7.2.1 실습: 입금하기**"
   ]
  },
  {
   "cell_type": "code",
   "execution_count": null,
   "id": "e6eee3bd",
   "metadata": {},
   "outputs": [
    {
     "name": "stdout",
     "output_type": "stream",
     "text": [
      "새로운 계좌를 개설합니다.\n",
      "1000원을 입금했습니다. 잔액은1000원 입니다.\n"
     ]
    }
   ],
   "source": [
    "def open_account():\n",
    "    print(\"새로운 계좌를 개설합니다.\")\n",
    "\n",
    "open_account()\n",
    "\n",
    "def deposit(balance, money):\n",
    "    print(f\"{money}원을 입금했습니다. 잔액은{balance + money}원 입니다.\")\n",
    "    return balance + money\n",
    "\n",
    "balance = 0\n",
    "balance = deposit(balance, 1000)"
   ]
  },
  {
   "cell_type": "markdown",
   "id": "a12c3fcd",
   "metadata": {},
   "source": [
    "### **7.2.2 실습: 출금하기**"
   ]
  },
  {
   "cell_type": "code",
   "execution_count": 6,
   "id": "f450727d",
   "metadata": {},
   "outputs": [
    {
     "name": "stdout",
     "output_type": "stream",
     "text": [
      "새로운 계좌를 개설합니다.\n",
      "1000원을 입금했습니다. 잔액은1000원 입니다.\n",
      "잔액이 부족합니다. 잔액은 1000원 입니다.\n",
      "500원을 출금했습니다. 잔액은 500원입니다.\n"
     ]
    }
   ],
   "source": [
    "def open_account():\n",
    "    print(\"새로운 계좌를 개설합니다.\")\n",
    "\n",
    "open_account()\n",
    "\n",
    "def deposit(balance, money):\n",
    "    print(f\"{money}원을 입금했습니다. 잔액은{balance + money}원 입니다.\")\n",
    "    return balance + money\n",
    "\n",
    "def withdraw(balance, money):\n",
    "    if balance >= money:\n",
    "        print(f\"{money}원을 출금했습니다. 잔액은 {balance - money}원입니다.\")\n",
    "        return balance - money\n",
    "    else:\n",
    "        print(f\"잔액이 부족합니다. 잔액은 {balance}원 입니다.\")\n",
    "        return balance\n",
    "    \n",
    "\n",
    "balance = 0\n",
    "balance = deposit(balance, 1000)\n",
    "\n",
    "balance = withdraw(balance, 2000)\n",
    "balance = withdraw(balance, 500)"
   ]
  },
  {
   "cell_type": "markdown",
   "id": "642f6e05",
   "metadata": {},
   "source": [
    "### **7.2.3 실습: 수수료 부과하기**"
   ]
  },
  {
   "cell_type": "code",
   "execution_count": 11,
   "id": "e8727dd0",
   "metadata": {},
   "outputs": [
    {
     "name": "stdout",
     "output_type": "stream",
     "text": [
      "새로운 계좌를 개설합니다.\n",
      "1000원을 입금했습니다. 잔액은1000원 입니다.\n",
      "업무 시간 외에 500원을 출금했습니다.\n",
      "수수료100원이며, 잔액은 400입니다.\n"
     ]
    }
   ],
   "source": [
    "def open_account():\n",
    "    print(\"새로운 계좌를 개설합니다.\")\n",
    "\n",
    "open_account()\n",
    "\n",
    "def deposit(balance, money):\n",
    "    print(f\"{money}원을 입금했습니다. 잔액은{balance + money}원 입니다.\")\n",
    "    return balance + money\n",
    "\n",
    "def withdraw_night(balance, money):\n",
    "    commission = 100 # 출금 수수료 100원\n",
    "    print(\"업무 시간 외에 {}원을 출금했습니다.\".format(money))\n",
    "    return commission, balance - money - commission\n",
    "\n",
    "balance = 0\n",
    "balance = deposit(balance, 1000)\n",
    "\n",
    "# 튜플 형태로 반환한 값 2개를 각각 변수에 저장\n",
    "commission, balance = withdraw_night(balance, 500)\n",
    "print(f\"수수료{commission}원이며, 잔액은 {balance}입니다.\")"
   ]
  },
  {
   "cell_type": "markdown",
   "id": "ac172728",
   "metadata": {},
   "source": [
    "## **7.3 함수 호출하기**"
   ]
  },
  {
   "cell_type": "markdown",
   "id": "d83c22d4",
   "metadata": {},
   "source": [
    "### **7.3.1 기본값 사용하기**"
   ]
  },
  {
   "cell_type": "code",
   "execution_count": 13,
   "id": "89ee9fe4",
   "metadata": {},
   "outputs": [
    {
     "name": "stdout",
     "output_type": "stream",
     "text": [
      "이름 : 찰리\t 나이 : 20\t 주 사용 언어 : 파이썬\n",
      "이름 : 루시\t 나이 : 20\t 주 사용 언어 : 자바\n"
     ]
    }
   ],
   "source": [
    "def profile(name, age, main_lang):\n",
    "    print(f\"이름 : {name}\\t 나이 : {age}\\t 주 사용 언어 : {main_lang}\")\n",
    "\n",
    "profile(\"찰리\", 20, \"파이썬\")\n",
    "profile(\"루시\",20, \"자바\")"
   ]
  },
  {
   "cell_type": "code",
   "execution_count": 14,
   "id": "eea40a5e",
   "metadata": {},
   "outputs": [
    {
     "name": "stdout",
     "output_type": "stream",
     "text": [
      "이름 : 찰리\t 나이 : 20\t 주 사용 언어 : 파이썬\n",
      "이름 : 루시\t 나이 : 20\t 주 사용 언어 : 파이썬\n"
     ]
    }
   ],
   "source": [
    "def profile(name, age = 20, main_lang = \"파이썬\"): # 기본값 정의\n",
    "    print(f\"이름 : {name}\\t 나이 : {age}\\t 주 사용 언어 : {main_lang}\")\n",
    "\n",
    "profile(\"찰리\")\n",
    "profile(\"루시\")"
   ]
  },
  {
   "cell_type": "code",
   "execution_count": 15,
   "id": "e30c0526",
   "metadata": {},
   "outputs": [
    {
     "name": "stdout",
     "output_type": "stream",
     "text": [
      "이름 : 찰리\t 나이 : 20\t 주 사용 언어 : 파이썬\n",
      "이름 : 루시\t 나이 : 22\t 주 사용 언어 : 파이썬\n",
      "이름 : 찰리\t 나이 : 24\t 주 사용 언어 : 자바\n"
     ]
    }
   ],
   "source": [
    "def profile(name, age = 20, main_lang = \"파이썬\"): # 기본값 정의\n",
    "    print(f\"이름 : {name}\\t 나이 : {age}\\t 주 사용 언어 : {main_lang}\")\n",
    "\n",
    "profile(\"찰리\")\n",
    "profile(\"루시\", 22)\n",
    "profile(\"찰리\", 24, \"자바\")"
   ]
  },
  {
   "cell_type": "markdown",
   "id": "b74cbef4",
   "metadata": {},
   "source": [
    "### **7.3.2 키워드 인자 사용하기**\n",
    "- 함수를 호출할 때 전달값뿐만 아니라 어디에 전달할지 명시적으로 지정하는 것.\n",
    "- 어떤 함수에 전달값이 많고 기본값이 잘 정의돼 있을 때 대부분 그대로 사용하면서 필요한 부분만 콕 집어서 값을 전달하려는 경우에 유용"
   ]
  },
  {
   "cell_type": "code",
   "execution_count": 16,
   "id": "f9075bea",
   "metadata": {},
   "outputs": [
    {
     "name": "stdout",
     "output_type": "stream",
     "text": [
      "찰리 20 파이썬\n",
      "루시 25 자바\n"
     ]
    }
   ],
   "source": [
    "def profile(name, age, main_lang):\n",
    "    print(name, age, main_lang)\n",
    "\n",
    "profile(name = \"찰리\", main_lang = \"파이썬\", age = 20)\n",
    "profile(main_lang = \"자바\", age = 25, name = \"루시\")"
   ]
  },
  {
   "cell_type": "code",
   "execution_count": 17,
   "id": "5f1a2424",
   "metadata": {},
   "outputs": [
    {
     "name": "stdout",
     "output_type": "stream",
     "text": [
      "찰리 20 파이썬\n"
     ]
    }
   ],
   "source": [
    "def profile(name, age, main_lang):\n",
    "    print(name, age, main_lang)\n",
    "\n",
    "profile(\"찰리\", main_lang = \"파이썬\", age = 20) # 올바른 함수 호출: 일반 전달값을 먼저 작성\n",
    "# profile(main_lang = \"자바\", 25, \"루시\") 잘못된 함수 호출 -> 키워드 인자를 먼저 작성"
   ]
  },
  {
   "cell_type": "markdown",
   "id": "78b3fd3a",
   "metadata": {},
   "source": [
    "### **7.3.3 가변 인자 사용하기**\n",
    "- 서로 다른 개수의 값을 함수에 전달해야 할 떄 사용\n",
    "```python\n",
    "def 함수명(전달값1, 전달값2, ..., *가변 인자):\n",
    "    실행할 문장1\n",
    "    실행할 문자1\n",
    "    ...\n",
    "    return 반환값"
   ]
  },
  {
   "cell_type": "code",
   "execution_count": 19,
   "id": "b2e6ddc6",
   "metadata": {},
   "outputs": [
    {
     "name": "stdout",
     "output_type": "stream",
     "text": [
      "이름 : 찰리\t나이: 20\t\n",
      "파이썬 자바 C C++ C#\n",
      "이름 : 루시\t나이: 25\t\n",
      "코틀린 스위프트   \n"
     ]
    }
   ],
   "source": [
    "def profile(name, age, lang1, lang2, lang3, lang4, lang5):\n",
    "    print(f\"이름 : {name}\\t나이: {age}\\t\")\n",
    "    print(lang1, lang2, lang3, lang4, lang5)\n",
    "\n",
    "profile(\"찰리\", 20, \"파이썬\", \"자바\", \"C\", \"C++\", \"C#\")\n",
    "profile(\"루시\", 25, \"코틀린\", \"스위프트\", \"\", \"\", \"\")"
   ]
  },
  {
   "cell_type": "code",
   "execution_count": null,
   "id": "146180e8",
   "metadata": {},
   "outputs": [
    {
     "name": "stdout",
     "output_type": "stream",
     "text": [
      "이름 : 찰리\t나이: 20\t  파이썬 자바 C C++ C#\n",
      "이름 : 루시\t나이: 25\t  코틀린 스위프트   \n"
     ]
    }
   ],
   "source": [
    "def profile(name, age, lang1, lang2, lang3, lang4, lang5):\n",
    "    print(f\"이름 : {name}\\t나이: {age}\\t\", end=\"  \") # print 함수의 end 인자에 빈칸 정의 -> 줄바꿈 대신, 띄어 쓴 후 이어서 다음 print함수 실행결과 출력\n",
    "    print(lang1, lang2, lang3, lang4, lang5)\n",
    "\n",
    "profile(\"찰리\", 20, \"파이썬\", \"자바\", \"C\", \"C++\", \"C#\")\n",
    "profile(\"루시\", 25, \"코틀린\", \"스위프트\", \"\", \"\", \"\")"
   ]
  },
  {
   "cell_type": "code",
   "execution_count": 21,
   "id": "3656bbac",
   "metadata": {},
   "outputs": [
    {
     "name": "stdout",
     "output_type": "stream",
     "text": [
      "이름 : 찰리\t나이: 20\t  ('파이썬', '자바', 'C', 'C++', 'C#', '자바스크립트') <class 'tuple'>\n",
      "이름 : 루시\t나이: 25\t  ('코틀린', '스위프트') <class 'tuple'>\n"
     ]
    }
   ],
   "source": [
    "def profile(name, age, *language): # Language 가변 인자 사용\n",
    "    print(f\"이름 : {name}\\t나이: {age}\\t\", end=\"  \")\n",
    "    print(language, type(language))\n",
    "\n",
    "profile(\"찰리\", 20, \"파이썬\", \"자바\", \"C\", \"C++\", \"C#\", \"자바스크립트\")\n",
    "profile(\"루시\", 25, \"코틀린\", \"스위프트\")"
   ]
  },
  {
   "cell_type": "code",
   "execution_count": 26,
   "id": "155050c1",
   "metadata": {},
   "outputs": [
    {
     "name": "stdout",
     "output_type": "stream",
     "text": [
      "이름 : 찰리\t나이: 20\t  파이썬 자바 C C++ C# 자바스크립트 \n",
      "이름 : 루시\t나이: 25\t  코틀린 스위프트 \n"
     ]
    }
   ],
   "source": [
    "def profile(name, age, *language):\n",
    "    print(f\"이름 : {name}\\t나이: {age}\\t\", end=\"  \")\n",
    "    \n",
    "    for lang in language:\n",
    "        print(lang, end=\" \") # 언어를 모두 한 줄에 표시\n",
    "    print() # 줄 바꿈 목적\n",
    "\n",
    "profile(\"찰리\", 20, \"파이썬\", \"자바\", \"C\", \"C++\", \"C#\", \"자바스크립트\")\n",
    "profile(\"루시\", 25, \"코틀린\", \"스위프트\")"
   ]
  },
  {
   "cell_type": "markdown",
   "id": "cf95ae1b",
   "metadata": {},
   "source": [
    "## **7.4 변수의 범위: 지역변수와 전역변수**"
   ]
  },
  {
   "cell_type": "code",
   "execution_count": 28,
   "id": "18064666",
   "metadata": {},
   "outputs": [],
   "source": [
    "# glasses = 10 # 전체 안경 개수: 10개\n",
    "\n",
    "# def rent(people):\n",
    "#     glasses = glasses - people\n",
    "#     print(f\"[함수 내부] 남은 안경 개수 : {glasses}\")\n",
    "\n",
    "# print(f\"전체 안경 개수: {glasses}\")\n",
    "# rent(2)\n",
    "# print(f\"님은 안경 개수: {glasses}\")\n",
    "\n",
    "# 두 glasses 변수는 각각 다른 지역변수이기 떄문에 실행 오류"
   ]
  },
  {
   "cell_type": "code",
   "execution_count": null,
   "id": "1b1c9b39",
   "metadata": {},
   "outputs": [
    {
     "name": "stdout",
     "output_type": "stream",
     "text": [
      "전체 안경 개수: 10\n",
      "[함수 내부] 남은 안경 개수 : 18\n",
      "님은 안경 개수: 10\n"
     ]
    }
   ],
   "source": [
    "glasses = 10 # 전체 안경 개수: 10개\n",
    "\n",
    "def rent(people):\n",
    "    glasses = 20\n",
    "    glasses = glasses - people\n",
    "    print(f\"[함수 내부] 남은 안경 개수 : {glasses}\")\n",
    "\n",
    "print(f\"전체 안경 개수: {glasses}\")\n",
    "rent(2)\n",
    "print(f\"님은 안경 개수: {glasses}\")\n",
    "\n",
    "# 전체 안경 개수와는 상관없이 계산됨. 이것 역시 각각 다른 지역변수이기 때문"
   ]
  },
  {
   "cell_type": "code",
   "execution_count": 31,
   "id": "ff787c11",
   "metadata": {},
   "outputs": [
    {
     "name": "stdout",
     "output_type": "stream",
     "text": [
      "전체 안경 개수: 10\n",
      "[함수 내부] 남은 안경 개수 : 8\n",
      "님은 안경 개수: 8\n"
     ]
    }
   ],
   "source": [
    "glasses = 10 # 전체 안경 개수: 10개\n",
    "\n",
    "def rent(people):\n",
    "    global glasses # 전역 공간에 있는 glasses 변수를 함수 안에서 사용하겠다는 표시\n",
    "    glasses = glasses - people\n",
    "    print(f\"[함수 내부] 남은 안경 개수 : {glasses}\")\n",
    "\n",
    "print(f\"전체 안경 개수: {glasses}\")\n",
    "rent(2)\n",
    "print(f\"님은 안경 개수: {glasses}\")"
   ]
  },
  {
   "cell_type": "code",
   "execution_count": 35,
   "id": "44e099ba",
   "metadata": {},
   "outputs": [
    {
     "name": "stdout",
     "output_type": "stream",
     "text": [
      "전체 안경 개수: 10\n",
      "[함수 내부] 남은 안경 개수 : 8\n",
      "님은 안경 개수: 8\n"
     ]
    }
   ],
   "source": [
    "# 전역 변수가 많아지면 코드 관리가 복잡해짐\n",
    "# 전역 변수 없는 버전\n",
    "\n",
    "glasses = 10 # 전체 안경 개수: 10개\n",
    "\n",
    "def rent_return(glasses, people): # 전체 안경 수와 대여 관객 수를 전달 받음\n",
    "    glasses = glasses - people\n",
    "    print(f\"[함수 내부] 남은 안경 개수 : {glasses}\")\n",
    "    return glasses # 빌린 개수를 제외한 나머지 안경 개수 반환\n",
    "\n",
    "print(f\"전체 안경 개수: {glasses}\")\n",
    "glasses = rent_return(glasses, 2) # 함수 안에서 수정된 glasses 값 반환 받음\n",
    "print(f\"님은 안경 개수: {glasses}\")"
   ]
  },
  {
   "cell_type": "markdown",
   "id": "1d088730",
   "metadata": {},
   "source": [
    "302호"
   ]
  },
  {
   "cell_type": "markdown",
   "id": "0a96f23c",
   "metadata": {},
   "source": [
    "## **7.5 실습 문제: 표준 체중 구하기**"
   ]
  },
  {
   "cell_type": "markdown",
   "id": "ce6708ca",
   "metadata": {},
   "source": [
    "### **문제:** 표준 체중을 구하는 프로그램을 작성\n",
    "- 표준체중: 키에 따른 평균 체중\n",
    "- 성별에 따른 표준 체중 공식\n",
    "    - 남자: 키(m) X 키(m) X 22\n",
    "    - 여자: 키(m) X 키(m) X 21\n",
    "### **조건:**\n",
    "- 표준 체중은 별도 함수로 계산한다. 단, 키는 미터(m) 단위로 받는다. \n",
    "    - 함수명: std_weight \n",
    "    - 전달값: 키(height), 성별(gender)\n",
    "- 실행결과에서 표준 체중은 소수점 이하 둘째 자리까지 표시한다."
   ]
  },
  {
   "cell_type": "code",
   "execution_count": 51,
   "id": "6fe6c102",
   "metadata": {},
   "outputs": [
    {
     "name": "stdout",
     "output_type": "stream",
     "text": [
      "키 175.0cm 남자의 표준 체중은 67.38kg 입니다.\n"
     ]
    }
   ],
   "source": [
    "def std_weight(height, gender):\n",
    "    if gender == \"남자\":\n",
    "        std_weight = round(height * height * 22, 2)\n",
    "        print(f\"키 {height*100}cm {gender}의 표준 체중은 {std_weight}kg 입니다.\")\n",
    "    \n",
    "    elif gender == \"여자\":\n",
    "        std_weight = round(height * height * 21, 2)\n",
    "        print(f\"키 {height*100}cm {gender}의 표준 체중은 {std_weight}kg 입니다.\")\n",
    "    \n",
    "    else:\n",
    "        print(\"다시 입력하세요.\")\n",
    "\n",
    "std_weight(1.75, \"남자\")\n",
    "    "
   ]
  },
  {
   "cell_type": "code",
   "execution_count": 52,
   "id": "25ceb433",
   "metadata": {},
   "outputs": [
    {
     "name": "stdout",
     "output_type": "stream",
     "text": [
      "키 175cm 남자의 표준 체중은 67.38kg입니다.\n"
     ]
    }
   ],
   "source": [
    "# 해설 버전\n",
    "\n",
    "def std_weight(height, gender): \n",
    "    if gender == \"남자\":\n",
    "        return height * height * 22\n",
    "    else:\n",
    "        return height * height * 21\n",
    "height = 175\n",
    "gender = \"남자\"\n",
    "weight = round(std_weight(height / 100, gender), 2)\n",
    "print(\"키 {0}cm {1}의 표준 체중은 {2}kg입니다.\".format(height, gender, weight))"
   ]
  },
  {
   "cell_type": "code",
   "execution_count": 57,
   "id": "67482467",
   "metadata": {},
   "outputs": [
    {
     "name": "stdout",
     "output_type": "stream",
     "text": [
      "좋음\n",
      "나쁨\n"
     ]
    }
   ],
   "source": [
    "# 셀프체크\n",
    "# 문제: 미세먼지 수치를 입력받아 대기질 상태를 출력하는 함수를 만들어 보세요.\n",
    "# 조건\n",
    "# - get_air_quality라는 이름으로 함수를 만든다.\n",
    "\n",
    "# - 이 함수는 전달값으로 미세먼지 수치를 입력받는다.\n",
    "\n",
    "# - 이 함수는 대기질 상태를 반환한다.\n",
    "\n",
    "# - 미세먼지 수치에 따른 대기질 상태는 다음과 같다.\n",
    "\n",
    "#    좋음: 0~30\n",
    "\n",
    "#    보통: 31~80\n",
    "\n",
    "#    나쁨: 81~150\n",
    "\n",
    "#    매우 나쁨: 151 이상\n",
    "\n",
    "# - 함수에 전달되는 전달값은 항상 0 이상의 값이라고 가정한다.\n",
    "\n",
    "def get_air_quality(condition):\n",
    "    if condition >= 151:\n",
    "        print(\"매우 나쁨\")\n",
    "    elif condition >= 81:\n",
    "        print(\"나쁨\")\n",
    "    elif condition >= 31:\n",
    "        print(\"보통\")\n",
    "    else:\n",
    "        print(\"좋음\")\n",
    "\n",
    "    return\n",
    "    \n",
    "get_air_quality(15)\n",
    "get_air_quality(85)"
   ]
  },
  {
   "cell_type": "code",
   "execution_count": 58,
   "id": "896b8362",
   "metadata": {},
   "outputs": [
    {
     "name": "stdout",
     "output_type": "stream",
     "text": [
      "좋음\n",
      "나쁨\n"
     ]
    }
   ],
   "source": [
    "def get_air_quality(condition):\n",
    "    if condition >= 151:\n",
    "        return \"매우 나쁨\"\n",
    "    elif condition >= 81:\n",
    "        return \"나쁨\"\n",
    "    elif condition >= 31:\n",
    "        return \"보통\"\n",
    "    else:\n",
    "        return \"좋음\"\n",
    "    \n",
    "print(get_air_quality(15))\n",
    "print(get_air_quality(85))"
   ]
  }
 ],
 "metadata": {
  "kernelspec": {
   "display_name": "3.10.13",
   "language": "python",
   "name": "python3"
  },
  "language_info": {
   "codemirror_mode": {
    "name": "ipython",
    "version": 3
   },
   "file_extension": ".py",
   "mimetype": "text/x-python",
   "name": "python",
   "nbconvert_exporter": "python",
   "pygments_lexer": "ipython3",
   "version": "3.10.13"
  }
 },
 "nbformat": 4,
 "nbformat_minor": 5
}
