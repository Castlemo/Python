{
 "cells": [
  {
   "cell_type": "markdown",
   "id": "950f7603",
   "metadata": {},
   "source": [
    "# **10장 예외처리**"
   ]
  },
  {
   "cell_type": "markdown",
   "id": "8e30f1da",
   "metadata": {},
   "source": [
    "## **10.1 예외 처리하기**\n",
    "### **10.1.1 예외처리란**\n",
    "- **오류**: 예상치 못한 실수 또는 잘못된 무언가\n",
    "- **예외 처리**: 오류 상황에 대처"
   ]
  },
  {
   "cell_type": "markdown",
   "id": "efa28d8d",
   "metadata": {},
   "source": [
    "### **10.1.2 예외 처리하기: try-except 문**\n",
    "```python\n",
    "try:\n",
    "    실행할 명령1\n",
    "    실행할 명령2\n",
    "    ...\n",
    "\n",
    "except 오류 종류:\n",
    "    예외 처리 명령1\n",
    "    예외 처리 명령2\n",
    "    ..."
   ]
  },
  {
   "cell_type": "code",
   "execution_count": null,
   "id": "dd8d1f4b",
   "metadata": {},
   "outputs": [
    {
     "name": "stdout",
     "output_type": "stream",
     "text": [
      "나누기 전용 계산기 입니다.\n",
      "3 / 4 = 0.75\n"
     ]
    }
   ],
   "source": [
    "print(\"나누기 전용 계산기 입니다.\")\n",
    "num1 = int(input(\"첫 번째 숫자를 입력하세요: \"))\n",
    "num2 = int(input(\"두 번째 숫자를 입력하세요: \"))\n",
    "print(\"{0} / {1} = {2}\".format(num1, num2, float(num1 / num2)))\n",
    "\n",
    "# num1 = 3\n",
    "# num2 = 4"
   ]
  },
  {
   "cell_type": "code",
   "execution_count": 7,
   "id": "c95c3f48",
   "metadata": {},
   "outputs": [
    {
     "name": "stdout",
     "output_type": "stream",
     "text": [
      "나누기 전용 계산기 입니다.\n"
     ]
    },
    {
     "ename": "ValueError",
     "evalue": "invalid literal for int() with base 10: '삼'",
     "output_type": "error",
     "traceback": [
      "\u001b[0;31m---------------------------------------------------------------------------\u001b[0m",
      "\u001b[0;31mValueError\u001b[0m                                Traceback (most recent call last)",
      "Cell \u001b[0;32mIn[7], line 3\u001b[0m\n\u001b[1;32m      1\u001b[0m \u001b[38;5;28mprint\u001b[39m(\u001b[38;5;124m\"\u001b[39m\u001b[38;5;124m나누기 전용 계산기 입니다.\u001b[39m\u001b[38;5;124m\"\u001b[39m)\n\u001b[1;32m      2\u001b[0m num1 \u001b[38;5;241m=\u001b[39m \u001b[38;5;28mint\u001b[39m(\u001b[38;5;28minput\u001b[39m(\u001b[38;5;124m\"\u001b[39m\u001b[38;5;124m첫 번째 숫자를 입력하세요: \u001b[39m\u001b[38;5;124m\"\u001b[39m))\n\u001b[0;32m----> 3\u001b[0m num2 \u001b[38;5;241m=\u001b[39m \u001b[38;5;28;43mint\u001b[39;49m\u001b[43m(\u001b[49m\u001b[38;5;28;43minput\u001b[39;49m\u001b[43m(\u001b[49m\u001b[38;5;124;43m\"\u001b[39;49m\u001b[38;5;124;43m두 번째 숫자를 입력하세요: \u001b[39;49m\u001b[38;5;124;43m\"\u001b[39;49m\u001b[43m)\u001b[49m\u001b[43m)\u001b[49m\n\u001b[1;32m      4\u001b[0m \u001b[38;5;28mprint\u001b[39m(\u001b[38;5;124m\"\u001b[39m\u001b[38;5;132;01m{0}\u001b[39;00m\u001b[38;5;124m / \u001b[39m\u001b[38;5;132;01m{1}\u001b[39;00m\u001b[38;5;124m = \u001b[39m\u001b[38;5;132;01m{2}\u001b[39;00m\u001b[38;5;124m\"\u001b[39m\u001b[38;5;241m.\u001b[39mformat(num1, num2, \u001b[38;5;28mfloat\u001b[39m(num1 \u001b[38;5;241m/\u001b[39m num2)))\n\u001b[1;32m      6\u001b[0m \u001b[38;5;66;03m# num1 = 6\u001b[39;00m\n\u001b[1;32m      7\u001b[0m \u001b[38;5;66;03m# num2 = 삼\u001b[39;00m\n\u001b[1;32m      8\u001b[0m \n\u001b[0;32m   (...)\u001b[0m\n\u001b[1;32m     18\u001b[0m \n\u001b[1;32m     19\u001b[0m \u001b[38;5;66;03m# ValueError: invalid literal for int() with base 10: '삼'\u001b[39;00m\n",
      "\u001b[0;31mValueError\u001b[0m: invalid literal for int() with base 10: '삼'"
     ]
    }
   ],
   "source": [
    "print(\"나누기 전용 계산기 입니다.\")\n",
    "num1 = int(input(\"첫 번째 숫자를 입력하세요: \"))\n",
    "num2 = int(input(\"두 번째 숫자를 입력하세요: \"))\n",
    "print(\"{0} / {1} = {2}\".format(num1, num2, float(num1 / num2)))\n",
    "\n",
    "# num1 = 6\n",
    "# num2 = 삼\n",
    "\n",
    "# ---------------------------------------------------------------------------\n",
    "# ValueError                                Traceback (most recent call last)\n",
    "# Cell In[5], line 3\n",
    "#       1 print(\"나누기 전용 계산기 입니다.\")\n",
    "#       2 num1 = int(input(\"첫 번째 숫자를 입력하세요: \"))\n",
    "# ----> 3 num2 = int(input(\"두 번째 숫자를 입력하세요: \"))\n",
    "#       4 print(\"{0} / {1} = {2}\".format(num1, num2, float(num1 / num2)))\n",
    "#       6 # num1 = 6\n",
    "#       7 # num2 = 삼\n",
    "\n",
    "# ValueError: invalid literal for int() with base 10: '삼'"
   ]
  },
  {
   "cell_type": "code",
   "execution_count": 9,
   "id": "2c45afb1",
   "metadata": {},
   "outputs": [
    {
     "name": "stdout",
     "output_type": "stream",
     "text": [
      "나누기 전용 계산기 입니다.\n",
      "오류 발생! 잘못된 값을 입력했습니다.\n"
     ]
    }
   ],
   "source": [
    "try:\n",
    "    print(\"나누기 전용 계산기 입니다.\")\n",
    "    num1 = int(input(\"첫 번째 숫자를 입력하세요: \"))\n",
    "    num2 = int(input(\"두 번째 숫자를 입력하세요: \"))\n",
    "    print(\"{0} / {1} = {2}\".format(num1, num2, float(num1 / num2)))\n",
    "\n",
    "except ValueError:\n",
    "    print(\"오류 발생! 잘못된 값을 입력했습니다.\")"
   ]
  },
  {
   "cell_type": "markdown",
   "id": "eca61018",
   "metadata": {},
   "source": [
    "### **10.1.3 오류 메시지를 예외 처리로 출력하기: as**\n",
    "```python\n",
    "try:\n",
    "    실행할 명령1\n",
    "    실행할 명령2\n",
    "    ...\n",
    "\n",
    "except 오류 종류:\n",
    "    예외 처리 명령1\n",
    "    예외 처리 명령2\n",
    "    ...\n",
    "\n",
    "except 오류 종류2 as 변수명:\n",
    "    예외 처리 명령1\n",
    "    예외 처리 명령2\n",
    "    ..."
   ]
  },
  {
   "cell_type": "code",
   "execution_count": 10,
   "id": "ea11b344",
   "metadata": {},
   "outputs": [
    {
     "name": "stdout",
     "output_type": "stream",
     "text": [
      "나누기 전용 계산기 입니다.\n"
     ]
    },
    {
     "ename": "ZeroDivisionError",
     "evalue": "division by zero",
     "output_type": "error",
     "traceback": [
      "\u001b[0;31m---------------------------------------------------------------------------\u001b[0m",
      "\u001b[0;31mZeroDivisionError\u001b[0m                         Traceback (most recent call last)",
      "Cell \u001b[0;32mIn[10], line 5\u001b[0m\n\u001b[1;32m      3\u001b[0m     num1 \u001b[38;5;241m=\u001b[39m \u001b[38;5;28mint\u001b[39m(\u001b[38;5;28minput\u001b[39m(\u001b[38;5;124m\"\u001b[39m\u001b[38;5;124m첫 번째 숫자를 입력하세요: \u001b[39m\u001b[38;5;124m\"\u001b[39m))\n\u001b[1;32m      4\u001b[0m     num2 \u001b[38;5;241m=\u001b[39m \u001b[38;5;28mint\u001b[39m(\u001b[38;5;28minput\u001b[39m(\u001b[38;5;124m\"\u001b[39m\u001b[38;5;124m두 번째 숫자를 입력하세요: \u001b[39m\u001b[38;5;124m\"\u001b[39m))\n\u001b[0;32m----> 5\u001b[0m     \u001b[38;5;28mprint\u001b[39m(\u001b[38;5;124m\"\u001b[39m\u001b[38;5;132;01m{0}\u001b[39;00m\u001b[38;5;124m / \u001b[39m\u001b[38;5;132;01m{1}\u001b[39;00m\u001b[38;5;124m = \u001b[39m\u001b[38;5;132;01m{2}\u001b[39;00m\u001b[38;5;124m\"\u001b[39m\u001b[38;5;241m.\u001b[39mformat(num1, num2, \u001b[38;5;28mfloat\u001b[39m(\u001b[43mnum1\u001b[49m\u001b[43m \u001b[49m\u001b[38;5;241;43m/\u001b[39;49m\u001b[43m \u001b[49m\u001b[43mnum2\u001b[49m)))\n\u001b[1;32m      7\u001b[0m \u001b[38;5;28;01mexcept\u001b[39;00m \u001b[38;5;167;01mValueError\u001b[39;00m:\n\u001b[1;32m      8\u001b[0m     \u001b[38;5;28mprint\u001b[39m(\u001b[38;5;124m\"\u001b[39m\u001b[38;5;124m오류 발생! 잘못된 값을 입력했습니다.\u001b[39m\u001b[38;5;124m\"\u001b[39m)\n",
      "\u001b[0;31mZeroDivisionError\u001b[0m: division by zero"
     ]
    }
   ],
   "source": [
    "try:\n",
    "    print(\"나누기 전용 계산기 입니다.\")\n",
    "    num1 = int(input(\"첫 번째 숫자를 입력하세요: \"))\n",
    "    num2 = int(input(\"두 번째 숫자를 입력하세요: \"))\n",
    "    print(\"{0} / {1} = {2}\".format(num1, num2, float(num1 / num2)))\n",
    "\n",
    "except ValueError:\n",
    "    print(\"오류 발생! 잘못된 값을 입력했습니다.\")"
   ]
  },
  {
   "cell_type": "markdown",
   "id": "2f532f6a",
   "metadata": {},
   "source": [
    "#### - **ZeroDivisionError: 나누는 수가 0 인 경우 발생하는 오류**"
   ]
  },
  {
   "cell_type": "code",
   "execution_count": 11,
   "id": "c54e3d0c",
   "metadata": {},
   "outputs": [
    {
     "name": "stdout",
     "output_type": "stream",
     "text": [
      "나누기 전용 계산기 입니다.\n",
      "division by zero\n"
     ]
    }
   ],
   "source": [
    "try:\n",
    "    print(\"나누기 전용 계산기 입니다.\")\n",
    "    num1 = int(input(\"첫 번째 숫자를 입력하세요: \"))\n",
    "    num2 = int(input(\"두 번째 숫자를 입력하세요: \"))\n",
    "    print(\"{0} / {1} = {2}\".format(num1, num2, float(num1 / num2)))\n",
    "\n",
    "except ValueError:\n",
    "    print(\"오류 발생! 잘못된 값을 입력했습니다.\")\n",
    "\n",
    "except ZeroDivisionError as err:\n",
    "    print(err)"
   ]
  },
  {
   "cell_type": "code",
   "execution_count": null,
   "id": "3b08efc2",
   "metadata": {},
   "outputs": [
    {
     "name": "stdout",
     "output_type": "stream",
     "text": [
      "나누기 전용 계산기\n",
      "6 / 3 = 2\n"
     ]
    }
   ],
   "source": [
    "# 리스트에 담아서 계산하는 방식으로 수정\n",
    "\n",
    "try:\n",
    "    print(\"나누기 전용 계산기\")\n",
    "    nums = []\n",
    "    nums.append(int(input(\"첫 번째 숫자를 입력하세요: \")))\n",
    "    nums.append(int(input(\"두 번째 숫자를 입력하세요: \")))\n",
    "    nums.append(int(nums[0] / nums[1]))\n",
    "    print(\"{0} / {1} = {2}\".format(nums[0], nums[1], nums[2]))\n",
    "\n",
    "except ValueError:\n",
    "    print(\"오류 발생! 잘못된 값을 입력했습니다.\")\n",
    "\n",
    "except ZeroDivisionError as err:\n",
    "    print(err)\n"
   ]
  },
  {
   "cell_type": "code",
   "execution_count": null,
   "id": "9a48f591",
   "metadata": {},
   "outputs": [
    {
     "name": "stdout",
     "output_type": "stream",
     "text": [
      "나누기 전용 계산기\n"
     ]
    },
    {
     "ename": "IndexError",
     "evalue": "list index out of range",
     "output_type": "error",
     "traceback": [
      "\u001b[0;31m---------------------------------------------------------------------------\u001b[0m",
      "\u001b[0;31mIndexError\u001b[0m                                Traceback (most recent call last)",
      "Cell \u001b[0;32mIn[15], line 7\u001b[0m\n\u001b[1;32m      5\u001b[0m     nums\u001b[38;5;241m.\u001b[39mappend(\u001b[38;5;28mint\u001b[39m(\u001b[38;5;28minput\u001b[39m(\u001b[38;5;124m\"\u001b[39m\u001b[38;5;124m두 번째 숫자를 입력하세요: \u001b[39m\u001b[38;5;124m\"\u001b[39m)))\n\u001b[1;32m      6\u001b[0m     \u001b[38;5;66;03m# nums.append(int(nums[0] / nums[1])) \u001b[39;00m\n\u001b[0;32m----> 7\u001b[0m     \u001b[38;5;28mprint\u001b[39m(\u001b[38;5;124m\"\u001b[39m\u001b[38;5;132;01m{0}\u001b[39;00m\u001b[38;5;124m / \u001b[39m\u001b[38;5;132;01m{1}\u001b[39;00m\u001b[38;5;124m = \u001b[39m\u001b[38;5;132;01m{2}\u001b[39;00m\u001b[38;5;124m\"\u001b[39m\u001b[38;5;241m.\u001b[39mformat(nums[\u001b[38;5;241m0\u001b[39m], nums[\u001b[38;5;241m1\u001b[39m], \u001b[43mnums\u001b[49m\u001b[43m[\u001b[49m\u001b[38;5;241;43m2\u001b[39;49m\u001b[43m]\u001b[49m))\n\u001b[1;32m      9\u001b[0m \u001b[38;5;28;01mexcept\u001b[39;00m \u001b[38;5;167;01mValueError\u001b[39;00m:\n\u001b[1;32m     10\u001b[0m     \u001b[38;5;28mprint\u001b[39m(\u001b[38;5;124m\"\u001b[39m\u001b[38;5;124m오류 발생! 잘못된 값을 입력했습니다.\u001b[39m\u001b[38;5;124m\"\u001b[39m)\n",
      "\u001b[0;31mIndexError\u001b[0m: list index out of range"
     ]
    }
   ],
   "source": [
    "# num[2]를 만들지 않도록 주석처리 한 경우\n",
    "\n",
    "try:\n",
    "    print(\"나누기 전용 계산기\")\n",
    "    nums = []\n",
    "    nums.append(int(input(\"첫 번째 숫자를 입력하세요: \")))\n",
    "    nums.append(int(input(\"두 번째 숫자를 입력하세요: \")))\n",
    "    # nums.append(int(nums[0] / nums[1])) \n",
    "    print(\"{0} / {1} = {2}\".format(nums[0], nums[1], nums[2]))\n",
    "\n",
    "except ValueError:\n",
    "    print(\"오류 발생! 잘못된 값을 입력했습니다.\")\n",
    "\n",
    "except ZeroDivisionError as err:\n",
    "    print(err)"
   ]
  },
  {
   "cell_type": "markdown",
   "id": "d884780d",
   "metadata": {},
   "source": [
    "#### **IndexError** : 리스트의 인덱스 범위를 벗어났을 경우. (현재는 num[0], num[1]밖에 없지만 num[2]에 접근하려고 해서 발생한 오류)"
   ]
  },
  {
   "cell_type": "markdown",
   "id": "041df46f",
   "metadata": {},
   "source": [
    "이렇게 모든 오류에 대해 구문을 추가하게 되면 코드가 길어질 수 있음. \\\n",
    "이 때 **Exception as err** 구문을 추가하면 지금까지 정의하지 않은 모든 오류를 예외 처리할 수 있음."
   ]
  },
  {
   "cell_type": "code",
   "execution_count": null,
   "id": "65a0dd47",
   "metadata": {},
   "outputs": [
    {
     "name": "stdout",
     "output_type": "stream",
     "text": [
      "나누기 전용 계산기\n",
      "알 수 없는 오류 발생!\n",
      "오류 내용: list index out of range\n"
     ]
    }
   ],
   "source": [
    "try:\n",
    "    print(\"나누기 전용 계산기\")\n",
    "    nums = []\n",
    "    nums.append(int(input(\"첫 번째 숫자를 입력하세요: \")))\n",
    "    nums.append(int(input(\"두 번째 숫자를 입력하세요: \")))\n",
    "    # nums.append(int(nums[0] / nums[1])) \n",
    "    print(\"{0} / {1} = {2}\".format(nums[0], nums[1], nums[2]))\n",
    "\n",
    "except ValueError:\n",
    "    print(\"오류 발생! 잘못된 값을 입력했습니다.\")\n",
    "\n",
    "except ZeroDivisionError as err:\n",
    "    print(err)\n",
    "\n",
    "except Exception as err: # 예외 처리 클래스 Exception은 예외 처리 클래스들의 부모 클래스.\n",
    "    print(\"알 수 없는 오류 발생!\")\n",
    "    print(f\"오류 내용: {err}\")"
   ]
  },
  {
   "cell_type": "markdown",
   "id": "48e1ee5b",
   "metadata": {},
   "source": [
    "## **10.2 오류 발생시키기**\n",
    "#### **형식**: ```raise``` 오류 종류 "
   ]
  },
  {
   "cell_type": "code",
   "execution_count": null,
   "id": "6f23e8c3",
   "metadata": {},
   "outputs": [
    {
     "name": "stdout",
     "output_type": "stream",
     "text": [
      "한자리 숫자 나누기 전용 계산기\n",
      "값을 잘못 입력했습니다. 한 자리 숫자만 입력하세요.\n"
     ]
    }
   ],
   "source": [
    "try:\n",
    "    print(\"한자리 숫자 나누기 전용 계산기\")\n",
    "    num1 = int(input(\"첫 번째 숫자를 입력하세요 : \"))\n",
    "    num2 = int(input(\"두 번째 숫자를 입력하세요 : \"))\n",
    "    if num1 >= 10 or num2 >= 10: # 입력받은 수가 한 자리인지 확인\n",
    "        raise ValueError         # 의도적 오류 발생\n",
    "    print(\"{0} / {1} = {2}\".format(num1, num2, float(num1 / num2)))\n",
    "\n",
    "except ValueError:\n",
    "    print(\"값을 잘못 입력했습니다. 한 자리 숫자만 입력하세요.\")"
   ]
  },
  {
   "cell_type": "markdown",
   "id": "39b32fbe",
   "metadata": {},
   "source": [
    "## **10.3 사용자 정의 예외 처리하기**"
   ]
  },
  {
   "cell_type": "code",
   "execution_count": null,
   "id": "a0cb3e1e",
   "metadata": {},
   "outputs": [
    {
     "name": "stdout",
     "output_type": "stream",
     "text": [
      "한자리 숫자 나누기 전용 계산기\n",
      "오류가 발생했씁니다. 한 자리 숫자만 입력하세요.\n"
     ]
    }
   ],
   "source": [
    "class BigNumberError(Exception):\n",
    "    pass\n",
    "\n",
    "try:\n",
    "    print(\"한자리 숫자 나누기 전용 계산기\")\n",
    "    num1 = int(input(\"첫 번째 숫자를 입력하세요 : \"))\n",
    "    num2 = int(input(\"두 번째 숫자를 입력하세요 : \"))\n",
    "    if num1 >= 10 or num2 >= 10: # 입력받은 수가 한 자리인지 확인      \n",
    "        raise BigNumberError     # 사용자 정의 오류 발생\n",
    "    print(\"{0} / {1} = {2}\".format(num1, num2, float(num1 / num2)))\n",
    "\n",
    "except ValueError:\n",
    "    print(\"값을 잘못 입력했습니다. 한 자리 숫자만 입력하세요.\")\n",
    "\n",
    "except BigNumberError:\n",
    "    print(\"오류가 발생했습니다. 한 자리 숫자만 입력하세요.\")"
   ]
  },
  {
   "cell_type": "code",
   "execution_count": null,
   "id": "832bdd9c",
   "metadata": {},
   "outputs": [
    {
     "name": "stdout",
     "output_type": "stream",
     "text": [
      "한자리 숫자 나누기 전용 계산기\n",
      "오류가 발생했습니다. 한 자리 숫자만 입력하세요.\n",
      "입력값: 3, 34\n"
     ]
    }
   ],
   "source": [
    "class BigNumberError(Exception):\n",
    "    def __init__(self, msg):\n",
    "        self.msg = msg # msg: 사용자가 예외를 발생시킬 때 전달하는 오류 메시지 문자열을 저장하기 위한 인스턴스 변수\n",
    "    \n",
    "    def __str__(self): # __str__()는 해당 클래스의 인스턴스를 문자열로 출력할 때 호출되는 특수 메서드\n",
    "                       # 예외가 발생하면, 그 예외 객체를 출력하거나 print(err) 할 때 내부적으로 __str__()가 자동 호출되어 에러 메시지를 구성\n",
    "        return self.msg\n",
    "\n",
    "try:\n",
    "    print(\"한자리 숫자 나누기 전용 계산기\")\n",
    "    num1 = int(input(\"첫 번째 숫자를 입력하세요 : \"))\n",
    "    num2 = int(input(\"두 번째 숫자를 입력하세요 : \"))\n",
    "    if num1 >= 10 or num2 >= 10: # 입력받은 수가 한 자리인지 확인     \n",
    "        # 자세한 오류 메시지 \n",
    "        raise BigNumberError(\"입력값: {0}, {1}\".format(num1, num2))\n",
    "    print(\"{0} / {1} = {2}\".format(num1, num2, float(num1 / num2)))\n",
    "\n",
    "except ValueError:\n",
    "    print(\"값을 잘못 입력했습니다. 한 자리 숫자만 입력하세요.\")\n",
    "\n",
    "except BigNumberError as err:\n",
    "    print(\"오류가 발생했습니다. 한 자리 숫자만 입력하세요.\")\n",
    "    print(err)"
   ]
  },
  {
   "cell_type": "code",
   "execution_count": null,
   "id": "440f5cce",
   "metadata": {},
   "outputs": [
    {
     "name": "stdout",
     "output_type": "stream",
     "text": [
      "한자리 숫자 나누기 전용 계산기\n",
      "오류가 발생했습니다. 공백을 입력하지 마세요.\n",
      "[오류코드 003] 공백 입력 감지됨\n"
     ]
    }
   ],
   "source": [
    "class BigNumberError(Exception):\n",
    "    def __init__(self, msg):\n",
    "        self.msg = msg # msg: 사용자가 예외를 발생시킬 때 전달하는 오류 메시지 문자열을 저장하기 위한 인스턴스 변수\n",
    "    \n",
    "    def __str__(self):\n",
    "        return \"[오류코드 001] \" + self.msg # 두자리 숫자 오류\n",
    "    \n",
    "class SentenceError(Exception): \n",
    "    def __init__(self, msg):\n",
    "        self.msg = msg \n",
    "    \n",
    "    def __str__(self):\n",
    "        return \"[오류코드 002] \" + self.msg # 문자열이 입력됨\n",
    "    \n",
    "class BlankError(Exception):\n",
    "    def __init__(self, msg):\n",
    "        self.msg = msg \n",
    "\n",
    "    def __str__(self):\n",
    "        return \"[오류코드 003] \" + self.msg # 공백이 입력됨\n",
    "\n",
    "try:\n",
    "    print(\"한자리 숫자 나누기 전용 계산기\")\n",
    "    num1 = input(\"첫 번째 숫자를 입력하세요 : \")\n",
    "    num2 = input(\"두 번째 숫자를 입력하세요 : \")\n",
    "\n",
    "    if num1 == \"\" or num2 == \"\":\n",
    "        raise BlankError(\"공백 입력 감지됨\")\n",
    "    \n",
    "    if not num1.isdigit() or not num2.isdigit():\n",
    "        raise SentenceError(\"숫자가 아닌 문자가 포함됨\")\n",
    "    \n",
    "    num1 = int(num1)\n",
    "    num2 = int(num2)\n",
    "\n",
    "    if num1 >= 10 or num2 >= 10: # 입력받은 수가 한 자리인지 확인     \n",
    "        # 자세한 오류 내용 \n",
    "        raise BigNumberError(\"입력값: {0}, {1}\".format(num1, num2))\n",
    "    \n",
    "    print(\"{0} / {1} = {2}\".format(num1, num2, float(num1 / num2)))\n",
    "\n",
    "except ValueError:\n",
    "    print(\"값을 잘못 입력했습니다. 한 자리 숫자만 입력하세요.\")\n",
    "\n",
    "except BigNumberError as err:\n",
    "    print(\"오류가 발생했습니다. 한 자리 숫자만 입력하세요.\")\n",
    "    print(err)\n",
    "\n",
    "except SentenceError as err:\n",
    "    print(\"오류가 발생했습니다. 문자열을 입력하지 마세요.\")\n",
    "    print(err)\n",
    "\n",
    "except BlankError as err:\n",
    "    print(\"오류가 발생했습니다. 공백을 입력하지 마세요.\")\n",
    "    print(err)"
   ]
  },
  {
   "cell_type": "markdown",
   "id": "f4328db4",
   "metadata": {},
   "source": [
    "### **Note: 스페설 메서드**\n",
    "- __init__이나, __str__처럼 이름 앞뒤로 언더바(_)가 2개씩 붙은 형태의 메서드\n",
    "- __init__메서드는 객체가 생성될 때 자동으로 호출, __str__메서드는 print()함수를 객체로 호출할 떄 자동 호출"
   ]
  },
  {
   "cell_type": "code",
   "execution_count": 46,
   "id": "bfcfd245",
   "metadata": {},
   "outputs": [
    {
     "name": "stdout",
     "output_type": "stream",
     "text": [
      "스페셜 생성자\n",
      "특별한 메서드\n"
     ]
    }
   ],
   "source": [
    "class SpecialClass():\n",
    "    def __init__(self):\n",
    "        print(\"스페셜 생성자\")\n",
    "    \n",
    "    def __str__(self):\n",
    "        return \"특별한 메서드\"\n",
    "\n",
    "s = SpecialClass() # __init__ 호출\n",
    "print(s)           # __str__ 호출"
   ]
  },
  {
   "cell_type": "markdown",
   "id": "5432a994",
   "metadata": {},
   "source": [
    "## **10.4 오류와 상관없이 무조건 실행하기: finally**\n",
    "```python\n",
    "try:\n",
    "    실행할 명령1\n",
    "    실행할 명령2\n",
    "    ...\n",
    "\n",
    "except 오류 종류1:\n",
    "    예외 처리 명령1\n",
    "    예외 처리 명령2\n",
    "    ...\n",
    "\n",
    "except 오류 종류2:\n",
    "    예외 처리 명령1\n",
    "    예외 처리 명령2\n",
    "    ...\n",
    "\n",
    "finally:\n",
    "    실행할 명령1\n",
    "    실행할 명령2\n",
    "    ..."
   ]
  },
  {
   "cell_type": "code",
   "execution_count": 50,
   "id": "0f7b6450",
   "metadata": {},
   "outputs": [
    {
     "name": "stdout",
     "output_type": "stream",
     "text": [
      "한자리 숫자 나누기 전용 계산기\n",
      "2 / 3 = 0.67\n",
      "계산기를 이용해주셔서 감사합니다.\n"
     ]
    }
   ],
   "source": [
    "class BigNumberError(Exception):\n",
    "    def __init__(self, msg):\n",
    "        self.msg = msg # msg: 사용자가 예외를 발생시킬 때 전달하는 오류 메시지 문자열을 저장하기 위한 인스턴스 변수\n",
    "    \n",
    "    def __str__(self):\n",
    "        return \"[오류코드 001] \" + self.msg # 두자리 숫자 오류\n",
    "    \n",
    "class SentenceError(Exception): \n",
    "    def __init__(self, msg):\n",
    "        self.msg = msg \n",
    "    \n",
    "    def __str__(self):\n",
    "        return \"[오류코드 002] \" + self.msg # 문자열이 입력됨\n",
    "    \n",
    "class BlankError(Exception):\n",
    "    def __init__(self, msg):\n",
    "        self.msg = msg \n",
    "\n",
    "    def __str__(self):\n",
    "        return \"[오류코드 003] \" + self.msg # 공백이 입력됨\n",
    "\n",
    "try:\n",
    "    print(\"한자리 숫자 나누기 전용 계산기\")\n",
    "    num1 = input(\"첫 번째 숫자를 입력하세요 : \")\n",
    "    num2 = input(\"두 번째 숫자를 입력하세요 : \")\n",
    "\n",
    "    if num1 == \"\" or num2 == \"\":\n",
    "        raise BlankError(\"공백 입력 감지됨\")\n",
    "    \n",
    "    if not num1.isdigit() or not num2.isdigit():\n",
    "        raise SentenceError(\"숫자가 아닌 문자가 포함됨\")\n",
    "\n",
    "    num1 = int(num1)\n",
    "    num2 = int(num2)\n",
    "\n",
    "    if num1 >= 10 or num2 >= 10: # 입력받은 수가 한 자리인지 확인     \n",
    "        # 자세한 오류 내용 \n",
    "        raise BigNumberError(\"입력값: {0}, {1}\".format(num1, num2))\n",
    "    \n",
    "    print(\"{0} / {1} = {2}\".format(num1, num2, round(float(num1 / num2),2)))\n",
    "\n",
    "except ValueError:\n",
    "    print(\"값을 잘못 입력했습니다. 한 자리 숫자만 입력하세요.\")\n",
    "\n",
    "except BigNumberError as err:\n",
    "    print(\"오류가 발생했습니다. 한 자리 숫자만 입력하세요.\")\n",
    "    print(err)\n",
    "\n",
    "except SentenceError as err:\n",
    "    print(\"오류가 발생했습니다. 문자열을 입력하지 마세요.\")\n",
    "    print(err)\n",
    "\n",
    "except BlankError as err:\n",
    "    print(\"오류가 발생했습니다. 공백을 입력하지 마세요.\")\n",
    "    print(err)\n",
    "\n",
    "finally: # 오류 발생 여부와 상관없이 항상 실행\n",
    "    print(\"계산기를 이용해주셔서 감사합니다.\")"
   ]
  },
  {
   "cell_type": "markdown",
   "id": "2b0d79e6",
   "metadata": {},
   "source": [
    "## **10.5 실습 문제: 치킨 주문하기**"
   ]
  },
  {
   "cell_type": "markdown",
   "id": "33b080b3",
   "metadata": {},
   "source": [
    "### **문제:** 치킨 주문 코드에서 예외 처리 구문 추가하기\n",
    "---\n",
    "```python\n",
    "chicken = 10 # 남은 치킨 수\n",
    "waiting = 1 # 대기번호, 1부터 시작\n",
    "\n",
    "while True:\n",
    "    print(\"[남은 치킨 : {0}]\".format(chicken))\n",
    "    order = int(input(\"치킨을 몇 마리 주문하시겠습니까? \"))\n",
    "    if order > chicken: # 남은 치킨보다 주문량이 많을 때\n",
    "        print(\"재료가 부족합니다.\")\n",
    "    else:\n",
    "        print(\"[대기번호 {0}] {1}마리를 주문했습니다.\".format(waiting, order))\n",
    "        waiting += 1 # 대기번호 1 증가\n",
    "        chicken -= order # 주문 수만큼 남은 치킨 감소\n",
    "```\n",
    "---\n",
    "### **조건:**\n",
    "- 1보다 작거나 숫자가 아닌 입력값이 들어올 때는 ValueError로 처리한다.\n",
    "\n",
    "<div align=\"center\">\n",
    "\n",
    "| 실행결과 |\n",
    "|--|\n",
    "| 값을 잘못 입력했습니다. |\n",
    "\n",
    "</div>"
   ]
  },
  {
   "cell_type": "markdown",
   "id": "5e59324f",
   "metadata": {},
   "source": [
    "- 대기 손님이 주문할 수 있는 최대 주문량은 10마리로 제한한다.\n",
    "\n",
    "- 치킨 소진 시 오류(SoldOutError)를 발생시키고 프로그램 종료한다.\n",
    "\n",
    "<div align=\"center\">\n",
    "\n",
    "|실행결과|\n",
    "|--|\n",
    "|재료가 소진돼 더 이상 주문을 받지 않습니다.|\n",
    "\n",
    "</div>"
   ]
  },
  {
   "cell_type": "code",
   "execution_count": 108,
   "id": "94dbabf9",
   "metadata": {},
   "outputs": [
    {
     "name": "stdout",
     "output_type": "stream",
     "text": [
      "[남은 치킨 : 10]\n",
      "[대기번호 1] 3마리를 주문했습니다.\n",
      "[남은 치킨 : 7]\n",
      "[대기번호 2] 3마리를 주문했습니다.\n",
      "[남은 치킨 : 4]\n",
      "[대기번호 3] 3마리를 주문했습니다.\n",
      "[남은 치킨 : 1]\n",
      "재료가 부족합니다.\n",
      "[남은 치킨 : 1]\n",
      "재료가 부족합니다.\n",
      "[남은 치킨 : 1]\n",
      "[대기번호 4] 1마리를 주문했습니다.\n",
      "재료가 소진돼 더 이상 주문을 받지 않습니다.\n"
     ]
    }
   ],
   "source": [
    "class SoldOutError(Exception):\n",
    "    pass\n",
    "\n",
    "chicken = 10\n",
    "waiting = 1\n",
    "\n",
    "while True:\n",
    "    try:\n",
    "        print(\"[남은 치킨 : {0}]\".format(chicken))\n",
    "        order = int(input(\"치킨을 몇 마리 주문하시겠습니까? \"))\n",
    "\n",
    "        if order <= 0:\n",
    "            raise ValueError(\"잘못된 값을 입력했습니다.\")\n",
    "\n",
    "        elif order > chicken:\n",
    "            print(\"재료가 부족합니다.\")\n",
    "        else:\n",
    "            print(\"[대기번호 {0}] {1}마리를 주문했습니다.\".format(waiting, order))\n",
    "            waiting += 1\n",
    "            chicken -= order\n",
    "\n",
    "        if chicken == 0:\n",
    "            raise SoldOutError()\n",
    "\n",
    "    except ValueError:\n",
    "        print(\"잘못된 값을 입력했습니다.\")\n",
    "\n",
    "    except SoldOutError:\n",
    "        print(\"재료가 소진돼 더 이상 주문을 받지 않습니다.\")\n",
    "        break\n"
   ]
  },
  {
   "cell_type": "code",
   "execution_count": 117,
   "id": "4697fdeb",
   "metadata": {},
   "outputs": [
    {
     "name": "stdout",
     "output_type": "stream",
     "text": [
      "배터리 잔량 : 75%\n",
      "일반 모드로 사용합니다.\n",
      "\n",
      "배터리 잔량 : 25%\n",
      "절전 모드로 사용합니다.\n",
      "\n",
      "배터리 잔량 : 3%\n",
      "배터리가 부족해 스마트폰을 종료합니다.\n"
     ]
    }
   ],
   "source": [
    "# 셀프 체크\n",
    "# 문제: 배터리 잔량에 따라 배터리를 관리하는 프로그램을 만들어보기\n",
    "# 조건\n",
    "# 1. save_battery라는 이름으로 함수를 만든다.\n",
    "\n",
    "# 2. 함수에서는 배터리 잔량 정보인 level을 전달값으로 받으며, 별도의 반환값은 없다.\n",
    "\n",
    "# 3. 함수를 호출하면 배터리 잔량을 출력한 뒤 잔량에 따라 동작을 수행한다. 이때 함수 안에 적절한 예외 처리를 해서 프로그램이 비정상적으로 종료되지 않게 한다.\n",
    "\n",
    "# 4. 배터리 잔량에 따른 동작은 다음과 같다.\n",
    "\n",
    "# • 잔량 30% 초과: 일반 모드\n",
    "\n",
    "# • 잔량 5% 초과, 30% 이하: 절전 모드\n",
    "\n",
    "# • 잔량 5% 이하: 종료(오류 발생)\n",
    "\n",
    "class BatteryError(Exception):\n",
    "    pass\n",
    "\n",
    "def save_battery(level):\n",
    "        try:\n",
    "            if level > 30:\n",
    "                print(f\"배터리 잔량 : {level}%\")\n",
    "                print(\"일반 모드로 사용합니다.\\n\")\n",
    "\n",
    "            elif level > 5:\n",
    "                print(f\"배터리 잔량 : {level}%\")\n",
    "                print(\"절전 모드로 사용합니다.\\n\")\n",
    "\n",
    "            else:\n",
    "                print(f\"배터리 잔량 : {level}%\")\n",
    "                raise BatteryError\n",
    "                \n",
    "        except BatteryError:\n",
    "            print(\"배터리가 부족해 스마트폰을 종료합니다.\")\n",
    "\n",
    "\n",
    "save_battery(75)\n",
    "save_battery(25)\n",
    "save_battery(3)\n",
    "\n"
   ]
  }
 ],
 "metadata": {
  "kernelspec": {
   "display_name": "3.10.13",
   "language": "python",
   "name": "python3"
  },
  "language_info": {
   "codemirror_mode": {
    "name": "ipython",
    "version": 3
   },
   "file_extension": ".py",
   "mimetype": "text/x-python",
   "name": "python",
   "nbconvert_exporter": "python",
   "pygments_lexer": "ipython3",
   "version": "3.10.13"
  }
 },
 "nbformat": 4,
 "nbformat_minor": 5
}
