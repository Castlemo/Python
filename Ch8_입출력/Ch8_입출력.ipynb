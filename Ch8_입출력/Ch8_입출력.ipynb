{
 "cells": [
  {
   "cell_type": "markdown",
   "id": "bd883770",
   "metadata": {},
   "source": [
    "# **8. 입출력**"
   ]
  },
  {
   "cell_type": "markdown",
   "id": "7914a41b",
   "metadata": {},
   "source": [
    "## **8.1 표준 입력받기: input()**"
   ]
  },
  {
   "cell_type": "markdown",
   "id": "ffe4e19f",
   "metadata": {},
   "source": [
    "- input() 함수로 입력받은 값은 항상 **문자열**\n",
    "- 값을 숫자 연산 목적으로 사용하려면 반드시 **int( )로 형변환** 필요"
   ]
  },
  {
   "cell_type": "code",
   "execution_count": 68,
   "id": "2bc405da",
   "metadata": {},
   "outputs": [
    {
     "name": "stdout",
     "output_type": "stream",
     "text": [
      "입력한 값은 입니다.\n"
     ]
    }
   ],
   "source": [
    "answer = input(\"아무 값이나 입력하세요 : \")\n",
    "print(\"입력한 값은 \" + answer + \"입니다.\")"
   ]
  },
  {
   "cell_type": "code",
   "execution_count": 69,
   "id": "73132f01",
   "metadata": {},
   "outputs": [
    {
     "name": "stdout",
     "output_type": "stream",
     "text": [
      "<class 'str'>\n"
     ]
    }
   ],
   "source": [
    "print(type(answer))"
   ]
  },
  {
   "cell_type": "code",
   "execution_count": 70,
   "id": "8f336112",
   "metadata": {},
   "outputs": [
    {
     "name": "stdout",
     "output_type": "stream",
     "text": [
      "입력한 값은 입니다.\n",
      "<class 'str'>\n"
     ]
    },
    {
     "ename": "ValueError",
     "evalue": "invalid literal for int() with base 10: ''",
     "output_type": "error",
     "traceback": [
      "\u001b[0;31m---------------------------------------------------------------------------\u001b[0m",
      "\u001b[0;31mValueError\u001b[0m                                Traceback (most recent call last)",
      "Cell \u001b[0;32mIn[70], line 4\u001b[0m\n\u001b[1;32m      2\u001b[0m \u001b[38;5;28mprint\u001b[39m(\u001b[38;5;124m\"\u001b[39m\u001b[38;5;124m입력한 값은 \u001b[39m\u001b[38;5;124m\"\u001b[39m \u001b[38;5;241m+\u001b[39m answer \u001b[38;5;241m+\u001b[39m \u001b[38;5;124m\"\u001b[39m\u001b[38;5;124m입니다.\u001b[39m\u001b[38;5;124m\"\u001b[39m)\n\u001b[1;32m      3\u001b[0m \u001b[38;5;28mprint\u001b[39m(\u001b[38;5;28mtype\u001b[39m(answer))\n\u001b[0;32m----> 4\u001b[0m \u001b[38;5;28mprint\u001b[39m(\u001b[38;5;28mtype\u001b[39m(\u001b[38;5;28;43mint\u001b[39;49m\u001b[43m(\u001b[49m\u001b[43manswer\u001b[49m\u001b[43m)\u001b[49m))\n",
      "\u001b[0;31mValueError\u001b[0m: invalid literal for int() with base 10: ''"
     ]
    }
   ],
   "source": [
    "answer = input(\"아무 값이나 입력하세요 : \")\n",
    "print(\"입력한 값은 \" + answer + \"입니다.\")\n",
    "print(type(answer))\n",
    "print(type(int(answer)))"
   ]
  },
  {
   "cell_type": "markdown",
   "id": "7687f5d0",
   "metadata": {},
   "source": [
    "## **8.2 표준 출력 시 유용한 기능**"
   ]
  },
  {
   "cell_type": "markdown",
   "id": "744c3d64",
   "metadata": {},
   "source": [
    "### **8.2.1 구분자 넣기: sep**"
   ]
  },
  {
   "cell_type": "code",
   "execution_count": null,
   "id": "44d45526",
   "metadata": {},
   "outputs": [
    {
     "name": "stdout",
     "output_type": "stream",
     "text": [
      "파이썬 자바\n",
      "파이썬자바\n"
     ]
    }
   ],
   "source": [
    "print(\"파이썬\", \"자바\")\n",
    "print(\"파이썬\" + \"자바\")"
   ]
  },
  {
   "cell_type": "code",
   "execution_count": null,
   "id": "8bc70d6e",
   "metadata": {},
   "outputs": [
    {
     "name": "stdout",
     "output_type": "stream",
     "text": [
      "파이썬 자바\n",
      "파이썬,자바\n"
     ]
    }
   ],
   "source": [
    "print(\"파이썬\", \"자바\")\n",
    "print(\"파이썬\",\"자바\", sep=\",\") # 값을 쉼표로 구분"
   ]
  },
  {
   "cell_type": "code",
   "execution_count": null,
   "id": "82ecdb2e",
   "metadata": {},
   "outputs": [
    {
     "name": "stdout",
     "output_type": "stream",
     "text": [
      "파이썬 자바 자바스크립트\n",
      "파이썬 vs 자바 vs 자바스크립트\n"
     ]
    }
   ],
   "source": [
    "print(\"파이썬\", \"자바\", \"자바스크립트\")\n",
    "print(\"파이썬\",\"자바\",\"자바스크립트\", sep=\" vs \")"
   ]
  },
  {
   "cell_type": "markdown",
   "id": "4b24febf",
   "metadata": {},
   "source": [
    "### **8.2.2 문장 끝 지정하기: end**"
   ]
  },
  {
   "cell_type": "code",
   "execution_count": null,
   "id": "60dc61d6",
   "metadata": {},
   "outputs": [
    {
     "name": "stdout",
     "output_type": "stream",
     "text": [
      "파이썬, 자바? 무엇이 더 재밌을까요?\n"
     ]
    }
   ],
   "source": [
    "print(\"파이썬\", \"자바\", sep=\", \", end=\"? \")\n",
    "print(\"무엇이 더 재밌을까요?\")"
   ]
  },
  {
   "cell_type": "markdown",
   "id": "8fd9b4da",
   "metadata": {},
   "source": [
    "### **8.2.3 출력 위치 지정하기: file**"
   ]
  },
  {
   "cell_type": "code",
   "execution_count": null,
   "id": "1e7b3a27",
   "metadata": {},
   "outputs": [
    {
     "name": "stdout",
     "output_type": "stream",
     "text": [
      "Python Java\n"
     ]
    },
    {
     "name": "stderr",
     "output_type": "stream",
     "text": [
      "Python Java\n"
     ]
    }
   ],
   "source": [
    "import sys\n",
    "\n",
    "print(\"Python\", \"Java\", file=sys.stdout) # 표준 출력\n",
    "print(\"Python\", \"Java\", file=sys.stderr) # 표준 오류"
   ]
  },
  {
   "cell_type": "markdown",
   "id": "305af56b",
   "metadata": {},
   "source": [
    "### **8.2.4 공간 확보해 정렬하기: ljust()와 rjust()**"
   ]
  },
  {
   "cell_type": "code",
   "execution_count": null,
   "id": "0b727081",
   "metadata": {},
   "outputs": [
    {
     "name": "stdout",
     "output_type": "stream",
     "text": [
      "수학 0\n",
      "영어 50\n",
      "코딩 100\n"
     ]
    }
   ],
   "source": [
    "scores = {\"수학\": 0, \"영어\": 50, \"코딩\": 100}\n",
    "\n",
    "for subject, score in scores.items():\n",
    "    print(subject, score)"
   ]
  },
  {
   "cell_type": "code",
   "execution_count": null,
   "id": "2bc2ddc7",
   "metadata": {},
   "outputs": [
    {
     "name": "stdout",
     "output_type": "stream",
     "text": [
      "수학      :   0\n",
      "영어      :  50\n",
      "코딩      : 100\n"
     ]
    }
   ],
   "source": [
    "scores = {\"수학\": 0, \"영어\": 50, \"코딩\": 100}\n",
    "\n",
    "for subject, score in scores.items():\n",
    "    print(subject.ljust(8), str(score).rjust(4), sep=\":\") # subject 8칸 / 왼쪽 정렬, score 4칸 / 오른쪽 정렬"
   ]
  },
  {
   "cell_type": "markdown",
   "id": "1bda395c",
   "metadata": {},
   "source": [
    "### **8.2.5 빈칸 0으로 채우기: zfill()**"
   ]
  },
  {
   "cell_type": "code",
   "execution_count": null,
   "id": "149dc30a",
   "metadata": {},
   "outputs": [
    {
     "name": "stdout",
     "output_type": "stream",
     "text": [
      "대기번호: 1\n",
      "대기번호: 2\n",
      "대기번호: 3\n",
      "대기번호: 4\n",
      "대기번호: 5\n",
      "대기번호: 6\n",
      "대기번호: 7\n",
      "대기번호: 8\n",
      "대기번호: 9\n",
      "대기번호: 10\n",
      "대기번호: 11\n",
      "대기번호: 12\n",
      "대기번호: 13\n",
      "대기번호: 14\n",
      "대기번호: 15\n",
      "대기번호: 16\n",
      "대기번호: 17\n",
      "대기번호: 18\n",
      "대기번호: 19\n",
      "대기번호: 20\n"
     ]
    }
   ],
   "source": [
    "for num in range(1, 21):\n",
    "    print(f\"대기번호: {num}\")\n"
   ]
  },
  {
   "cell_type": "code",
   "execution_count": null,
   "id": "892511ed",
   "metadata": {},
   "outputs": [
    {
     "name": "stdout",
     "output_type": "stream",
     "text": [
      "대기번호: 001\n",
      "대기번호: 002\n",
      "대기번호: 003\n",
      "대기번호: 004\n",
      "대기번호: 005\n",
      "대기번호: 006\n",
      "대기번호: 007\n",
      "대기번호: 008\n",
      "대기번호: 009\n",
      "대기번호: 010\n",
      "대기번호: 011\n",
      "대기번호: 012\n",
      "대기번호: 013\n",
      "대기번호: 014\n",
      "대기번호: 015\n",
      "대기번호: 016\n",
      "대기번호: 017\n",
      "대기번호: 018\n",
      "대기번호: 019\n",
      "대기번호: 020\n"
     ]
    }
   ],
   "source": [
    "for num in range(1, 21):\n",
    "    print(f\"대기번호: {str(num).zfill(3)}\")"
   ]
  },
  {
   "cell_type": "markdown",
   "id": "b106e73d",
   "metadata": {},
   "source": [
    "## **8.3 다양한 형식으로 출력하기: format()**\n",
    "\n",
    "- 형식: **{ 인덱스 :[ [ 빈칸 채우기 ] 정렬 ] [ 기호 ] [ 공간 확보 ] [ 쉼표 ] [ .자릿수 ] [ 자료형 ]}**"
   ]
  },
  {
   "cell_type": "code",
   "execution_count": null,
   "id": "a2f709bb",
   "metadata": {},
   "outputs": [
    {
     "name": "stdout",
     "output_type": "stream",
     "text": [
      "500\n",
      "       500\n",
      "       500\n"
     ]
    }
   ],
   "source": [
    "print(\"{0}\".format(500))\n",
    "\n",
    "# 빈칸으로 두기(공백은 생략 가능), 오른쪽 정렬, 공간 10칸 확보\n",
    "print(\"{0: >10}\".format(500))\n",
    "print(\"{0:>10}\".format(500))"
   ]
  },
  {
   "cell_type": "code",
   "execution_count": null,
   "id": "53066785",
   "metadata": {},
   "outputs": [
    {
     "name": "stdout",
     "output_type": "stream",
     "text": [
      "      +500\n",
      "      -500\n"
     ]
    }
   ],
   "source": [
    "# 기호 추가\n",
    "print(\"{0: >+10}\".format(500))\n",
    "print(\"{0: >+10}\".format(-500))"
   ]
  },
  {
   "cell_type": "code",
   "execution_count": null,
   "id": "78864ac8",
   "metadata": {},
   "outputs": [
    {
     "name": "stdout",
     "output_type": "stream",
     "text": [
      "500_______\n",
      "500@@@@@@@\n",
      "500-------\n"
     ]
    }
   ],
   "source": [
    "# 빈칸 다른 값으로 채우기\n",
    "print(\"{0:_<10}\".format(500))\n",
    "print(\"{0:@<10}\".format(500))\n",
    "print(\"{0:-<10}\".format(500))"
   ]
  },
  {
   "cell_type": "code",
   "execution_count": null,
   "id": "90aa0929",
   "metadata": {},
   "outputs": [
    {
     "name": "stdout",
     "output_type": "stream",
     "text": [
      "100,000,000,000,000\n",
      "+100,000,000,000,000\n",
      "-100,000,000,000,000\n"
     ]
    }
   ],
   "source": [
    "print(\"{0:,}\".format(100000000000000)) # 3자리마다 쉼표 찍기\n",
    "print(\"{0:+,}\".format(100000000000000)) # 기호 추가\n",
    "print(\"{0:,}\".format(-100000000000000)) # 음수일 때"
   ]
  },
  {
   "cell_type": "code",
   "execution_count": null,
   "id": "be1f62d4",
   "metadata": {},
   "outputs": [
    {
     "name": "stdout",
     "output_type": "stream",
     "text": [
      "+100,000,000,000,000^^^^^^^^^^\n"
     ]
    }
   ],
   "source": [
    "# 빈칸을 ^로 채우기, 왼쪽 정렬, + 기호 붙이기, 공간 30칸 확보, 3자리마다 쉼표 찍기\n",
    "\n",
    "print(\"{0:^<+30,}\".format(100000000000000))"
   ]
  },
  {
   "cell_type": "code",
   "execution_count": null,
   "id": "a26b0bd3",
   "metadata": {},
   "outputs": [
    {
     "name": "stdout",
     "output_type": "stream",
     "text": [
      "1.6666666666666667\n"
     ]
    }
   ],
   "source": [
    "print(\"{0}\".format(5 / 3))"
   ]
  },
  {
   "cell_type": "code",
   "execution_count": null,
   "id": "0c8f0bfe",
   "metadata": {},
   "outputs": [
    {
     "name": "stdout",
     "output_type": "stream",
     "text": [
      "1.666667\n"
     ]
    }
   ],
   "source": [
    "# 소수점 이하 6자리까지 출력\n",
    "\n",
    "print(\"{0:f}\".format(5 / 3))\n"
   ]
  },
  {
   "cell_type": "code",
   "execution_count": null,
   "id": "7d9c10a5",
   "metadata": {},
   "outputs": [
    {
     "name": "stdout",
     "output_type": "stream",
     "text": [
      "1.67\n"
     ]
    }
   ],
   "source": [
    "# 소수점 이하 두번째 자리까지 출력\n",
    "\n",
    "print(\"{0:.2f}\".format(5 / 3))"
   ]
  },
  {
   "cell_type": "markdown",
   "id": "ff2ae93a",
   "metadata": {},
   "source": [
    "## **8.4 파일 입출력**"
   ]
  },
  {
   "cell_type": "markdown",
   "id": "73f377fb",
   "metadata": {},
   "source": [
    "### **8.4.1 파일 열고 닫기: open(), close()**\n",
    "```python\n",
    "open(\"파일명\", \"모드\", encoding=\"인코딩 형식\")"
   ]
  },
  {
   "cell_type": "markdown",
   "id": "f470ddea",
   "metadata": {},
   "source": [
    "| 모드 | 의미 | 설명 |\n",
    "|------|------|-------|\n",
    "| r    | 읽기(read) | 파일 내용을 읽어오기 위한 모드 |\n",
    "| w    | 쓰기(write) | 파일에 내용을 쓰기 위한 모드, 같은 이름의 파일이 있으면 해당 파일을 덮어 써서 기존 내용을 삭제함 |\n",
    "| a    | 이어쓰기(append) | 파일에 내용을 쓰기 위한 모드, 같은 이름의 파일이 있으면 기존 내용 끝에 이어서 씀 |"
   ]
  },
  {
   "cell_type": "code",
   "execution_count": null,
   "id": "e8f1eb0c",
   "metadata": {},
   "outputs": [],
   "source": [
    "# score.txt 파일을 쓰기 모드로 열기\n",
    "score_file = open(\"score.txt\", \"w\", encoding=\"utf8\")\n",
    "print(\"수학 : 0\", file=score_file)\n",
    "print(\"영어 : 50\", file=score_file)\n",
    "score_file.close()"
   ]
  },
  {
   "cell_type": "markdown",
   "id": "0d168895",
   "metadata": {},
   "source": [
    "### **8.4.2 파일 쓰기: write()**"
   ]
  },
  {
   "cell_type": "code",
   "execution_count": null,
   "id": "d407e958",
   "metadata": {},
   "outputs": [],
   "source": [
    "# score.txt 파일을 이어쓰기 모드로 열기\n",
    "score_file = open(\"score.txt\", \"a\", encoding=\"utf8\")\n",
    "\n",
    "# write 함수는 줄 바꿈이 없으므오 \\n 추가\n",
    "score_file.write(\"과학 : 80\\n\")\n",
    "score_file.write(\"코딩 : 100\\n\")\n",
    "score_file.close()"
   ]
  },
  {
   "cell_type": "markdown",
   "id": "8f7aa8e5",
   "metadata": {},
   "source": [
    "### **8.4.3 파일 읽기: read(), readline(), readlines()**"
   ]
  },
  {
   "cell_type": "markdown",
   "id": "09e03ca5",
   "metadata": {},
   "source": [
    "| 함수 | 설명 |\n",
    "|------|------|\n",
    "| read()    | 파일 내용을 한꺼번에 읽어오기 |\n",
    "| readline()    | 파일 내용을 한 줄씩 읽어오기 |\n",
    "| readlines()    | 파일 내용을 줄 단위로 나뉜 리스트 형태로 한꺼번에 읽어오기 |"
   ]
  },
  {
   "cell_type": "code",
   "execution_count": null,
   "id": "8036d84a",
   "metadata": {},
   "outputs": [
    {
     "name": "stdout",
     "output_type": "stream",
     "text": [
      "수학 : 0\n",
      "영어 : 50\n",
      "과학 : 80\n",
      "코딩 : 100\n",
      "\n"
     ]
    }
   ],
   "source": [
    "score_file = open(\"score.txt\", \"r\", encoding=\"utf8\")\n",
    "print(score_file.read()) # 파일 전체 읽어오기\n",
    "score_file.close()"
   ]
  },
  {
   "cell_type": "code",
   "execution_count": null,
   "id": "f376ea5b",
   "metadata": {},
   "outputs": [
    {
     "name": "stdout",
     "output_type": "stream",
     "text": [
      "수학 : 0\n",
      "영어 : 50\n",
      "과학 : 80\n",
      "코딩 : 100\n"
     ]
    }
   ],
   "source": [
    "score_file = open(\"score.txt\", \"r\", encoding=\"utf8\")\n",
    "\n",
    "# 한 줄씩 읽어오고 커서는 다음 줄로 이동\n",
    "# end 값을 설정해 print함수 자체의 줄 바꿈과 중복 수행 방지\n",
    "print(score_file.readline(), end=\"\")\n",
    "print(score_file.readline(), end=\"\")\n",
    "print(score_file.readline(), end=\"\")\n",
    "print(score_file.readline(), end=\"\")\n",
    "score_file.close()"
   ]
  },
  {
   "cell_type": "code",
   "execution_count": null,
   "id": "b689b731",
   "metadata": {},
   "outputs": [
    {
     "name": "stdout",
     "output_type": "stream",
     "text": [
      "수학 : 0\n",
      "영어 : 50\n",
      "과학 : 80\n",
      "코딩 : 100\n"
     ]
    }
   ],
   "source": [
    "score_file = open(\"score.txt\", \"r\", encoding=\"utf8\")\n",
    "\n",
    "while True:\n",
    "    line = score_file.readline()\n",
    "    if not line:\n",
    "        break\n",
    "\n",
    "    print(line, end=\"\")\n",
    "\n",
    "score_file.close()"
   ]
  },
  {
   "cell_type": "code",
   "execution_count": null,
   "id": "44c1d70b",
   "metadata": {},
   "outputs": [
    {
     "name": "stdout",
     "output_type": "stream",
     "text": [
      "수학 : 0\n",
      "영어 : 50\n",
      "과학 : 80\n",
      "코딩 : 100\n"
     ]
    }
   ],
   "source": [
    "score_file = open(\"score.txt\", \"r\", encoding=\"utf8\")\n",
    "\n",
    "lines = score_file.readlines()\n",
    "for line in lines:\n",
    "    print(line, end=\"\")\n",
    "\n",
    "score_file.close()"
   ]
  },
  {
   "cell_type": "markdown",
   "id": "597fe228",
   "metadata": {},
   "source": [
    "## **8.5 데이터를 파일로 저장하기: pickle 모듈**\n",
    "- 저장 형식: **dump(저장할 데이터, 저장할 파일명)**\n",
    "- 불러오기 형식: **load(불러올 파일명)**"
   ]
  },
  {
   "cell_type": "markdown",
   "id": "d91f6031",
   "metadata": {},
   "source": [
    "| 모드 | 의미 | 설명 |\n",
    "|------|------|-------|\n",
    "| t    | 텍스트(text) | 파일을 텍스트 모드로 열기. 읽기 모드일 때는 rt, 쓰기 모드일 때는 wt와 같이 사용함. 텍스트 모드는 기본값이므로 t는 생략 가능 |\n",
    "| b    | 바이너리(binary) | 파일을 바이너리 모드로 열기. 읽기 모드일 때는 rb, 쓰기 모드일 때는 wb와 같이 사용함. |"
   ]
  },
  {
   "cell_type": "code",
   "execution_count": null,
   "id": "3aeef544",
   "metadata": {},
   "outputs": [
    {
     "name": "stdout",
     "output_type": "stream",
     "text": [
      "{'이름': '리자몽', '나이': 27, '취미': ['농구', '코딩', '게임']}\n"
     ]
    }
   ],
   "source": [
    "import pickle\n",
    "\n",
    "profile_file = open(\"profile.pickle\", \"wb\") # 바이너리 형태로 저장\n",
    "\n",
    "profile = {\"이름\": \"리자몽\", \"나이\": 27, \"취미\": [\"농구\", \"코딩\", \"게임\"]}\n",
    "\n",
    "print(profile)\n",
    "\n",
    "pickle.dump(profile, profile_file) # profile 데이터를 파일에 저장\n",
    "profile_file.close()"
   ]
  },
  {
   "cell_type": "code",
   "execution_count": null,
   "id": "044dd59a",
   "metadata": {},
   "outputs": [
    {
     "name": "stdout",
     "output_type": "stream",
     "text": [
      "{'이름': '리자몽', '나이': 27, '취미': ['농구', '코딩', '게임']}\n"
     ]
    }
   ],
   "source": [
    "profile_file = open(\"profile.pickle\", \"rb\") # 바이너리 형태 명시\n",
    "profile = pickle.load(profile_file) # 파일에 있는 정보를 불러와서 profile 에 저장\n",
    "\n",
    "print(profile)\n",
    "profile_file.close()"
   ]
  },
  {
   "cell_type": "markdown",
   "id": "a48af8c6",
   "metadata": {},
   "source": [
    "## **8.6 파일 한 번에 열고 닫기: with 문**\n",
    "**형식**\n",
    "```python\n",
    "with 작업 as 변수명:\n",
    "    실행할 명령1\n",
    "    실행할 명령2\n",
    "    ..."
   ]
  },
  {
   "cell_type": "code",
   "execution_count": null,
   "id": "9d320db0",
   "metadata": {},
   "outputs": [
    {
     "name": "stdout",
     "output_type": "stream",
     "text": [
      "{'이름': '리자몽', '나이': 27, '취미': ['농구', '코딩', '게임']}\n"
     ]
    }
   ],
   "source": [
    "import pickle as p\n",
    "\n",
    "with open(\"profile.pickle\", \"rb\") as profile_file:\n",
    "    print(p.load(profile_file))"
   ]
  },
  {
   "cell_type": "code",
   "execution_count": 75,
   "id": "c7e5c2a6",
   "metadata": {},
   "outputs": [
    {
     "name": "stdout",
     "output_type": "stream",
     "text": [
      "파이썬을 열심히 공부하고 있어요.\n"
     ]
    }
   ],
   "source": [
    "import pickle\n",
    "\n",
    "with open(\"study.txt\", \"w\", encoding=\"utf8\") as study_file:\n",
    "    study_file.write(\"파이썬을 열심히 공부하고 있어요.\")\n",
    "\n",
    "with open(\"study.txt\", \"r\", encoding=\"utf8\") as study_file:\n",
    "    print(study_file.read())"
   ]
  },
  {
   "cell_type": "markdown",
   "id": "b36122d0",
   "metadata": {},
   "source": [
    "## **8.7 실습문제: 보고서 파일 만들기**"
   ]
  },
  {
   "cell_type": "markdown",
   "id": "f14706a5",
   "metadata": {},
   "source": [
    "### **문제:** 회사에서 매주 1회 보고서를 작성하라고 합니다. 1주차부터 50주차까지 보고서 파일을 만드는 프로그램을 작성하세요.\n",
    "\n",
    "### **조건:**\n",
    "- 파일명은 '1주차.txt', '2주차.txt', ...로 만든다. 완성 코드를 실행하면 소스 코드와 동일한 위치에 50개 파일을 생성\n",
    "- 각 파일에는 각 주차에 해당하는 내용이 다음 형태로 포함되어 있음\n",
    "    - -35주차 주간보고-\n",
    "    - 부서 : \n",
    "    - 이름 :\n",
    "    - 업무 요약 :"
   ]
  },
  {
   "cell_type": "code",
   "execution_count": null,
   "id": "d156c8b7",
   "metadata": {},
   "outputs": [],
   "source": [
    "for i in range(1, 51):\n",
    "    report = open(f\"{i}주차.txt\", \"a\", encoding = \"utf8\")\n",
    "    report.write(f\"- {i}주차 주간 보고 -\\n\")\n",
    "    report.write(f\"-부서: \\n\")\n",
    "    report.write(f\"-이름: \\n\")\n",
    "    report.write(f\"-업무 요약: \\n\")\n",
    "    report.close()"
   ]
  },
  {
   "cell_type": "code",
   "execution_count": null,
   "id": "1965ba0b",
   "metadata": {},
   "outputs": [],
   "source": [
    "# GPT 버전\n",
    "\n",
    "for i in range(1, 51):\n",
    "    # 파일을 열고 닫을 때 with 문을 쓰면, 자동으로 파일이 닫히므로 더 안전하고 깔끔.\n",
    "    with open(f\"{i}주차.txt\", \"w\", encoding=\"utf8\") as report:  # w를 쓰면 매번 새로 생성되기 때문에 이전에 작성한 내용이 반복되지 않음\n",
    "        report.write(f\"- {i}주차 주간 보고 -\\n\")\n",
    "        report.write(\"- 부서: \\n\")\n",
    "        report.write(\"- 이름: \\n\")\n",
    "        report.write(\"- 업무 요약: \\n\")"
   ]
  },
  {
   "cell_type": "code",
   "execution_count": 81,
   "id": "f0a9733c",
   "metadata": {},
   "outputs": [],
   "source": [
    "# 셀프체크\n",
    "# 나도 유치원에는 각 반의 이름, 연령, 인원 정보가 띄어쓰기로 구분되어 한 줄에 정리된 파일이 있습니다. 파일 내용을 읽어 와서 각 반의 정보를 출력하는 프로그램을 작성하세요.\n",
    "# 조건\n",
    "# 1. 다음 내용을 넣어 텍스트 파일을 생성한다. 이때 텍스트 파일명은 class.txt 로 한다\n",
    "# 내용: 초록반 5세 20면 파랑반 6세 18명 노랑반 7세 22명\n",
    "# 2. 생성한 파일을 읽어 와서 내용을 각각 빈칸으로 구분해 출력한다. 단, 구분을 위해 문자열 함수 중 하나인 split()을 활용한다.\n",
    "# 3. 정보가 '명'으로 끝나는 경우 줄 바꿈한다. 단, 확인을 위해 문자열 함수 중 하나인 endswith()을 활용한다.\n",
    "\n",
    "# class_file = open(\"class.txt\", \"w\", encoding=\"utf8\")\n",
    "# class_file.write(\"초록반 5세 20면 파랑반 6세 18명 노랑반 7세 22명\")\n",
    "# print(class_file)\n",
    "\n",
    "# class_file은 파일 객체이므로 print를 해도 무의미한 정보 출력.\n",
    "# class_file은 파일 객체이므로 split 메서드나 endswith 메서드가 없음. \n",
    "\n",
    "# print(class_file.split())\n",
    "\n",
    "# if class_file.endswith(\"명\"):\n",
    "#     class_file.write(\"\\n\")\n",
    "# print(class_file)\n",
    "# class_file.close()"
   ]
  },
  {
   "cell_type": "code",
   "execution_count": null,
   "id": "7b79a6f6",
   "metadata": {},
   "outputs": [
    {
     "name": "stdout",
     "output_type": "stream",
     "text": [
      "초록반 5세 20명 \n",
      "파랑반 6세 18명 \n",
      "노랑반 7세 22명 \n"
     ]
    }
   ],
   "source": [
    "# 해설 버전\n",
    "with open(\"class.txt\", \"w\", encoding=\"utf8\") as class_file:\n",
    "    class_file.write(\"초록반 5세 20명 파랑반 6세 18명 노랑반 7세 22명\")\n",
    "\n",
    "\n",
    "with open(\"class.txt\", \"r\", encoding=\"utf8\") as f:\n",
    "    txt = f.read() # 파일 내용 읽어오기\n",
    "    words = txt.split() # 내용을 띄어쓰기로 구분해 리스트로 반환\n",
    "\n",
    "    for word in words:\n",
    "        print(word, end=\" \")\n",
    "        if word.endswith(\"명\"): # \"명\"으로 끝나면 줄 바꿈\n",
    "            print()"
   ]
  },
  {
   "cell_type": "code",
   "execution_count": 80,
   "id": "8ec73e52",
   "metadata": {},
   "outputs": [
    {
     "name": "stdout",
     "output_type": "stream",
     "text": [
      "초록반 5세 20명 \n",
      "파랑반 6세 18명 \n",
      "노랑반 7세 22명 \n"
     ]
    }
   ],
   "source": [
    "# GPT 버전\n",
    "\n",
    "# 1단계: 파일 생성 및 쓰기\n",
    "with open(\"class.txt\", \"w\", encoding=\"utf8\") as class_file:\n",
    "    class_file.write(\"초록반 5세 20명 파랑반 6세 18명 노랑반 7세 22명\")\n",
    "\n",
    "# 2단계: 파일 읽기 및 처리\n",
    "with open(\"class.txt\", \"r\", encoding=\"utf8\") as class_file:\n",
    "    content = class_file.read()             # 전체 문자열 읽기\n",
    "    items = content.split()                # 띄어쓰기로 구분\n",
    "\n",
    "    for item in items:\n",
    "        print(item, end=\" \")               # 기본 출력\n",
    "        if item.endswith(\"명\"):            # '명'으로 끝나면 줄바꿈\n",
    "            print()                        # 줄바꿈"
   ]
  }
 ],
 "metadata": {
  "kernelspec": {
   "display_name": "Python 3",
   "language": "python",
   "name": "python3"
  },
  "language_info": {
   "codemirror_mode": {
    "name": "ipython",
    "version": 3
   },
   "file_extension": ".py",
   "mimetype": "text/x-python",
   "name": "python",
   "nbconvert_exporter": "python",
   "pygments_lexer": "ipython3",
   "version": "3.10.13"
  }
 },
 "nbformat": 4,
 "nbformat_minor": 5
}
