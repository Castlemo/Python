{
 "cells": [
  {
   "cell_type": "markdown",
   "id": "bd883770",
   "metadata": {},
   "source": [
    "# **8. 입출력**"
   ]
  },
  {
   "cell_type": "markdown",
   "id": "7914a41b",
   "metadata": {},
   "source": []
  }
 ],
 "metadata": {
  "language_info": {
   "name": "python"
  }
 },
 "nbformat": 4,
 "nbformat_minor": 5
}
