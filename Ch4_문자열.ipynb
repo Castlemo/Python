{
 "cells": [
  {
   "cell_type": "markdown",
   "metadata": {},
   "source": [
    "# 4장 문자열 다루기"
   ]
  },
  {
   "cell_type": "markdown",
   "metadata": {},
   "source": [
    "## 4.1 문자열이란"
   ]
  },
  {
   "cell_type": "code",
   "execution_count": 18,
   "metadata": {},
   "outputs": [
    {
     "name": "stdout",
     "output_type": "stream",
     "text": [
      "나는 소년입니다.\n"
     ]
    }
   ],
   "source": [
    "sentence1 = '나는 소년입니다.'\n",
    "\n",
    "print(sentence1)"
   ]
  },
  {
   "cell_type": "code",
   "execution_count": 19,
   "metadata": {},
   "outputs": [
    {
     "name": "stdout",
     "output_type": "stream",
     "text": [
      "파이썬은 쉬워요.\n"
     ]
    }
   ],
   "source": [
    "sentence2 = '파이썬은 쉬워요.'\n",
    "\n",
    "print(sentence2)"
   ]
  },
  {
   "cell_type": "code",
   "execution_count": 20,
   "metadata": {},
   "outputs": [
    {
     "name": "stdout",
     "output_type": "stream",
     "text": [
      "나는 소년입니다. <class 'str'>\n",
      "파이썬은 쉬워요. <class 'str'>\n"
     ]
    }
   ],
   "source": [
    "sentence1 = '나는 소년입니다.'\n",
    "print(sentence1, type(sentence1))\n",
    "\n",
    "sentence2 = '파이썬은 쉬워요.'\n",
    "print(sentence2, type(sentence2))"
   ]
  },
  {
   "cell_type": "code",
   "execution_count": 22,
   "metadata": {},
   "outputs": [
    {
     "name": "stdout",
     "output_type": "stream",
     "text": [
      "\n",
      "나는 소년이고,\n",
      "파이썬은 쉬워요.\n",
      " <class 'str'>\n"
     ]
    }
   ],
   "source": [
    "sentence3 = \"\"\"\n",
    "나는 소년이고,\n",
    "파이썬은 쉬워요.\n",
    "\"\"\"\n",
    "\n",
    "print(sentence3, type(sentence3))"
   ]
  },
  {
   "cell_type": "markdown",
   "metadata": {},
   "source": [
    "## 4.2 원하는 만큼 문자열 자르기(슬라이싱)"
   ]
  },
  {
   "cell_type": "markdown",
   "metadata": {},
   "source": [
    "### - 인덱스는 [ ] 대괄호를 붙여 표시한다. `변수명[인덱스]`\n",
    "### - 슬라이싱 `변수명[시작 인덱스:종료 인덱스]`"
   ]
  },
  {
   "cell_type": "code",
   "execution_count": 2,
   "metadata": {},
   "outputs": [
    {
     "name": "stdout",
     "output_type": "stream",
     "text": [
      "성별 식별번호: 1\n"
     ]
    }
   ],
   "source": [
    "seongmo = \"990616-1234567\"\n",
    "\n",
    "print(\"성별 식별번호: \" + seongmo[7])"
   ]
  },
  {
   "cell_type": "code",
   "execution_count": 3,
   "metadata": {},
   "outputs": [
    {
     "name": "stdout",
     "output_type": "stream",
     "text": [
      "연: 99\n",
      "월: 06\n",
      "일: 16\n"
     ]
    }
   ],
   "source": [
    "seongmo = \"990616-1234567\"\n",
    "\n",
    "print(\"연: \" + seongmo[0:2])\n",
    "print(\"월: \" + seongmo[2:4])\n",
    "print(\"일: \" + seongmo[4:6])"
   ]
  },
  {
   "cell_type": "code",
   "execution_count": 4,
   "metadata": {},
   "outputs": [
    {
     "name": "stdout",
     "output_type": "stream",
     "text": [
      "생년월일: 990616\n",
      "뒷자리: 1234567\n"
     ]
    }
   ],
   "source": [
    "print(\"생년월일: \" + seongmo[:6])\n",
    "print(\"뒷자리: \" + seongmo[7:])"
   ]
  },
  {
   "cell_type": "code",
   "execution_count": 5,
   "metadata": {},
   "outputs": [
    {
     "name": "stdout",
     "output_type": "stream",
     "text": [
      "주민등록번호 뒷자리(뒤에서부터): 1234567\n"
     ]
    }
   ],
   "source": [
    "print(\"주민등록번호 뒷자리(뒤에서부터): \" + seongmo[-7:])"
   ]
  },
  {
   "cell_type": "code",
   "execution_count": 6,
   "metadata": {},
   "outputs": [
    {
     "name": "stdout",
     "output_type": "stream",
     "text": [
      "apple\n"
     ]
    }
   ],
   "source": [
    "fruit = \"apple\"\n",
    "print(fruit[:])"
   ]
  },
  {
   "cell_type": "markdown",
   "metadata": {},
   "source": [
    "## 4.3 함수로 문자열 처리하기"
   ]
  },
  {
   "cell_type": "code",
   "execution_count": 11,
   "metadata": {},
   "outputs": [
    {
     "name": "stdout",
     "output_type": "stream",
     "text": [
      "python is amazing\n",
      "PYTHON IS AMAZING\n",
      "True\n",
      "True\n",
      "Java is Amazing\n"
     ]
    }
   ],
   "source": [
    "python = \"Python is Amazing\"\n",
    "\n",
    "print(python.lower())\n",
    "print(python.upper())\n",
    "print(python[0].isupper())\n",
    "print(python[1:3].islower())\n",
    "print(python.replace(\"Python\", \"Java\"))"
   ]
  },
  {
   "cell_type": "code",
   "execution_count": 10,
   "metadata": {},
   "outputs": [
    {
     "name": "stdout",
     "output_type": "stream",
     "text": [
      "5\n",
      "15\n",
      "-1\n"
     ]
    }
   ],
   "source": [
    "python = \"Python is Amazing\"\n",
    "\n",
    "find = python.find(\"n\")\n",
    "print(find)\n",
    "\n",
    "find = python.find(\"n\", find + 1)\n",
    "print(find)\n",
    "\n",
    "find = python.find(\"Java\")\n",
    "print(find)"
   ]
  },
  {
   "cell_type": "code",
   "execution_count": 13,
   "metadata": {},
   "outputs": [
    {
     "name": "stdout",
     "output_type": "stream",
     "text": [
      "5\n",
      "15\n",
      "5\n"
     ]
    }
   ],
   "source": [
    "index = python.index(\"n\")\n",
    "print(index)\n",
    "\n",
    "index = python.index(\"n\", index + 1)\n",
    "print(index)\n",
    "\n",
    "index = python.index(\"n\", 2, 6)\n",
    "print(index)\n",
    "\n",
    "# index = python.index(\"Java\")\n",
    "# print(index)"
   ]
  },
  {
   "cell_type": "code",
   "execution_count": 14,
   "metadata": {},
   "outputs": [
    {
     "name": "stdout",
     "output_type": "stream",
     "text": [
      "2\n",
      "0\n"
     ]
    }
   ],
   "source": [
    "python = \"Python is Amazing\"\n",
    "\n",
    "print(python.count(\"n\"))\n",
    "print(python.count(\"v\"))"
   ]
  },
  {
   "cell_type": "code",
   "execution_count": 16,
   "metadata": {},
   "outputs": [
    {
     "name": "stdout",
     "output_type": "stream",
     "text": [
      "17\n"
     ]
    }
   ],
   "source": [
    "print(len(python))"
   ]
  },
  {
   "cell_type": "code",
   "execution_count": 18,
   "metadata": {},
   "outputs": [
    {
     "name": "stdout",
     "output_type": "stream",
     "text": [
      "10\n"
     ]
    }
   ],
   "source": [
    "ticket = \"제주도 여행 항공권\"\n",
    "\n",
    "print(len(ticket))\n",
    "\n",
    "# print(ticket.len())\n",
    "\n",
    "# print(sizeof(ticket))\n",
    "\n",
    "# print(count(ticket))"
   ]
  },
  {
   "cell_type": "markdown",
   "metadata": {},
   "source": [
    "## 4.4 문자열 포매팅\n",
    "### 원하는 위치에 특정한 값(또는 변수)을 넣어서 하나의 문자열로 표현하는 방법"
   ]
  },
  {
   "cell_type": "code",
   "execution_count": 12,
   "metadata": {},
   "outputs": [
    {
     "name": "stdout",
     "output_type": "stream",
     "text": [
      "abab\n",
      "ab ab\n"
     ]
    }
   ],
   "source": [
    "print(\"ab\"+\"ab\")\n",
    "\n",
    "print(\"ab\", \"ab\")"
   ]
  },
  {
   "cell_type": "markdown",
   "metadata": {},
   "source": [
    "### 4.4.1 서식 지정자 사용하기\n",
    "\n",
    "- **%d** 정수(decimal)\n",
    "- **%f** 실수(floating-point)\n",
    "- **%c** 문자(character)\n",
    "- **%s** 문자열(string)  > 정수, 문자, 문자열 등과 상관없이 모든 값 가능\n",
    "\n",
    "```python \n",
    "print(\"문자열 서식지정자 문자열\" % 값)`"
   ]
  },
  {
   "cell_type": "code",
   "execution_count": 17,
   "metadata": {},
   "outputs": [
    {
     "name": "stdout",
     "output_type": "stream",
     "text": [
      "나는 20살입니다.\n",
      "나는 파이썬을 좋아합니다.\n",
      "Apple은 A로 시작합니다.\n",
      "나는 20살 입니다.\n"
     ]
    }
   ],
   "source": [
    "print(\"나는 %d살입니다.\" % 20)\n",
    "print(\"나는 %s을 좋아합니다.\" % \"파이썬\")\n",
    "print(\"Apple은 %c로 시작합니다.\" % \"A\")\n",
    "print(\"나는 %s살 입니다.\" %20)"
   ]
  },
  {
   "cell_type": "code",
   "execution_count": 18,
   "metadata": {},
   "outputs": [
    {
     "name": "stdout",
     "output_type": "stream",
     "text": [
      "나는 파란색과 빨간색을 좋아합니다.\n"
     ]
    }
   ],
   "source": [
    "# 여러 값 출력\n",
    "print(\"나는 %s색과 %s색을 좋아합니다.\" % (\"파란\", \"빨간\"))"
   ]
  },
  {
   "cell_type": "markdown",
   "metadata": {},
   "source": [
    "## 4.4.2 format() 함수 사용하기\n",
    "```python\n",
    "print(\"문자열{인덱스}문자열{인덱스}...\".format(값1, 값2, ...))\n",
    "print(\"문자열{이름1}문자열{이름2}...\".format(이름1=값, 이름2=값))"
   ]
  },
  {
   "cell_type": "code",
   "execution_count": 23,
   "metadata": {},
   "outputs": [
    {
     "name": "stdout",
     "output_type": "stream",
     "text": [
      "나는 20살입니다.\n",
      "I like Python and Java\n",
      "나는 파란색과 빨간색을 좋아합니다.\n",
      "나는 빨간색과 파란색을 좋아합니다.\n"
     ]
    }
   ],
   "source": [
    "print(\"나는 {}살입니다.\".format(20))\n",
    "print(\"I like {} and {}\".format(\"Python\", \"Java\"))\n",
    "print(\"나는 {0}색과 {1}색을 좋아합니다.\".format(\"파란\", \"빨간\"))\n",
    "print(\"나는 {1}색과 {0}색을 좋아합니다.\".format(\"파란\", \"빨간\"))\n"
   ]
  },
  {
   "cell_type": "code",
   "execution_count": 26,
   "metadata": {},
   "outputs": [
    {
     "name": "stdout",
     "output_type": "stream",
     "text": [
      "나는 20살이며, 파란색을 좋아합니다.\n",
      "나는 20살이며, 빨간색을 좋아합니다.\n"
     ]
    }
   ],
   "source": [
    "print(\"나는 {age}살이며, {color}색을 좋아합니다.\".format(age=20, color=\"파란\"))\n",
    "print(\"나는 {age}살이며, {color}색을 좋아합니다.\".format(color=\"빨간\", age=20))"
   ]
  },
  {
   "cell_type": "markdown",
   "metadata": {},
   "source": [
    "## 4.4.2 f-문자열 사용하기\n",
    "### 문자열 앞에 f를 추가하면 문자열이 나오기 전에 정의한 변수 값을 문자열에서 사용 가능\n",
    "\n",
    "```python\n",
    "print(f\"문자열{변수명} 문자열 {변수명2}...\") "
   ]
  },
  {
   "cell_type": "code",
   "execution_count": 27,
   "metadata": {},
   "outputs": [
    {
     "name": "stdout",
     "output_type": "stream",
     "text": [
      "나는 20살이며, 파란색을 좋아합니다.\n"
     ]
    }
   ],
   "source": [
    "age = 20\n",
    "color = \"파란\"\n",
    "print(f\"나는 {age}살이며, {color}색을 좋아합니다.\")"
   ]
  },
  {
   "cell_type": "markdown",
   "metadata": {},
   "source": [
    "## 4.5 탈출 문자\n",
    "### 탈출문자는 \\와 특정 문자를 함꼐 사용해 문장 안에서 원하는 동작을 수행하는 방법"
   ]
  },
  {
   "cell_type": "markdown",
   "metadata": {},
   "source": [
    "### 4.5.1 \\n\n",
    "\n",
    "- 문자열 안에서 줄바꿈"
   ]
  },
  {
   "cell_type": "code",
   "execution_count": 30,
   "metadata": {},
   "outputs": [
    {
     "name": "stdout",
     "output_type": "stream",
     "text": [
      "백문이 불여일견\n",
      "백견이 불여일타\n"
     ]
    }
   ],
   "source": [
    "print(\"백문이 불여일견\\n백견이 불여일타\")"
   ]
  },
  {
   "cell_type": "markdown",
   "metadata": {},
   "source": [
    "### 4.5.2 \\\\\"와 \\\\'\n",
    "- 문자열 안에서 따옴표 사용"
   ]
  },
  {
   "cell_type": "code",
   "execution_count": 1,
   "metadata": {},
   "outputs": [
    {
     "name": "stdout",
     "output_type": "stream",
     "text": [
      "저는 \"연성모\"입니다.\n"
     ]
    }
   ],
   "source": [
    "print(\"저는 \\\"연성모\\\"입니다.\")"
   ]
  },
  {
   "cell_type": "markdown",
   "metadata": {},
   "source": [
    "### 4.5.3 \\\\\\\n",
    "- 유효하지 않은 탈출문자 (디렉토리를 print 하는 경우 등)\n",
    "\n",
    "**방법1. \\\\\\ > 원하는대로 출력**\n",
    "\n",
    "**방법2. 문자열 앞에 r을 붙이는 방법**"
   ]
  },
  {
   "cell_type": "code",
   "execution_count": 2,
   "metadata": {},
   "outputs": [
    {
     "name": "stdout",
     "output_type": "stream",
     "text": [
      "C:\\Users\\Nadocoding\\Desktop\\PythonWorkspace\n"
     ]
    }
   ],
   "source": [
    "print(\"C:\\\\Users\\\\Nadocoding\\\\Desktop\\\\PythonWorkspace\")"
   ]
  },
  {
   "cell_type": "code",
   "execution_count": 3,
   "metadata": {},
   "outputs": [
    {
     "name": "stdout",
     "output_type": "stream",
     "text": [
      "C:\\Users\\Nadocoding\\Desktop\\PythonWorkspace\n"
     ]
    }
   ],
   "source": [
    "print(r\"C:\\Users\\Nadocoding\\Desktop\\PythonWorkspace\")"
   ]
  },
  {
   "cell_type": "markdown",
   "metadata": {},
   "source": [
    "### 4.5.4 \\\\r\n",
    "- 커서를 맨 앞으로 이동"
   ]
  },
  {
   "cell_type": "code",
   "execution_count": 4,
   "metadata": {},
   "outputs": [
    {
     "name": "stdout",
     "output_type": "stream",
     "text": [
      "PineApple\n"
     ]
    }
   ],
   "source": [
    "print(\"Red Apple\\rPine\")"
   ]
  },
  {
   "cell_type": "markdown",
   "metadata": {},
   "source": [
    "### 4.5.5 \\\\b\n",
    "- 앞 글자 하나를 삭제"
   ]
  },
  {
   "cell_type": "code",
   "execution_count": 5,
   "metadata": {},
   "outputs": [
    {
     "name": "stdout",
     "output_type": "stream",
     "text": [
      "RedApple\n"
     ]
    }
   ],
   "source": [
    "print(\"Redd\\bApple\")"
   ]
  },
  {
   "cell_type": "markdown",
   "metadata": {},
   "source": [
    "### 4.5.6 \\\\t\n",
    "- 여러 칸 띄움"
   ]
  },
  {
   "cell_type": "code",
   "execution_count": 6,
   "metadata": {},
   "outputs": [
    {
     "name": "stdout",
     "output_type": "stream",
     "text": [
      "Red\tApple\n"
     ]
    }
   ],
   "source": [
    "print(\"Red\\tApple\")"
   ]
  },
  {
   "cell_type": "markdown",
   "metadata": {},
   "source": [
    "## 실습문제"
   ]
  },
  {
   "cell_type": "code",
   "execution_count": 6,
   "metadata": {},
   "outputs": [
    {
     "name": "stdout",
     "output_type": "stream",
     "text": [
      "http://naver.com의 비밀번호는 naver51!입니다.\n"
     ]
    }
   ],
   "source": [
    "naver = \"http://naver.com\"\n",
    "daum = \"http://daum.net\"\n",
    "google = \"http://google.com\"\n",
    "youtube = \"http://youtube.com\"\n",
    "\n",
    "password = (naver[naver.find(\"n\"):naver.find(\".\")] + str(len(naver[naver.find(\"n\"):naver.find(\".\")])) + str(naver.count(\"e\")) + \"!\")\n",
    "\n",
    "print(f\"{naver}의 비밀번호는 {password}입니다.\")"
   ]
  },
  {
   "cell_type": "code",
   "execution_count": 10,
   "metadata": {},
   "outputs": [
    {
     "name": "stdout",
     "output_type": "stream",
     "text": [
      "naver.com의 비밀번호는 naver51!입니다.\n"
     ]
    }
   ],
   "source": [
    "# 해설 버전\n",
    "\n",
    "url = \"http://naver.com\"\n",
    "\n",
    "url_cleaned = url.replace(\"http://\", \"\")\n",
    "\n",
    "dot = url_cleaned.index(\".\")\n",
    "\n",
    "password = (url_cleaned[0:dot] + str(len(url_cleaned[0:dot])) + str(url_cleaned.count(\"e\")) + \"!\")\n",
    "\n",
    "print(f\"{url_cleaned}의 비밀번호는 {password}입니다.\")"
   ]
  },
  {
   "cell_type": "code",
   "execution_count": null,
   "metadata": {},
   "outputs": [
    {
     "name": "stdout",
     "output_type": "stream",
     "text": [
      "The early bird catches the worm.\n",
      "Actions speak louder than words.\n",
      "Practice makes perfect.\n"
     ]
    }
   ],
   "source": [
    "# 셀프체크\n",
    "# 문장이 주어졌을 때, 첫번째 글자는 대문자로, 나머지 글자는 모두 소문자로 변환하는 프로그램.\n",
    "\n",
    "sentence_1 = \"the early bird catches the worm.\"\n",
    "sentence_2 = \"Actions Speak Louder Than Words.\"\n",
    "sentence_3 = \"PRACTICE MAKES PERFECT.\"\n",
    "\n",
    "sentence_1_1 = sentence_1[0].upper() + sentence_1[1:].lower()\n",
    "sentence_2_1 = sentence_2[0].upper() + sentence_2[1:].lower()\n",
    "sentence_3_1 = sentence_3[0].upper() + sentence_3[1:].lower()\n",
    "\n",
    "print(sentence_1_1)\n",
    "print(sentence_2_1)\n",
    "print(sentence_3_1)\n",
    "\n"
   ]
  },
  {
   "cell_type": "code",
   "execution_count": 14,
   "metadata": {},
   "outputs": [
    {
     "name": "stdout",
     "output_type": "stream",
     "text": [
      "The early bird catches the worm.\n",
      "Actions speak louder than words.\n",
      "Practice makes perfect.\n"
     ]
    }
   ],
   "source": [
    "# 함수 방식\n",
    "\n",
    "def format_sentence(sentence):\n",
    "    return sentence[0].upper() + sentence[1:].lower()\n",
    "\n",
    "sentence_1 = \"the early bird catches the worm.\"\n",
    "sentence_2 = \"Actions Speak Louder Than Words.\"\n",
    "sentence_3 = \"PRACTICE MAKES PERFECT.\"\n",
    "\n",
    "print(format_sentence(sentence_1))\n",
    "print(format_sentence(sentence_2))\n",
    "print(format_sentence(sentence_3))"
   ]
  }
 ],
 "metadata": {
  "kernelspec": {
   "display_name": "Python 3",
   "language": "python",
   "name": "python3"
  },
  "language_info": {
   "codemirror_mode": {
    "name": "ipython",
    "version": 3
   },
   "file_extension": ".py",
   "mimetype": "text/x-python",
   "name": "python",
   "nbconvert_exporter": "python",
   "pygments_lexer": "ipython3",
   "version": "3.10.13"
  }
 },
 "nbformat": 4,
 "nbformat_minor": 2
}
