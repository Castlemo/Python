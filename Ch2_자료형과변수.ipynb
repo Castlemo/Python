{
 "cells": [
  {
   "cell_type": "markdown",
   "metadata": {},
   "source": [
    "# **2장 자료형과 변수**"
   ]
  },
  {
   "cell_type": "markdown",
   "metadata": {},
   "source": [
    "## **2.1 숫자 자료형**"
   ]
  },
  {
   "cell_type": "code",
   "execution_count": 36,
   "metadata": {},
   "outputs": [
    {
     "name": "stdout",
     "output_type": "stream",
     "text": [
      "5\n"
     ]
    }
   ],
   "source": [
    "print(5)"
   ]
  },
  {
   "cell_type": "code",
   "execution_count": 37,
   "metadata": {},
   "outputs": [
    {
     "name": "stdout",
     "output_type": "stream",
     "text": [
      "-10\n",
      "3.14\n",
      "1000\n"
     ]
    }
   ],
   "source": [
    "print(-10)\n",
    "print(3.14)\n",
    "print(1000)"
   ]
  },
  {
   "cell_type": "code",
   "execution_count": 38,
   "metadata": {},
   "outputs": [
    {
     "name": "stdout",
     "output_type": "stream",
     "text": [
      "8\n",
      "16\n",
      "12\n",
      "3.0\n"
     ]
    }
   ],
   "source": [
    "print(5+3)\n",
    "print(2*8)\n",
    "print(3*(3+1))\n",
    "print(6/2)"
   ]
  },
  {
   "cell_type": "markdown",
   "metadata": {},
   "source": [
    "## **2.2 문자열 자료형**"
   ]
  },
  {
   "cell_type": "code",
   "execution_count": 39,
   "metadata": {},
   "outputs": [
    {
     "name": "stdout",
     "output_type": "stream",
     "text": [
      "풍선\n",
      "나비\n",
      "abcdefg\n",
      "10\n",
      "파이썬파이썬파이썬\n"
     ]
    }
   ],
   "source": [
    "print(\"풍선\")\n",
    "print('나비')\n",
    "print(\"abcdefg\")\n",
    "print(\"10\")\n",
    "print(\"파이썬\" * 3)"
   ]
  },
  {
   "cell_type": "code",
   "execution_count": 40,
   "metadata": {},
   "outputs": [],
   "source": [
    "# print('작은 따옴표\")\n",
    "# print(\"큰 따옴표')\n",
    "\n",
    "# 이렇게 하면 syntax 오류 발생\n",
    "# 같은 따옴표 사용"
   ]
  },
  {
   "cell_type": "markdown",
   "metadata": {},
   "source": [
    "## **2.3 불(Boolean) 자료형**"
   ]
  },
  {
   "cell_type": "code",
   "execution_count": 41,
   "metadata": {},
   "outputs": [
    {
     "name": "stdout",
     "output_type": "stream",
     "text": [
      "False\n",
      "True\n"
     ]
    }
   ],
   "source": [
    "print(5 > 10)\n",
    "print(5 < 10)"
   ]
  },
  {
   "cell_type": "code",
   "execution_count": 42,
   "metadata": {},
   "outputs": [
    {
     "name": "stdout",
     "output_type": "stream",
     "text": [
      "True\n",
      "False\n"
     ]
    }
   ],
   "source": [
    "print(True)\n",
    "print(False)"
   ]
  },
  {
   "cell_type": "code",
   "execution_count": 43,
   "metadata": {},
   "outputs": [
    {
     "name": "stdout",
     "output_type": "stream",
     "text": [
      "False\n",
      "True\n"
     ]
    }
   ],
   "source": [
    "print(not True)\n",
    "print(not False)"
   ]
  },
  {
   "cell_type": "code",
   "execution_count": 44,
   "metadata": {},
   "outputs": [
    {
     "name": "stdout",
     "output_type": "stream",
     "text": [
      "True\n"
     ]
    }
   ],
   "source": [
    "print(not (5 > 10))"
   ]
  },
  {
   "cell_type": "markdown",
   "metadata": {},
   "source": [
    "## **2.4 변수**\n",
    "### **2.4.1 변수 정의하기**"
   ]
  },
  {
   "cell_type": "code",
   "execution_count": 45,
   "metadata": {},
   "outputs": [
    {
     "name": "stdout",
     "output_type": "stream",
     "text": [
      "Q. 반려동물을 소개해 주세요.\n",
      "A. 우리 집 반려동물은 개인데, 이름이 연탄이에요.\n",
      "연탄이는 4살이고, 산책을 아주 좋아해요.\n",
      "\n",
      "\n",
      "Q. 연탄이는 수컷인가요?\n",
      "A. 네, 연탄이는 수컷이에요.\n"
     ]
    }
   ],
   "source": [
    "print(\"Q. 반려동물을 소개해 주세요.\")\n",
    "print(\"A. 우리 집 반려동물은 개인데, 이름이 연탄이에요.\")\n",
    "print(\"연탄이는 4살이고, 산책을 아주 좋아해요.\")\n",
    "print(\"\\n\")\n",
    "print(\"Q. 연탄이는 수컷인가요?\")\n",
    "print(\"A. 네, 연탄이는 수컷이에요.\")"
   ]
  },
  {
   "cell_type": "markdown",
   "metadata": {},
   "source": [
    "### **2.4.2 변수 사용하기**"
   ]
  },
  {
   "cell_type": "code",
   "execution_count": 46,
   "metadata": {},
   "outputs": [],
   "source": [
    "name = \"연탄이\"\n",
    "\n",
    "animal = \"강아지\"\n",
    "\n",
    "age = 4\n",
    "\n",
    "hobby = \"산책\"\n",
    "\n",
    "is_male = True"
   ]
  },
  {
   "cell_type": "code",
   "execution_count": 47,
   "metadata": {},
   "outputs": [
    {
     "name": "stdout",
     "output_type": "stream",
     "text": [
      "Q. 반려동물을 소개해 주세요.\n",
      "A. 우리 집 반려동물은 강아지인데, 이름이 연탄이에요.\n",
      "연탄이는 4살이고, 산책을 아주 좋아해요.\n"
     ]
    }
   ],
   "source": [
    "print(\"Q. 반려동물을 소개해 주세요.\")\n",
    "print(\"A. 우리 집 반려동물은 \" + animal + \"인데, 이름이 \" + name + \"에요.\")\n",
    "print(name + \"는 \" + str(age) + \"살이고, \" + hobby + \"을 아주 좋아해요.\")"
   ]
  },
  {
   "cell_type": "code",
   "execution_count": 48,
   "metadata": {},
   "outputs": [],
   "source": [
    "name = \"해피\"\n",
    "\n",
    "animal = \"고양이\"\n",
    "\n",
    "age = 4\n",
    "\n",
    "hobby = \"낮잠\"\n",
    "\n",
    "is_male = True"
   ]
  },
  {
   "cell_type": "code",
   "execution_count": 49,
   "metadata": {},
   "outputs": [
    {
     "name": "stdout",
     "output_type": "stream",
     "text": [
      "Q. 반려동물을 소개해 주세요.\n",
      "A. 우리 집 반려동물은 고양이인데, 이름이 해피에요.\n",
      "해피는 4살이고, 낮잠을 아주 좋아해요.\n"
     ]
    }
   ],
   "source": [
    "print(\"Q. 반려동물을 소개해 주세요.\")\n",
    "print(\"A. 우리 집 반려동물은 \" + animal + \"인데, 이름이 \" + name + \"에요.\")\n",
    "print(name + \"는 \" + str(age) + \"살이고, \" + hobby + \"을 아주 좋아해요.\")"
   ]
  },
  {
   "cell_type": "markdown",
   "metadata": {},
   "source": [
    "### **2.4.3 형변환하기**"
   ]
  },
  {
   "cell_type": "code",
   "execution_count": 50,
   "metadata": {},
   "outputs": [
    {
     "name": "stdout",
     "output_type": "stream",
     "text": [
      "3\n"
     ]
    }
   ],
   "source": [
    "print(int(\"3\"))"
   ]
  },
  {
   "cell_type": "code",
   "execution_count": 51,
   "metadata": {},
   "outputs": [],
   "source": [
    "# print(int(\"3\") + \"입니다.\")\n",
    "\n",
    "# 정수형과 문자형을 + 연산자로 연결 불가능"
   ]
  },
  {
   "cell_type": "code",
   "execution_count": 52,
   "metadata": {},
   "outputs": [
    {
     "name": "stdout",
     "output_type": "stream",
     "text": [
      "3\n"
     ]
    }
   ],
   "source": [
    "print(int(3.5))"
   ]
  },
  {
   "cell_type": "code",
   "execution_count": 57,
   "metadata": {},
   "outputs": [],
   "source": [
    "# int() 또는 float()는 숫자로 된 문자열에만 사용 가능\n",
    "# print(int(\"삼\"))\n",
    "# print(float(\"오\"))"
   ]
  },
  {
   "cell_type": "code",
   "execution_count": 54,
   "metadata": {},
   "outputs": [
    {
     "name": "stdout",
     "output_type": "stream",
     "text": [
      "3.5\n",
      "3.0\n"
     ]
    }
   ],
   "source": [
    "print(float(\"3.5\"))\n",
    "print(float(3))"
   ]
  },
  {
   "cell_type": "code",
   "execution_count": null,
   "metadata": {},
   "outputs": [
    {
     "name": "stdout",
     "output_type": "stream",
     "text": [
      "3입니다.\n",
      "3.5입니다.\n"
     ]
    }
   ],
   "source": [
    "print(str(3) + \"입니다.\")\n",
    "print(str(3.5) + \"입니다.\")"
   ]
  },
  {
   "cell_type": "markdown",
   "metadata": {},
   "source": [
    "### **2.4.4 변수를 사용할 때 주의할 점**\n",
    "\n",
    "- 변수는 사용하기 전에 저장한다.\n",
    "- 변수는 사용하기 전에 마지막으로 저장한 값을 사용한다"
   ]
  },
  {
   "cell_type": "code",
   "execution_count": null,
   "metadata": {},
   "outputs": [],
   "source": [
    "animal = \"강아지\"\n",
    "\n",
    "age = 4\n",
    "\n",
    "hobby = \"산책\"\n",
    "\n",
    "print(\"Q. 반려동물을 소개해 주세요.\")\n",
    "print(\"A. 우리 집 반려동물은 \" + animal + \"인데, 이름이 \" + name + \"에요.\")\n",
    "\n",
    "name = \"연탄이\"\n",
    "\n",
    "print(name + \"는 \" + str(age) + \"살이고, \" + hobby + \"을 아주 좋아해요.\")"
   ]
  },
  {
   "cell_type": "code",
   "execution_count": null,
   "metadata": {},
   "outputs": [],
   "source": [
    "name = \"연탄이\"\n",
    "\n",
    "animal = \"강아지\"\n",
    "\n",
    "age = 4\n",
    "\n",
    "hobby = \"산책\"\n",
    "\n",
    "print(\"Q. 반려동물을 소개해 주세요.\")\n",
    "print(\"A. 우리 집 반려동물은 \" + animal + \"인데, 이름이 \" + name + \"에요.\")\n",
    "\n",
    "hobby = \"수영\"\n",
    "\n",
    "print(name + \"는 \" + str(age) + \"살이고, \" + hobby + \"을 아주 좋아해요.\")"
   ]
  },
  {
   "cell_type": "markdown",
   "metadata": {},
   "source": [
    "## **2.5 주석**"
   ]
  },
  {
   "cell_type": "markdown",
   "metadata": {},
   "source": [
    "**command + /** :  한 번에 주석처리 가능"
   ]
  },
  {
   "cell_type": "code",
   "execution_count": null,
   "metadata": {},
   "outputs": [],
   "source": [
    "# print(\"파이썬\")"
   ]
  },
  {
   "cell_type": "code",
   "execution_count": null,
   "metadata": {},
   "outputs": [
    {
     "name": "stdout",
     "output_type": "stream",
     "text": [
      "파이썬\n"
     ]
    }
   ],
   "source": [
    "print(\"파이썬\")\n",
    "\n",
    "# print(\"나도코딩\")"
   ]
  },
  {
   "cell_type": "code",
   "execution_count": null,
   "metadata": {},
   "outputs": [],
   "source": [
    "\"\"\"\n",
    "print(\"나도코딩\")\n",
    "print(\"파이썬\")\n",
    "print(\"코딩 자율학습\")\n",
    "print(\"프로그래밍\")\n",
    "\"\"\"\n",
    "\n",
    "# print(\"나도코딩\")\n",
    "# print(\"파이썬\")\n",
    "# print(\"코딩 자율학습\")\n",
    "# print(\"프로그래밍\") "
   ]
  },
  {
   "cell_type": "markdown",
   "metadata": {},
   "source": [
    "## **2.6 실습 문제 : 역 이름 출력하기**"
   ]
  },
  {
   "cell_type": "code",
   "execution_count": null,
   "metadata": {},
   "outputs": [
    {
     "name": "stdout",
     "output_type": "stream",
     "text": [
      "사당행 열차가 들어오고 있습니다.\n",
      "신도림행 열차가 들어오고 있습니다.\n",
      "인천공항행 열차가 들어오고 있습니다.\n"
     ]
    }
   ],
   "source": [
    "station = \"사당\"\n",
    "\n",
    "print(station + \"행 열차가 들어오고 있습니다.\")\n",
    "\n",
    "station = \"신도림\"\n",
    "\n",
    "print(station + \"행 열차가 들어오고 있습니다.\")\n",
    "\n",
    "station = \"인천공항\"\n",
    "\n",
    "print(station + \"행 열차가 들어오고 있습니다.\")"
   ]
  },
  {
   "cell_type": "code",
   "execution_count": 59,
   "metadata": {},
   "outputs": [
    {
     "name": "stdout",
     "output_type": "stream",
     "text": [
      "주문 상태:상품 준비\n",
      "주문 상태:배송 중\n",
      "주문 상태:배송 완료\n"
     ]
    }
   ],
   "source": [
    "# 셀프체크\n",
    "\n",
    "status = \"상품 준비\"\n",
    "\n",
    "print(\"주문 상태:\" + status)\n",
    "\n",
    "status = \"배송 중\"\n",
    "\n",
    "print(\"주문 상태:\" + status)\n",
    "\n",
    "status = \"배송 완료\"\n",
    "\n",
    "print(\"주문 상태:\" + status)\n"
   ]
  }
 ],
 "metadata": {
  "kernelspec": {
   "display_name": "Python 3",
   "language": "python",
   "name": "python3"
  },
  "language_info": {
   "codemirror_mode": {
    "name": "ipython",
    "version": 3
   },
   "file_extension": ".py",
   "mimetype": "text/x-python",
   "name": "python",
   "nbconvert_exporter": "python",
   "pygments_lexer": "ipython3",
   "version": "3.10.13"
  }
 },
 "nbformat": 4,
 "nbformat_minor": 2
}
