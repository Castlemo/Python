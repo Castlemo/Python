{
 "cells": [
  {
   "cell_type": "markdown",
   "id": "8f01e225",
   "metadata": {},
   "source": [
    "# **9. 클래스**"
   ]
  },
  {
   "cell_type": "markdown",
   "id": "c0964549",
   "metadata": {},
   "source": [
    "## **9.1 게임 소개**"
   ]
  },
  {
   "cell_type": "code",
   "execution_count": 1,
   "id": "bb167a61",
   "metadata": {},
   "outputs": [
    {
     "name": "stdout",
     "output_type": "stream",
     "text": [
      "보병 유닛을 생성했습니다.\n",
      "체력 40, 공격력 5\n",
      "\n",
      "탱크 유닛을 생성했습니다.\n",
      "체력 150, 공격력 35\n",
      "\n",
      "탱크 유닛을 생성했습니다.\n",
      "체력 150, 공격력 35\n",
      "\n"
     ]
    }
   ],
   "source": [
    "# 보병: 공격 유닛, 군인, 총을 쏠 수 있음\n",
    "name = \"보병\"\n",
    "hp = 40\n",
    "damage = 5\n",
    "\n",
    "print(\"{} 유닛을 생성했습니다.\".format(name))\n",
    "print(\"체력 {0}, 공격력 {1}\\n\".format(hp, damage))\n",
    "\n",
    "# 탱크: 공격 유닛, 포를 쏠 수 잇음, 두 가지 모드 (일반 / 시지 모드)\n",
    "tank_name = \"탱크\"\n",
    "tank_hp = 150\n",
    "tank_damage = 35\n",
    "\n",
    "print(\"{} 유닛을 생성했습니다.\".format(tank_name))\n",
    "print(\"체력 {0}, 공격력 {1}\\n\".format(tank_hp, tank_damage))\n",
    "\n",
    "# 새로운 탱크2 추가\n",
    "tank2_name = \"탱크\"\n",
    "tank2_hp = 150\n",
    "tank2_damage = 35\n",
    "\n",
    "print(\"{} 유닛을 생성했습니다.\".format(tank2_name))\n",
    "print(\"체력 {0}, 공격력 {1}\\n\".format(tank2_hp, tank2_damage))"
   ]
  },
  {
   "cell_type": "code",
   "execution_count": 2,
   "id": "c5446079",
   "metadata": {},
   "outputs": [
    {
     "name": "stdout",
     "output_type": "stream",
     "text": [
      "보병 : 1시 방향 적군을 공격합니다. [공격력 5]\n",
      "탱크 : 1시 방향 적군을 공격합니다. [공격력 35]\n",
      "탱크 : 1시 방향 적군을 공격합니다. [공격력 35]\n"
     ]
    }
   ],
   "source": [
    "# 공격 함수\n",
    "def attack(name, location, damage):\n",
    "    print(\"{0} : {1} 방향 적군을 공격합니다. [공격력 {2}]\".format(name, location, damage))\n",
    "\n",
    "\n",
    "attack(name, \"1시\", damage) # 보병 공격 명령\n",
    "attack(tank_name, \"1시\", tank_damage) # 탱크 공격 명령\n",
    "attack(tank2_name, \"1시\", tank2_damage) # 탱크2 공격 명령"
   ]
  },
  {
   "cell_type": "markdown",
   "id": "2c2b3ca8",
   "metadata": {},
   "source": [
    "### ➡️ 수십가지의 유닛들이 있을 경우 일일이 추가 어려움"
   ]
  },
  {
   "cell_type": "markdown",
   "id": "705accc3",
   "metadata": {},
   "source": [
    "## **9.2 클래스와 객체 생성하기**\n",
    "```python\n",
    "class 클래스명:\n",
    "    def 메서드명(self, 전달값1, 전달값2, ...):\n",
    "        실행할 명령1\n",
    "        실행할 명령2\n",
    "        ...\n",
    "\n",
    "    def 메서드명2(self, 전달값1, 전달값2, ...):\n",
    "        실행할 명령1\n",
    "        실행할 명령2\n",
    "        ..."
   ]
  },
  {
   "cell_type": "markdown",
   "id": "29d0c3ec",
   "metadata": {},
   "source": [
    "### **인스턴스 변수 정의** - 메서드 안에서 정의한 변수\n",
    "```python\n",
    "self.변수명 = 값"
   ]
  },
  {
   "cell_type": "markdown",
   "id": "ad29084b",
   "metadata": {},
   "source": [
    "### **객체(인스턴스) 생성**\n",
    "```python\n",
    "객체명 = 클래스명(전달값1, 전달값2, ...) # self를 제외한 나머지 전달값"
   ]
  },
  {
   "cell_type": "code",
   "execution_count": 3,
   "id": "8b54c836",
   "metadata": {},
   "outputs": [
    {
     "name": "stdout",
     "output_type": "stream",
     "text": [
      "보병 유닛을 생성합니다.\n",
      "체력 40, 공격력 5\n",
      "\n",
      "보병 유닛을 생성합니다.\n",
      "체력 40, 공격력 5\n",
      "\n",
      "탱크 유닛을 생성합니다.\n",
      "체력 150, 공격력 35\n",
      "\n"
     ]
    }
   ],
   "source": [
    "class Unit:\n",
    "    def __init__(self, name, hp, damage):\n",
    "        self.name = name        # 인스턴스 변수 name에 전달값 name 전달\n",
    "        self.hp = hp            # 인스턴스 변수 hp에 전달값 hp 전달\n",
    "        self.damage = damage    # 인스턴스 변수 damage에 전달값 damage 전달\n",
    "        print(\"{0} 유닛을 생성합니다.\".format(self.name))\n",
    "        print(\"체력 {0}, 공격력 {1}\\n\".format(self.hp, self.damage))\n",
    "\n",
    "\n",
    "soldier1 = Unit(\"보병\", 40, 5) # 객체 생성\n",
    "soldier2 = Unit(\"보병\", 40, 5) # 객체 생성\n",
    "tank = Unit(\"탱크\", 150, 35)   # 객체 생성"
   ]
  },
  {
   "cell_type": "markdown",
   "id": "19c245a5",
   "metadata": {},
   "source": [
    "### **9.2.1 생성자: __init__( )**"
   ]
  },
  {
   "cell_type": "code",
   "execution_count": 4,
   "id": "b15f83d2",
   "metadata": {},
   "outputs": [
    {
     "name": "stdout",
     "output_type": "stream",
     "text": [
      "보병 유닛을 생성합니다.\n",
      "체력 40, 공격력 5\n",
      "\n",
      "보병 유닛을 생성합니다.\n",
      "체력 40, 공격력 5\n",
      "\n",
      "탱크 유닛을 생성합니다.\n",
      "체력 150, 공격력 35\n",
      "\n"
     ]
    }
   ],
   "source": [
    "class Unit:\n",
    "    def __init__(self, name, hp, damage): # 생성자, self 외 전달값 3개\n",
    "        self.name = name        \n",
    "        self.hp = hp  \n",
    "        self.damage = damage\n",
    "        print(\"{0} 유닛을 생성합니다.\".format(self.name))\n",
    "        print(\"체력 {0}, 공격력 {1}\\n\".format(self.hp, self.damage))\n",
    "\n",
    "\n",
    "soldier1 = Unit(\"보병\", 40, 5) # 객체 생성\n",
    "soldier2 = Unit(\"보병\", 40, 5) # 객체 생성\n",
    "tank = Unit(\"탱크\", 150, 35)   # 객체 생성"
   ]
  },
  {
   "cell_type": "code",
   "execution_count": 5,
   "id": "21106ef2",
   "metadata": {},
   "outputs": [],
   "source": [
    "# soldier3 = Unit(\"보병\") # 전달값 3개 중 1개만 넘김\n",
    "\n",
    "# TypeError: Unit.__init__() missing 2 required positional arguments: 'hp' and 'damage'"
   ]
  },
  {
   "cell_type": "code",
   "execution_count": 6,
   "id": "21aea7ca",
   "metadata": {},
   "outputs": [],
   "source": [
    "# soldier3 = Unit(\"보병\", 40) # 전달값 3개 중 2개만 넘김\n",
    "\n",
    "# TypeError: Unit.__init__() missing 1 required positional arguments: 'damage'"
   ]
  },
  {
   "cell_type": "markdown",
   "id": "d48bf84c",
   "metadata": {},
   "source": [
    "### **9.2.2 인스턴스 변수**\n",
    "인스턴스 변수는 클래스의 **메서드에서 정의**하거나 객체를 통해 **직접 정의**할 수 있음."
   ]
  },
  {
   "cell_type": "code",
   "execution_count": 7,
   "id": "59b98a69",
   "metadata": {},
   "outputs": [
    {
     "name": "stdout",
     "output_type": "stream",
     "text": [
      "전투기 유닛을 생성합니다.\n",
      "체력 80, 공격력 5\n",
      "\n",
      "유닛 이름: 전투기, 공격력 : 5\n"
     ]
    }
   ],
   "source": [
    "# 전투기: 공중 유닛, 은폐 불가\n",
    "stealth1 = Unit(\"전투기\", 80, 5)\n",
    "\n",
    "# 인스턴스 변수 접근 (객체명.인스턴스변수)\n",
    "print(\"유닛 이름: {0}, 공격력 : {1}\".format(stealth1.name, stealth1.damage))"
   ]
  },
  {
   "cell_type": "code",
   "execution_count": 8,
   "id": "7c0bea07",
   "metadata": {},
   "outputs": [
    {
     "name": "stdout",
     "output_type": "stream",
     "text": [
      "업그레이드한 전투기 유닛을 생성합니다.\n",
      "체력 80, 공격력 5\n",
      "\n"
     ]
    }
   ],
   "source": [
    "stealth2 = Unit(\"업그레이드한 전투기\", 80, 5)\n",
    "\n",
    "# 업그레이드한 전투기만을 위한 특별한 인스턴스 변수 정의, 은폐 상태\n",
    "stealth2.cloaking = True"
   ]
  },
  {
   "cell_type": "code",
   "execution_count": 9,
   "id": "776ef914",
   "metadata": {},
   "outputs": [
    {
     "name": "stdout",
     "output_type": "stream",
     "text": [
      "업그레이드한 전투기는 현재 은폐 상태입니다.\n"
     ]
    }
   ],
   "source": [
    "if stealth2.cloaking == True:\n",
    "    print(\"{0}는 현재 은폐 상태입니다.\".format(stealth2.name))"
   ]
  },
  {
   "cell_type": "code",
   "execution_count": 10,
   "id": "89f0eebd",
   "metadata": {},
   "outputs": [],
   "source": [
    "# if stealth1.cloaking == True: # 다른 전투기의 은폐 여부\n",
    "#    print(\"{0}는 현재 은폐 상태입니다.\".format(stealth1.name))"
   ]
  },
  {
   "cell_type": "markdown",
   "id": "6f022ced",
   "metadata": {},
   "source": [
    "cloacking 변수는 오직 stealth2 에만 해당하는 인스턴스 변수.\\\n",
    "클래스에서 객체를 만든 다음, 객채만을 위한 인스턴스 변수를 클래스 외부에서 직접 정의 가능\n",
    "\n",
    "|stealth1의 인스턴스 변수 | stealth2의 인스턴스 변수\n",
    "|-|-|\n",
    "|name|name|\n",
    "|hp|hp|\n",
    "|damage|damage|\n",
    "|-|cloaking|"
   ]
  },
  {
   "cell_type": "markdown",
   "id": "73f8373b",
   "metadata": {},
   "source": [
    "### **9.2.3 메서드**"
   ]
  },
  {
   "cell_type": "code",
   "execution_count": 11,
   "id": "104d0cec",
   "metadata": {},
   "outputs": [],
   "source": [
    "# 공격 유닛\n",
    "class AttackUnit: \n",
    "    def __init__(self, name, hp, damage):\n",
    "        self.name = name\n",
    "        self.hp = hp\n",
    "        self.damage = damage\n",
    "    \n",
    "    def attack(self, location): # 전달 받은 방향으로 공격\n",
    "        print(\"{0} : {1} 방향 적군을 공격합니다. [공격력 {2}]\".format(self.name, location, self.damage))\n",
    "\n",
    "    def damaged(self, damage):\n",
    "        # 피해 정보 출력\n",
    "        print(\"{0} : {1} 만큼 피해를 입었습니다.\".format(self.name, damage))\n",
    "        self.hp -= damage # 유닛의 체력에서 전달받은 damage 만큼 감소\n",
    "\n",
    "        # 남은 체력 출력\n",
    "        print(\"{0} : 현재 체력은 {1}입니다.\".format(self.name, self.hp))\n",
    "        if self.hp <= 0:\n",
    "            print(\"{0} : 파괴됐습니다.\".format(self.name)) # hp가 0 이하면 파괴 처리"
   ]
  },
  {
   "cell_type": "code",
   "execution_count": 12,
   "id": "daf41920",
   "metadata": {},
   "outputs": [
    {
     "name": "stdout",
     "output_type": "stream",
     "text": [
      "화염방사병 : 5시 방향 적군을 공격합니다. [공격력 16]\n"
     ]
    }
   ],
   "source": [
    "flamethrower1 = AttackUnit(\"화염방사병\", 50, 16)\n",
    "flamethrower1.attack(\"5시\")"
   ]
  },
  {
   "cell_type": "code",
   "execution_count": 13,
   "id": "cdc30f11",
   "metadata": {},
   "outputs": [
    {
     "name": "stdout",
     "output_type": "stream",
     "text": [
      "화염방사병 : 25 만큼 피해를 입었습니다.\n",
      "화염방사병 : 현재 체력은 25입니다.\n",
      "화염방사병 : 25 만큼 피해를 입었습니다.\n",
      "화염방사병 : 현재 체력은 0입니다.\n",
      "화염방사병 : 파괴됐습니다.\n"
     ]
    }
   ],
   "source": [
    "flamethrower1.damaged(25)\n",
    "flamethrower1.damaged(25)"
   ]
  },
  {
   "cell_type": "markdown",
   "id": "120d137f",
   "metadata": {},
   "source": [
    "## **9.3 클래스 상속하기**\n",
    "```python\n",
    "class 자식 클래스(부모 클래스):"
   ]
  },
  {
   "cell_type": "markdown",
   "id": "022dee93",
   "metadata": {},
   "source": [
    "### **9.3.1 상속이란**\n",
    "클래스에 공통되는 부분을 중복으로 작성하지 않고 **재사용**"
   ]
  },
  {
   "cell_type": "code",
   "execution_count": 14,
   "id": "d2d6e57b",
   "metadata": {},
   "outputs": [],
   "source": [
    "# 일반 유닛\n",
    "class Unit:\n",
    "    def __init__(self, name, hp):\n",
    "        self.name = name        # 인스턴스 변수 name에 전달값 name 전달\n",
    "        self.hp = hp            # 인스턴스 변수 hp에 전달값 hp 전달\n",
    "\n",
    "\n",
    "# 공격 유닛\n",
    "class AttackUnit(Unit): \n",
    "    def __init__(self, name, hp, damage):\n",
    "        Unit.__init__(self,name,hp) # 부모 클래스의 생성자 호출\n",
    "        self.damage = damage\n",
    "        \n",
    "    def attack(self, location): # 전달 받은 방향으로 공격\n",
    "        print(\"{0} : {1} 방향 적군을 공격합니다. [공격력 {2}]\".format(self.name, location, self.damage))\n",
    "\n",
    "    def damaged(self, damage):\n",
    "        # 피해 정보 출력\n",
    "        print(\"{0} : {1} 만큼 피해를 입었습니다.\".format(self.name, damage))\n",
    "        self.hp -= damage # 유닛의 체력에서 전달받은 damage 만큼 감소\n",
    "\n",
    "        # 남은 체력 출력\n",
    "        print(\"{0} : 현재 체력은 {1}입니다.\".format(self.name, self.hp))\n",
    "        if self.hp <= 0:\n",
    "            print(\"{0} : 파괴됐습니다.\".format(self.name)) # hp가 0 이하면 파괴 처리\n"
   ]
  },
  {
   "cell_type": "code",
   "execution_count": 15,
   "id": "3ac066d0",
   "metadata": {},
   "outputs": [
    {
     "name": "stdout",
     "output_type": "stream",
     "text": [
      "화염방사병 : 5시 방향 적군을 공격합니다. [공격력 16]\n",
      "화염방사병 : 25 만큼 피해를 입었습니다.\n",
      "화염방사병 : 현재 체력은 25입니다.\n",
      "화염방사병 : 25 만큼 피해를 입었습니다.\n",
      "화염방사병 : 현재 체력은 0입니다.\n",
      "화염방사병 : 파괴됐습니다.\n"
     ]
    }
   ],
   "source": [
    "flamethrower1 = AttackUnit(\"화염방사병\", 50, 16)\n",
    "flamethrower1.attack(\"5시\")\n",
    "\n",
    "flamethrower1.damaged(25)\n",
    "flamethrower1.damaged(25)"
   ]
  },
  {
   "cell_type": "markdown",
   "id": "167fcc07",
   "metadata": {},
   "source": [
    "### **9.3.2 다중 상속**\n",
    "클래스를 2개 이상 상속받는 것\n",
    "```python\n",
    "class 자식 클래스(부모 클래스1, 부모 클래스2, ...)"
   ]
  },
  {
   "cell_type": "code",
   "execution_count": 16,
   "id": "272b4d24",
   "metadata": {},
   "outputs": [],
   "source": [
    "# 비행 가능\n",
    "class Flyable:\n",
    "    def __init__(self, flying_speed): # 비행 속도\n",
    "        self.flying_speed = flying_speed\n",
    "    \n",
    "    def fly(self, name, location):\n",
    "        print(\"{0} : {1} 방향으로 날아갑니다. [속도 {2}]\".format(self.name, location, self.flying_speed))\n",
    "\n",
    "\n",
    "# 공중 공격 유닛\n",
    "class FlyableAttackUnit(AttackUnit, Flyable):\n",
    "    def __init__(self, name, hp, damage, flying_speed):\n",
    "        AttackUnit.__init__(self, name, hp, damage)\n",
    "        Flyable.__init__(self, flying_speed)\n"
   ]
  },
  {
   "cell_type": "code",
   "execution_count": 17,
   "id": "bb1e384c",
   "metadata": {},
   "outputs": [
    {
     "name": "stdout",
     "output_type": "stream",
     "text": [
      "요격기 : 3시 방향으로 날아갑니다. [속도 5]\n"
     ]
    }
   ],
   "source": [
    "# 요격기 : 공중 공격 유닛, 미사일 여러 발을 한 번에 발사\n",
    "interceptor = FlyableAttackUnit(\"요격기\", 200, 6, 5)\n",
    "interceptor.fly(interceptor.name, \"3시\")"
   ]
  },
  {
   "cell_type": "markdown",
   "id": "3df74ec3",
   "metadata": {},
   "source": [
    "### **클래스 상속 관계**\n",
    "```text\n",
    "          ┌────────────┐       ┌────────────┐\n",
    "          │   Unit     │       │  Flyable   │\n",
    "          └─────┬──────┘       └─────┬──────┘\n",
    "                │                    │\n",
    "         ┌──────┴──────┐             │\n",
    "         │  AttackUnit │             │\n",
    "         └──────┬──────┘             │\n",
    "                │                    │\n",
    "                └──────────┬─────────┘\n",
    "                           │\n",
    "              ┌────────────┴────────────┐\n",
    "              │    FlyableAttackUnit    │\n",
    "              └─────────────────────────┘\n",
    "```"
   ]
  },
  {
   "cell_type": "markdown",
   "id": "12b134cc",
   "metadata": {},
   "source": [
    "### **9.3.3 메서드 오버라이딩**\n",
    "**- 부모 클래스의 메서드를 자식 클래스에서 새롭게 정의해 기존 동작을 개선하거나 새로운 동작을 수행하도록 하는 것**"
   ]
  },
  {
   "cell_type": "code",
   "execution_count": 18,
   "id": "4fdb162d",
   "metadata": {},
   "outputs": [],
   "source": [
    "# 일반 유닛\n",
    "class Unit:\n",
    "    def __init__(self, name, hp, speed): # speed 추가\n",
    "        self.name = name  \n",
    "        self.hp = hp       \n",
    "        self.speed = speed  # 지상 이동 속도\n",
    "    \n",
    "    def move(self, location): # 이동 동작 정의\n",
    "        print(\"[지상 유닛 이동]\")\n",
    "        print(f\"{self.name} : {location} 방향으로 이동합니다. [속도 2]\")\n",
    "\n",
    "\n",
    "# 공격 유닛\n",
    "class AttackUnit(Unit): \n",
    "    def __init__(self, name, hp, damage, speed): # speed 추가\n",
    "        Unit.__init__(self,name,hp, speed) # speed 추가\n",
    "        self.damage = damage\n",
    "        \n",
    "    def attack(self, location): \n",
    "        print(\"{0} : {1} 방향 적군을 공격합니다. [공격력 {2}]\".format(self.name, location, self.damage))\n",
    "\n",
    "    def damaged(self, damage):\n",
    "        print(\"{0} : {1} 만큼 피해를 입었습니다.\".format(self.name, damage))\n",
    "        self.hp -= damage\n",
    "        print(\"{0} : 현재 체력은 {1}입니다.\".format(self.name, self.hp))\n",
    "        if self.hp <= 0:\n",
    "            print(\"{0} : 파괴됐습니다.\".format(self.name))\n",
    "\n",
    "\n",
    "# 비행 가능\n",
    "class Flyable:\n",
    "    def __init__(self, flying_speed): # 비행 속도\n",
    "        self.flying_speed = flying_speed\n",
    "    \n",
    "    def fly(self, name, location):\n",
    "        print(\"{0} : {1} 방향으로 날아갑니다. [속도 {2}]\".format(self.name, location, self.flying_speed))\n",
    "\n",
    "\n",
    "# 공중 공격 유닛\n",
    "class FlyableAttackUnit(AttackUnit, Flyable):\n",
    "    def __init__(self, name, hp, damage, flying_speed):\n",
    "        AttackUnit.__init__(self, name, hp, damage, 0) # 지상 이동 속도 0\n",
    "        Flyable.__init__(self, flying_speed)\n"
   ]
  },
  {
   "cell_type": "code",
   "execution_count": 19,
   "id": "205c55e9",
   "metadata": {},
   "outputs": [
    {
     "name": "stdout",
     "output_type": "stream",
     "text": [
      "[지상 유닛 이동]\n",
      "호버바이크 : 11시 방향으로 이동합니다. [속도 2]\n",
      "우주 순양함 : 9시 방향으로 날아갑니다. [속도 3]\n"
     ]
    }
   ],
   "source": [
    "# 호버 바이크 : 지상 유닛, 기동성 좋음\n",
    "hoverbike = AttackUnit(\"호버바이크\", 80, 20, 10)\n",
    "\n",
    "# 우주 순양함: 공중 유닛, 체력도 굉장히 좋음, 공격력도 좋음\n",
    "spacecruiser = FlyableAttackUnit(\"우주 순양함\", 500, 25, 3)\n",
    "\n",
    "hoverbike.move(\"11시\")\n",
    "spacecruiser.fly(spacecruiser.name, \"9시\")"
   ]
  },
  {
   "cell_type": "code",
   "execution_count": 20,
   "id": "b56f24a2",
   "metadata": {},
   "outputs": [],
   "source": [
    "# 공중 공격 유닛\n",
    "class FlyableAttackUnit(AttackUnit, Flyable):\n",
    "    def __init__(self, name, hp, damage, flying_speed):\n",
    "        AttackUnit.__init__(self, name, hp, damage, 0) # 지상 이동 속도 0\n",
    "        Flyable.__init__(self, flying_speed)\n",
    "    \n",
    "    def move(self, location): # Unit 클래스의 move 메서드를 오버라이딩\n",
    "        print(\"[공중 유닛 이동]\")\n",
    "        self.fly(self.name, location)"
   ]
  },
  {
   "cell_type": "code",
   "execution_count": 21,
   "id": "d48e0d47",
   "metadata": {},
   "outputs": [
    {
     "name": "stdout",
     "output_type": "stream",
     "text": [
      "[지상 유닛 이동]\n",
      "호버바이크 : 11시 방향으로 이동합니다. [속도 2]\n",
      "[지상 유닛 이동]\n",
      "우주 순양함 : 9시 방향으로 이동합니다. [속도 2]\n"
     ]
    }
   ],
   "source": [
    "hoverbike.move(\"11시\")\n",
    "spacecruiser.move(\"9시\")"
   ]
  },
  {
   "cell_type": "markdown",
   "id": "0d112191",
   "metadata": {},
   "source": [
    "### 자식 클래스는 상속 선언만 해주면, 부모의 모든 public 속성과 메서드를 **그대로** 사용할 수 있음.\n",
    "- #### 생성자 \\_\\_init\\_\\_( ) 만 직접 호출(자동 실행 안됨)"
   ]
  },
  {
   "cell_type": "code",
   "execution_count": 22,
   "id": "7dea4245",
   "metadata": {},
   "outputs": [
    {
     "name": "stdout",
     "output_type": "stream",
     "text": [
      "패티 추가\n",
      "양상추 추가\n",
      "치즈 추가\n"
     ]
    }
   ],
   "source": [
    "# 1분 퀴즈\n",
    "\n",
    "class Burger:\n",
    "    def __init__(self):\n",
    "        self.add(\"패티\")\n",
    "        self.add(\"양상추\")\n",
    "\n",
    "    def add(self, item):\n",
    "        print(f\"{item} 추가\")\n",
    "\n",
    "class CheeseBurger(Burger):\n",
    "    def __init__(self): # 생성자 호출\n",
    "        Burger.__init__(self) \n",
    "        self.add(\"치즈\") # 부모 메서드 그대로 사용\n",
    "\n",
    "cheese_burger = CheeseBurger()"
   ]
  },
  {
   "cell_type": "markdown",
   "id": "a132485f",
   "metadata": {},
   "source": [
    "## **9.4 동작 없이 일단 넘어가기: Pass** "
   ]
  },
  {
   "cell_type": "code",
   "execution_count": 23,
   "id": "f51d3da9",
   "metadata": {},
   "outputs": [
    {
     "name": "stdout",
     "output_type": "stream",
     "text": [
      "[알림] 새로운 게임을 시작합니다.\n"
     ]
    }
   ],
   "source": [
    "# 건물 유닛\n",
    "class BuildingUnit(Unit):\n",
    "    def __init__(self, name, hp, location):\n",
    "        pass # pass를 했기 때문에 오류가 나지 않음.\n",
    "\n",
    "# 보급고: 건물 유닛, 1개 건물 유닛 = 8 유닛\n",
    "supply_depot = BuildingUnit(\"보급고\", 500, \"7시\")\n",
    "\n",
    "def game_start():\n",
    "    print(\"[알림] 새로운 게임을 시작합니다.\")\n",
    "\n",
    "def game_over():\n",
    "    pass\n",
    "\n",
    "game_start()\n",
    "game_over()"
   ]
  },
  {
   "cell_type": "markdown",
   "id": "1cf58a56",
   "metadata": {},
   "source": [
    "## **9.5 부모 클래스 호출하기: super( )**"
   ]
  },
  {
   "cell_type": "code",
   "execution_count": 24,
   "id": "53adc080",
   "metadata": {},
   "outputs": [],
   "source": [
    "# 건물 유닛\n",
    "class BuildingUnit(Unit):\n",
    "    def __init__(self, name, hp, location):  # 궁금증: 여기서는 speed를 명시하지 않아도 돼?\n",
    "        Unit.__init__(self, name, hp, 0)     # 여기서 speed 값을 직접 숫자 0으로 고정해서 넘기고 있기 때문에,\n",
    "        self.location = location             # BuildingUnit에서 speed를 받을 필요가 없습니다.\n",
    "\n",
    "# 보급고: 건물 유닛, 1개 건물 유닛 = 8 유닛\n",
    "supply_depot = BuildingUnit(\"보급고\", 500, \"7시\")"
   ]
  },
  {
   "cell_type": "code",
   "execution_count": 25,
   "id": "8c578410",
   "metadata": {},
   "outputs": [],
   "source": [
    "class BuildingUnit(Unit):\n",
    "    def __init__(self, name, hp, location):\n",
    "        super().__init__(name, hp, 0) # 부모 클래스(Unit) 접근, self 없이 사용\n",
    "        self.location = location"
   ]
  },
  {
   "cell_type": "markdown",
   "id": "40a0177c",
   "metadata": {},
   "source": [
    "**❗️ 다중 상속자일 경우에는 각 부모 클래스의 이름을 명시해서 접근**"
   ]
  },
  {
   "cell_type": "markdown",
   "id": "8b7c331c",
   "metadata": {},
   "source": [
    "## **9.6 게임 완성**"
   ]
  },
  {
   "cell_type": "code",
   "execution_count": 26,
   "id": "fbef27c4",
   "metadata": {},
   "outputs": [],
   "source": [
    "from random import *\n",
    "\n",
    "# 일반 유닛\n",
    "class Unit:\n",
    "    def __init__(self, name, hp, speed): # speed 추가\n",
    "        self.name = name  \n",
    "        self.hp = hp       \n",
    "        self.speed = speed  # 지상 이동 속도\n",
    "        print(\"{0} 유닛을 생성했습니다.\".format(self.name))\n",
    "    \n",
    "    def move(self, location): # 이동 동작 정의\n",
    "        print(f\"{self.name} : {location} 방향으로 이동합니다. [속도 {self.speed}]\")\n",
    "\n",
    "    def damaged(self, damage):\n",
    "        print(\"{0} : {1} 만큼 피해를 입었습니다.\".format(self.name, damage))\n",
    "        self.hp -= damage\n",
    "        print(\"{0} : 현재 체력은 {1}입니다.\".format(self.name, self.hp))\n",
    "        if self.hp <= 0:\n",
    "            print(\"{0} : 파괴됐습니다.\".format(self.name))\n",
    "\n",
    "\n",
    "# 공격 유닛\n",
    "class AttackUnit(Unit): \n",
    "    def __init__(self, name, hp, damage, speed): # speed 추가\n",
    "        Unit.__init__(self,name,hp, speed) # speed 추가\n",
    "        self.damage = damage\n",
    "        \n",
    "    def attack(self, location): \n",
    "        print(\"{0} : {1} 방향 적군을 공격합니다. [공격력 {2}]\".format(self.name, location, self.damage))\n",
    "\n",
    "# 보병 유닛\n",
    "class Soldier(AttackUnit):\n",
    "    def __init__(self):\n",
    "        AttackUnit.__init__(self, \"보병\", 40, 5, 1)\n",
    "\n",
    "    # 강화제: 일정 시간 동안 이동 속도와 공격 속도 증가, 체력 10 감소\n",
    "    def booster(self):\n",
    "        if self.hp > 10:\n",
    "            self.hp -= 10\n",
    "            print(\"{0} : 강화제를 사용합니다. HP 10 감소\".format(self.name))\n",
    "        \n",
    "        else:\n",
    "            print(\"{0} : 체력이 부족해 기술을 사용할 수 없습니다.\".format(self.name))\n",
    "\n",
    "\n",
    "# 탱크 유닛\n",
    "class Tank(AttackUnit):\n",
    "        \n",
    "    # 시지 모드: 탱크를 지상에 고정, 이동 불가, 공격력 증가\n",
    "    siege_developed = False\n",
    "    \n",
    "    def __init__(self):\n",
    "        super().__init__(\"탱크\", 150, 35, 1)\n",
    "        self.siege_mode = False\n",
    "\n",
    "    # 시지 모드 설정\n",
    "    def set_siege_mode(self):\n",
    "        if Tank.siege_developed == False:\n",
    "            return\n",
    "        if  self.siege_mode == False:\n",
    "            print(\"{0}: 시지 모드로 전환합니다.\".format(self.name))\n",
    "            self.damage *= 2\n",
    "            self.siege_mode = True\n",
    "\n",
    "        else:\n",
    "            print(\"{0} 시지 모드를 해제합니다.\".format(self.name)) \n",
    "            self.damage //= 2\n",
    "            self.siege_mode == False\n",
    "\n",
    "\n",
    "# 비행 가능\n",
    "class Flyable:\n",
    "    def __init__(self, flying_speed): # 비행 속도\n",
    "        self.flying_speed = flying_speed\n",
    "    \n",
    "    def fly(self, name, location):\n",
    "        print(\"{0} : {1} 방향으로 날아갑니다. [속도 {2}]\".format(self.name, location, self.flying_speed))\n",
    "\n",
    "\n",
    "# 공중 공격 유닛\n",
    "class FlyableAttackUnit(AttackUnit, Flyable):\n",
    "    def __init__(self, name, hp, damage, flying_speed):\n",
    "        AttackUnit.__init__(self, name, hp, damage, 0) # 지상 이동 속도 0\n",
    "        Flyable.__init__(self, flying_speed)\n",
    "\n",
    "    def move(self, location):\n",
    "        self.fly(self.name, location)\n",
    "\n",
    "\n",
    "# 전투기 유닛\n",
    "class Stealth(FlyableAttackUnit):\n",
    "    def __init__(self):\n",
    "        FlyableAttackUnit.__init__(self, \"전투기\", 80, 20, 5)\n",
    "        self.cloaked = False\n",
    "\n",
    "    def cloaking(self):\n",
    "        if self.cloaked == True:\n",
    "            print(\"{0} : 은폐 모드를 해제합니다.\".format(self.name))\n",
    "            self.cloaked = False\n",
    "        \n",
    "        else:\n",
    "            print(\"{0} : 은폐 모드를 설정합니다.\".format(self.name))\n",
    "            self.cloaked = True\n",
    "\n",
    "\n",
    "def game_start():\n",
    "    print(\"[알림] 새로운 게임을 시작합니다.\")\n",
    "\n",
    "def game_over():\n",
    "    print(\"Player : Good Game\")\n",
    "    print(\"[Player] 님이 게임에서 퇴장했습니다.\")"
   ]
  },
  {
   "cell_type": "markdown",
   "id": "5caf08e8",
   "metadata": {},
   "source": [
    "### **게임 시작과 유닛 생성**"
   ]
  },
  {
   "cell_type": "code",
   "execution_count": 27,
   "id": "34b6a405",
   "metadata": {},
   "outputs": [
    {
     "name": "stdout",
     "output_type": "stream",
     "text": [
      "[알림] 새로운 게임을 시작합니다.\n",
      "보병 유닛을 생성했습니다.\n",
      "보병 유닛을 생성했습니다.\n",
      "보병 유닛을 생성했습니다.\n",
      "탱크 유닛을 생성했습니다.\n",
      "탱크 유닛을 생성했습니다.\n",
      "전투기 유닛을 생성했습니다.\n"
     ]
    }
   ],
   "source": [
    "# 게임 시작\n",
    "game_start()\n",
    "\n",
    "# 보병 3기 생성\n",
    "so1 = Soldier()\n",
    "so2 = Soldier()\n",
    "so3 = Soldier()\n",
    "\n",
    "# 탱크 2기 생성\n",
    "ta1 = Tank()\n",
    "ta2 = Tank()\n",
    "\n",
    "# 전투기 1기 생성\n",
    "st1 = Stealth()"
   ]
  },
  {
   "cell_type": "markdown",
   "id": "4760449a",
   "metadata": {},
   "source": [
    "### **전군 이동과 탱크 시지 모드 개발**"
   ]
  },
  {
   "cell_type": "code",
   "execution_count": 28,
   "id": "b1f5d035",
   "metadata": {},
   "outputs": [
    {
     "name": "stdout",
     "output_type": "stream",
     "text": [
      "보병 : 1시 방향으로 이동합니다. [속도 1]\n",
      "보병 : 1시 방향으로 이동합니다. [속도 1]\n",
      "보병 : 1시 방향으로 이동합니다. [속도 1]\n",
      "탱크 : 1시 방향으로 이동합니다. [속도 1]\n",
      "탱크 : 1시 방향으로 이동합니다. [속도 1]\n",
      "전투기 : 1시 방향으로 날아갑니다. [속도 5]\n"
     ]
    }
   ],
   "source": [
    "# 유낫 일관 관리\n",
    "\n",
    "attack_units = []\n",
    "attack_units.append(so1)\n",
    "attack_units.append(so2)\n",
    "attack_units.append(so3)\n",
    "attack_units.append(ta1)\n",
    "attack_units.append(ta2)\n",
    "attack_units.append(st1)\n",
    "\n",
    "# 전군 이동\n",
    "for unit in attack_units:\n",
    "    unit.move(\"1시\")"
   ]
  },
  {
   "cell_type": "code",
   "execution_count": 29,
   "id": "9fe4d763",
   "metadata": {},
   "outputs": [
    {
     "name": "stdout",
     "output_type": "stream",
     "text": [
      "[알림]탱크의 시지 모드 개발이 완료되었습니다.\n"
     ]
    }
   ],
   "source": [
    "# 탱크 시지 모그 개발\n",
    "Tank.siege_developed = True\n",
    "\n",
    "print(\"[알림]탱크의 시지 모드 개발이 완료되었습니다.\")"
   ]
  },
  {
   "cell_type": "markdown",
   "id": "e6207267",
   "metadata": {},
   "source": [
    "### **공격 준비와 전군 공격**"
   ]
  },
  {
   "cell_type": "code",
   "execution_count": 30,
   "id": "9bd07996",
   "metadata": {},
   "outputs": [
    {
     "name": "stdout",
     "output_type": "stream",
     "text": [
      "보병 : 강화제를 사용합니다. HP 10 감소\n",
      "보병 : 강화제를 사용합니다. HP 10 감소\n",
      "보병 : 강화제를 사용합니다. HP 10 감소\n",
      "탱크: 시지 모드로 전환합니다.\n",
      "탱크: 시지 모드로 전환합니다.\n",
      "전투기 : 은폐 모드를 설정합니다.\n",
      "보병 : 1시 방향 적군을 공격합니다. [공격력 5]\n",
      "보병 : 1시 방향 적군을 공격합니다. [공격력 5]\n",
      "보병 : 1시 방향 적군을 공격합니다. [공격력 5]\n",
      "탱크 : 1시 방향 적군을 공격합니다. [공격력 70]\n",
      "탱크 : 1시 방향 적군을 공격합니다. [공격력 70]\n",
      "전투기 : 1시 방향 적군을 공격합니다. [공격력 20]\n"
     ]
    }
   ],
   "source": [
    "# 공격 모드 준비(보병: 강화제, 탱크: 시지 모드, 전투기: 은폐 모드)\n",
    "for unit in attack_units:\n",
    "    if isinstance(unit, Soldier):\n",
    "        unit.booster()\n",
    "    elif isinstance(unit, Tank):\n",
    "        unit.set_siege_mode()\n",
    "    elif isinstance(unit, Stealth):\n",
    "        unit.cloaking()\n",
    "\n",
    "for unit in attack_units:\n",
    "    unit.attack(\"1시\")"
   ]
  },
  {
   "cell_type": "markdown",
   "id": "3994fe40",
   "metadata": {},
   "source": [
    "### **전군 피해와 게임 종료**"
   ]
  },
  {
   "cell_type": "code",
   "execution_count": 31,
   "id": "5b3a983b",
   "metadata": {},
   "outputs": [
    {
     "name": "stdout",
     "output_type": "stream",
     "text": [
      "보병 : 10 만큼 피해를 입었습니다.\n",
      "보병 : 현재 체력은 20입니다.\n",
      "보병 : 6 만큼 피해를 입었습니다.\n",
      "보병 : 현재 체력은 24입니다.\n",
      "보병 : 12 만큼 피해를 입었습니다.\n",
      "보병 : 현재 체력은 18입니다.\n",
      "탱크 : 6 만큼 피해를 입었습니다.\n",
      "탱크 : 현재 체력은 144입니다.\n",
      "탱크 : 15 만큼 피해를 입었습니다.\n",
      "탱크 : 현재 체력은 135입니다.\n",
      "전투기 : 8 만큼 피해를 입었습니다.\n",
      "전투기 : 현재 체력은 72입니다.\n"
     ]
    }
   ],
   "source": [
    "for unit in attack_units:\n",
    "    unit.damaged(randint(5, 20))"
   ]
  },
  {
   "cell_type": "code",
   "execution_count": 32,
   "id": "09902baa",
   "metadata": {},
   "outputs": [
    {
     "name": "stdout",
     "output_type": "stream",
     "text": [
      "Player : Good Game\n",
      "[Player] 님이 게임에서 퇴장했습니다.\n"
     ]
    }
   ],
   "source": [
    "# 게임 종료\n",
    "game_over()"
   ]
  },
  {
   "cell_type": "markdown",
   "id": "f3280b55",
   "metadata": {},
   "source": [
    "## **9.7 최종 리뷰**"
   ]
  },
  {
   "cell_type": "markdown",
   "id": "37f8b548",
   "metadata": {},
   "source": [
    "### **클래스 상속 관계**\n",
    "\n",
    "```text\n",
    "               ┌────────────┐       ┌────────────┐\n",
    "               │   Unit     │       │  Flyable   │\n",
    "               └─────┬──────┘       └─────┬──────┘\n",
    "                     │                    │\n",
    "              ┌──────┴──────┐             │\n",
    "              │ AttackUnit  │             │\n",
    "              └────┬───┬────┘             │\n",
    "                   │   │                  │\n",
    "        ┌──────────│   └──────────────┐   |\n",
    "        │          │                  │   |\n",
    "   ┌────▼────┐┌────▼────┐      ┌──────▼───▼────────┐\n",
    "   │ Soldier ││  Tank   │      │ FlyableAttackUnit │\n",
    "   └─────────┘└─────────┘      └──────────┬────────┘\n",
    "                                          │\n",
    "                                    ┌─────▼──────┐\n",
    "                                    │  Stealth   │\n",
    "                                    └────────────┘\n",
    "\n",
    "```"
   ]
  },
  {
   "cell_type": "markdown",
   "id": "945ce4a0",
   "metadata": {},
   "source": [
    "## **9.8 실습 문제: 부동산 프로그램 만들기**"
   ]
  },
  {
   "cell_type": "markdown",
   "id": "8d068e30",
   "metadata": {},
   "source": [
    "### **문제:** 부동산 프로그램 작성\n",
    "\n",
    "### **조건:**\n",
    "- 생성자로 인스턴스 변수를 정의한다. 매물 정보를 표시하는 show_detail()메서드에서는 인스턴스 변수를 순서대로 출력한다.\n",
    "- 실행결과에 나온 3가지 매물을 객체로 만들고 총 매물 수를 출력한 뒤 show_detail() 메서드를 호출해 각 매물 정보를 표시한다.\n",
    "\n",
    "---\n",
    "```python\n",
    "class House:\n",
    "    # 매물 초기화: 위치, 건물 종류, 매물 종류, 가격, 준공연도\n",
    "    def __init__(self, location, house_type, deal_type, price, completion_year):\n",
    "        pass\n",
    "\n",
    "    # 매물 정보 표시\n",
    "    def show_detail(self):\n",
    "        pass\n",
    "```"
   ]
  },
  {
   "cell_type": "markdown",
   "id": "426e1353",
   "metadata": {},
   "source": [
    "---\n",
    "##### 실행결과\n",
    "```text \n",
    "총 3가지 매물이 있습니다.\n",
    "강남 아파트 매매 10억 원 2010년\n",
    "마포 오피스텔 전세 5억 원 2007년\n",
    "송파 빌라 월세 500/50만 원 2000년\n",
    "```"
   ]
  },
  {
   "cell_type": "code",
   "execution_count": 36,
   "id": "8d0380eb",
   "metadata": {},
   "outputs": [],
   "source": [
    "class House:\n",
    "    # 매물 초기화: 위치, 건물 종류, 매물 종류, 가격, 준공연도\n",
    "    def __init__(self, location, house_type, deal_type, price, completion_year):\n",
    "        self.location = location\n",
    "        self.house_type = house_type\n",
    "        self.deal_type = deal_type\n",
    "        self.price = price\n",
    "        self.completion_year = completion_year\n",
    "\n",
    "    # 매물 정보 표시\n",
    "    def show_detail(self):\n",
    "        print(f\"{self.location} {self.house_type} {self.deal_type} {self.price} {self.completion_year}\")"
   ]
  },
  {
   "cell_type": "code",
   "execution_count": 37,
   "id": "6eb8e2cb",
   "metadata": {},
   "outputs": [],
   "source": [
    "강남 = House(\"강남\", \"아파트\", \"매매\", \"10억원\", \"2010년\")\n",
    "마포 = House(\"마포\", \"오피스텔\", \"전세\", \"5억원\", \"2007년\")\n",
    "송파 = House(\"송파\", \"빌라\", \"월세\", \"500/50만원\", \"2000년\")"
   ]
  },
  {
   "cell_type": "code",
   "execution_count": 45,
   "id": "15d5f100",
   "metadata": {},
   "outputs": [
    {
     "name": "stdout",
     "output_type": "stream",
     "text": [
      "총 3개의 매물이 있습니다.\n",
      "강남 아파트 매매 10억원 2010년\n",
      "마포 오피스텔 전세 5억원 2007년\n",
      "송파 빌라 월세 500/50만원 2000년\n"
     ]
    }
   ],
   "source": [
    "\n",
    "매물 = []\n",
    "매물.append(강남)\n",
    "매물.append(마포)\n",
    "매물.append(송파)\n",
    "\n",
    "print(f\"총 {len(매물)}개의 매물이 있습니다.\")\n",
    "\n",
    "for house in 매물:\n",
    "    house.show_detail()"
   ]
  },
  {
   "cell_type": "markdown",
   "id": "7749e1d5",
   "metadata": {},
   "source": [
    "**셀프체크**\n",
    "\n",
    "문제 \n",
    "\n",
    "주어진 코드를 활용해 주차 차량 등록 관리 프로그램을 작성하세요.\n",
    "\n",
    "조건\n",
    "\n",
    "1. 총 주차 가능 대수인 capacity는 객체를 생성할 때 전달받아 인스턴스 변수로 정의한다.\n",
    "\n",
    "2. 현재 등록된 차량 수를 관리하는 count는 객체를 생성할 때 0으로 정의한다.\n",
    "\n",
    "3. 객체를 생성할 때 등록 가능한 대수를 출력한다.\n",
    "\n",
    "4. 차를 신규 등록하는 register() 함수를 정의한다.\n",
    "\n",
    "5. 신규 등록 시 등록 현황을 출력한다.\n",
    "\n",
    "6. 총 주차 가능 대수를 초과하는 경우 “더 이상 등록할 수 없습니다.”라는 메시지를 출력한다."
   ]
  },
  {
   "cell_type": "markdown",
   "id": "41d50ad7",
   "metadata": {},
   "source": [
    "---\n",
    "```python\n",
    "class ParkingManager:\n",
    "    # 주차 정보 초기화: 총 주차 가능 대수\n",
    "    def __init__(self, capacity):\n",
    "        pass\n",
    "\n",
    "    # 신규 차량 등록\n",
    "    def register(self):\n",
    "        pass\n",
    "\n",
    "# 테스트 코드\n",
    "manager = ParkingManager(5)\n",
    "for i in range(6):\n",
    "    manager.register()\n",
    "```\n",
    "---"
   ]
  },
  {
   "cell_type": "markdown",
   "id": "7b1663d0",
   "metadata": {},
   "source": [
    "```text\n",
    "실행결과\n",
    "총 5대를 등록할 수 있습니다.\n",
    "차량 신규 등록 (1/5)\n",
    "차량 신규 등록 (2/5)\n",
    "차량 신규 등록 (3/5)\n",
    "차량 신규 등록 (4/5)\n",
    "차량 신규 등록 (5/5)\n",
    "더 이상 등록할 수 없습니다."
   ]
  },
  {
   "cell_type": "code",
   "execution_count": 50,
   "id": "d599680b",
   "metadata": {},
   "outputs": [
    {
     "name": "stdout",
     "output_type": "stream",
     "text": [
      "총 5대를 등록할 수 있습니다.\n",
      "차량 신규 등록 (1/5)\n",
      "차량 신규 등록 (2/5)\n",
      "차량 신규 등록 (3/5)\n",
      "차량 신규 등록 (4/5)\n",
      "차량 신규 등록 (5/5)\n",
      "더 이상 등록할 수 없습니다.\n"
     ]
    }
   ],
   "source": [
    "class ParkingManager:\n",
    "\n",
    "    # 주차 정보 초기화: 총 주차 가능 대수\n",
    "    def __init__(self, capacity):\n",
    "        self.count = 0\n",
    "        self.capacity = capacity\n",
    "        print(f\"총 {capacity}대를 등록할 수 있습니다.\")\n",
    "\n",
    "    # 신규 차량 등록\n",
    "    def register(self):\n",
    "        if self.capacity == self.count:\n",
    "            print(\"더 이상 등록할 수 없습니다.\")\n",
    "        \n",
    "        else:\n",
    "            self.count += 1\n",
    "            print(\"차량 신규 등록 ({0}/{1})\".format(self.count, self.capacity))\n",
    "            \n",
    "\n",
    "# 테스트 코드\n",
    "manager = ParkingManager(5)\n",
    "for i in range(6):\n",
    "    manager.register()"
   ]
  }
 ],
 "metadata": {
  "kernelspec": {
   "display_name": "3.10.13",
   "language": "python",
   "name": "python3"
  },
  "language_info": {
   "codemirror_mode": {
    "name": "ipython",
    "version": 3
   },
   "file_extension": ".py",
   "mimetype": "text/x-python",
   "name": "python",
   "nbconvert_exporter": "python",
   "pygments_lexer": "ipython3",
   "version": "3.10.13"
  }
 },
 "nbformat": 4,
 "nbformat_minor": 5
}
